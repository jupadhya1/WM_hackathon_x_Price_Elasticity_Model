{
 "cells": [
  {
   "cell_type": "code",
   "execution_count": 1,
   "id": "f239edc9",
   "metadata": {},
   "outputs": [],
   "source": [
    "%load_ext autoreload\n",
    "%autoreload 2"
   ]
  },
  {
   "cell_type": "markdown",
   "id": "b7531b33",
   "metadata": {},
   "source": [
    "# <span style=\"color:#c6aa3d\">0. Importing libraries and defining paths</span><a class=\"anchor\" id=\"0-bullet\"></a>"
   ]
  },
  {
   "cell_type": "markdown",
   "id": "09efad31",
   "metadata": {},
   "source": [
    "### 0.1 Importing libraries"
   ]
  },
  {
   "cell_type": "code",
   "execution_count": 2,
   "id": "be7e5d1c",
   "metadata": {},
   "outputs": [
    {
     "name": "stderr",
     "output_type": "stream",
     "text": [
      "C:\\Users\\Asus\\anaconda3\\lib\\site-packages\\statsmodels\\tsa\\base\\tsa_model.py:7: FutureWarning: pandas.Int64Index is deprecated and will be removed from pandas in a future version. Use pandas.Index with the appropriate dtype instead.\n",
      "  from pandas import (to_datetime, Int64Index, DatetimeIndex, Period,\n",
      "C:\\Users\\Asus\\anaconda3\\lib\\site-packages\\statsmodels\\tsa\\base\\tsa_model.py:7: FutureWarning: pandas.Float64Index is deprecated and will be removed from pandas in a future version. Use pandas.Index with the appropriate dtype instead.\n",
      "  from pandas import (to_datetime, Int64Index, DatetimeIndex, Period,\n"
     ]
    }
   ],
   "source": [
    "# Importing python libraries\n",
    "import sys\n",
    "import os\n",
    "import joblib\n",
    "import tqdm\n",
    "import numpy as np\n",
    "import pandas as pd\n",
    "import matplotlib.pyplot as plt\n",
    "import seaborn as sns\n",
    "import multiprocessing\n",
    "import random\n",
    "from sklearn.linear_model import LinearRegression, Ridge, Lasso, ElasticNet\n",
    "from datetime import date, datetime\n",
    "from fbprophet.make_holidays import make_holidays_df\n",
    "from multiprocessing import Pool,cpu_count\n",
    "import statsmodels.api as sm\n",
    "from joblib import Parallel, delayed"
   ]
  },
  {
   "cell_type": "code",
   "execution_count": 3,
   "id": "5623c500",
   "metadata": {},
   "outputs": [],
   "source": [
    "# Setting the default max row and column display\n",
    "pd.set_option(\"display.max_columns\", 500)\n",
    "pd.set_option(\"display.max_rows\", 500)"
   ]
  },
  {
   "cell_type": "code",
   "execution_count": 4,
   "id": "4c56bb69",
   "metadata": {},
   "outputs": [],
   "source": [
    "# Path to src folder\n",
    "SCRIPT_DIR = os.path.dirname(os.path.realpath(os.path.join(os.getcwd())))\n",
    "sys.path.append(SCRIPT_DIR)\n",
    "\n",
    "# Import own scripts\n",
    "import src.config as config\n",
    "import src.custom_funcs as custom_funcs\n",
    "from src.util import *\n",
    "from src.run_pool import generate_2_steps_models\n",
    "import src.core.feature_creation as fc\n",
    "import src.core.globals as glob"
   ]
  },
  {
   "cell_type": "markdown",
   "id": "f260d1fa",
   "metadata": {},
   "source": [
    "### 0.2 Defining paths"
   ]
  },
  {
   "cell_type": "code",
   "execution_count": 5,
   "id": "a3eb7f6a",
   "metadata": {},
   "outputs": [],
   "source": [
    "# a string to create different output folder and not overwrite results\n",
    "label_out = 'simple_model_total_test'"
   ]
  },
  {
   "cell_type": "code",
   "execution_count": 6,
   "id": "39a3a6e1",
   "metadata": {},
   "outputs": [],
   "source": [
    "# Input/Output Folder\n",
    "raw_data_path = \"./../data/raw/\"\n",
    "interim_data_path = \"./../data/interim/\"\n",
    "\n",
    "model_output_path = \"./model/\"+label_out+\"/\"\n",
    "notebook_output_path = \"./output/1. Baseline calculation/\"\n",
    "baseline_interim_out_path = \"./interim_output/1. Baseline calculation/\"\n",
    "\n",
    "if not os.path.exists(model_output_path):\n",
    "    print(model_output_path)\n",
    "    os.mkdir(model_output_path)"
   ]
  },
  {
   "cell_type": "markdown",
   "id": "159c1c77",
   "metadata": {},
   "source": [
    "# <span style=\"color:#c6aa3d\">1. Processing sales data</span><a class=\"anchor\" id=\"1-bullet\"></a>"
   ]
  },
  {
   "cell_type": "markdown",
   "id": "4d3f5753",
   "metadata": {},
   "source": [
    "### 1.1 Reading and combining Sales Data"
   ]
  },
  {
   "cell_type": "code",
   "execution_count": 7,
   "id": "f5cebaad",
   "metadata": {},
   "outputs": [],
   "source": [
    "df_sales_2020 = pd.read_csv(raw_data_path + \"20220303_Sales_2020.csv\", dtype=config.sales_data_col_types)"
   ]
  },
  {
   "cell_type": "code",
   "execution_count": 8,
   "id": "8207d27e",
   "metadata": {},
   "outputs": [],
   "source": [
    "df_sales_2021 = pd.read_csv(raw_data_path + \"20220303_Sales_2021.csv\", dtype=config.sales_data_col_types)"
   ]
  },
  {
   "cell_type": "code",
   "execution_count": 9,
   "id": "e0afe8f7",
   "metadata": {},
   "outputs": [],
   "source": [
    "df_sales_2022 = pd.read_csv(raw_data_path + \"20220303_Sales_2022.csv\", dtype=config.sales_data_col_types)"
   ]
  },
  {
   "cell_type": "code",
   "execution_count": 10,
   "id": "24dc5200",
   "metadata": {},
   "outputs": [
    {
     "name": "stdout",
     "output_type": "stream",
     "text": [
      "2020 data shape: (1615509, 49), 2021 data shape: (1573716, 49), 2022 data shape: (318520, 49)\n"
     ]
    }
   ],
   "source": [
    "# Printing shapes of all sales datasets\n",
    "print(f\"2020 data shape: {df_sales_2020.shape}, 2021 data shape: {df_sales_2021.shape}, 2022 data shape: {df_sales_2022.shape}\")"
   ]
  },
  {
   "cell_type": "code",
   "execution_count": 11,
   "id": "ee5ec19b",
   "metadata": {},
   "outputs": [
    {
     "data": {
      "text/html": [
       "<div>\n",
       "<style scoped>\n",
       "    .dataframe tbody tr th:only-of-type {\n",
       "        vertical-align: middle;\n",
       "    }\n",
       "\n",
       "    .dataframe tbody tr th {\n",
       "        vertical-align: top;\n",
       "    }\n",
       "\n",
       "    .dataframe thead th {\n",
       "        text-align: right;\n",
       "    }\n",
       "</style>\n",
       "<table border=\"1\" class=\"dataframe\">\n",
       "  <thead>\n",
       "    <tr style=\"text-align: right;\">\n",
       "      <th></th>\n",
       "      <th>DATES</th>\n",
       "      <th>STORE_NUMBER</th>\n",
       "      <th>STORE_NAME</th>\n",
       "      <th>POS_NUMBER</th>\n",
       "      <th>TICKET_NUMBER</th>\n",
       "      <th>CHANNEL</th>\n",
       "      <th>DEPARTMANT</th>\n",
       "      <th>SUBDEPARTMENT</th>\n",
       "      <th>CLASS</th>\n",
       "      <th>SUBCLASS</th>\n",
       "      <th>BRAND_GROUP</th>\n",
       "      <th>BRAND_NAME</th>\n",
       "      <th>SUPPLIER_GROUP</th>\n",
       "      <th>SUPPLIER_NAME</th>\n",
       "      <th>SKU_NUMBER</th>\n",
       "      <th>PRODUCT_NAME</th>\n",
       "      <th>PRODUCT_IBC</th>\n",
       "      <th>PRODUCT_SBC</th>\n",
       "      <th>PRODUCT_ORIGINAL_PRICE</th>\n",
       "      <th>PRODUCT_REGULAR_PRICE</th>\n",
       "      <th>PRODUCT_STATUS</th>\n",
       "      <th>PRODUCT_CATALOG_NUMBER</th>\n",
       "      <th>PRODUCT_SEASONAL_CODE</th>\n",
       "      <th>PRODUCT_SIZE_AND_COLOR</th>\n",
       "      <th>PRODUCT_COLOR</th>\n",
       "      <th>PRODUCT_MANUFACTURER_NUMBER</th>\n",
       "      <th>PRODUCT_SIZES</th>\n",
       "      <th>PRODUCT_SEASON</th>\n",
       "      <th>PRODUCT_SEASON_DESC</th>\n",
       "      <th>CREDIT_CONSIGN</th>\n",
       "      <th>MEMBER_ID</th>\n",
       "      <th>SALES_QUANTITY</th>\n",
       "      <th>PERMANENT_MARKDOWN_EXC_VAT</th>\n",
       "      <th>PERMANENT_MARKDOWN_INC_VAT</th>\n",
       "      <th>GROSS_SALES_EXC_VAT</th>\n",
       "      <th>GROSS_SALES_INC_VAT</th>\n",
       "      <th>PROMOTION_MARKDOWN_EXC_VAT</th>\n",
       "      <th>PROMOTION_MARKDOWN_INC_VAT</th>\n",
       "      <th>TOTAL_DISCOUNT_AMT_INC_VAT</th>\n",
       "      <th>TOTAL_DISCOUNT_AMT_EXC_VAT</th>\n",
       "      <th>EPOS_MARKDOWN_EXC_VAT</th>\n",
       "      <th>EPOS_MARKDOWN_INC_VAT</th>\n",
       "      <th>NET_SALES_AMT_EXC_VAT</th>\n",
       "      <th>NET_SALES_AMT_INC_VAT</th>\n",
       "      <th>DISCOUNT_SHARING_AMT</th>\n",
       "      <th>SPECIAL_GP_AMT</th>\n",
       "      <th>PROMOTION_REBATE_AMT</th>\n",
       "      <th>COST_OF_GOODS_SOLD</th>\n",
       "      <th>NET_MARGIN_AMT_EXC_VAT</th>\n",
       "    </tr>\n",
       "  </thead>\n",
       "  <tbody>\n",
       "    <tr>\n",
       "      <th>0</th>\n",
       "      <td>20200101</td>\n",
       "      <td>10102</td>\n",
       "      <td>Chidlom</td>\n",
       "      <td>NaN</td>\n",
       "      <td>NaN</td>\n",
       "      <td>Offline</td>\n",
       "      <td>003 - WOMEN</td>\n",
       "      <td>302 - MISSY APPARELS</td>\n",
       "      <td>104 - OUTERWEAR</td>\n",
       "      <td>002 - COAT</td>\n",
       "      <td>CLAUDIA KLEID</td>\n",
       "      <td>CLAUDIA KLEID</td>\n",
       "      <td>Others</td>\n",
       "      <td>P.N.L.CO.,LTD.</td>\n",
       "      <td>1602292</td>\n",
       "      <td>เสื้อชุดสตรี CLAUDIA KLEID</td>\n",
       "      <td>6234737</td>\n",
       "      <td>0</td>\n",
       "      <td>0.0</td>\n",
       "      <td>0.0</td>\n",
       "      <td>Active</td>\n",
       "      <td>999</td>\n",
       "      <td>NON</td>\n",
       "      <td>0.00</td>\n",
       "      <td>0.00</td>\n",
       "      <td></td>\n",
       "      <td>NaN</td>\n",
       "      <td>NON</td>\n",
       "      <td>NaN</td>\n",
       "      <td>Consignment</td>\n",
       "      <td>NaN</td>\n",
       "      <td>2</td>\n",
       "      <td>0.0</td>\n",
       "      <td>0.0</td>\n",
       "      <td>7084.10</td>\n",
       "      <td>7580.0</td>\n",
       "      <td>0.0</td>\n",
       "      <td>0.0</td>\n",
       "      <td>3674.00</td>\n",
       "      <td>3433.64</td>\n",
       "      <td>0.0</td>\n",
       "      <td>0.0</td>\n",
       "      <td>3650.46</td>\n",
       "      <td>3906.00</td>\n",
       "      <td>1137.0</td>\n",
       "      <td>379.0</td>\n",
       "      <td>0.0</td>\n",
       "      <td>3230.3551</td>\n",
       "      <td>420.1049</td>\n",
       "    </tr>\n",
       "    <tr>\n",
       "      <th>1</th>\n",
       "      <td>20200102</td>\n",
       "      <td>10102</td>\n",
       "      <td>Chidlom</td>\n",
       "      <td>NaN</td>\n",
       "      <td>NaN</td>\n",
       "      <td>Offline</td>\n",
       "      <td>003 - WOMEN</td>\n",
       "      <td>302 - MISSY APPARELS</td>\n",
       "      <td>104 - OUTERWEAR</td>\n",
       "      <td>002 - COAT</td>\n",
       "      <td>CLAUDIA KLEID</td>\n",
       "      <td>CLAUDIA KLEID</td>\n",
       "      <td>Others</td>\n",
       "      <td>P.N.L.CO.,LTD.</td>\n",
       "      <td>1602292</td>\n",
       "      <td>เสื้อชุดสตรี CLAUDIA KLEID</td>\n",
       "      <td>6234737</td>\n",
       "      <td>0</td>\n",
       "      <td>0.0</td>\n",
       "      <td>0.0</td>\n",
       "      <td>Active</td>\n",
       "      <td>999</td>\n",
       "      <td>NON</td>\n",
       "      <td>0.00</td>\n",
       "      <td>0.00</td>\n",
       "      <td></td>\n",
       "      <td>NaN</td>\n",
       "      <td>NON</td>\n",
       "      <td>NaN</td>\n",
       "      <td>Consignment</td>\n",
       "      <td>NaN</td>\n",
       "      <td>1</td>\n",
       "      <td>0.0</td>\n",
       "      <td>0.0</td>\n",
       "      <td>3448.60</td>\n",
       "      <td>3690.0</td>\n",
       "      <td>0.0</td>\n",
       "      <td>0.0</td>\n",
       "      <td>1161.83</td>\n",
       "      <td>1085.82</td>\n",
       "      <td>0.0</td>\n",
       "      <td>0.0</td>\n",
       "      <td>2362.78</td>\n",
       "      <td>2528.17</td>\n",
       "      <td>553.5</td>\n",
       "      <td>184.5</td>\n",
       "      <td>0.0</td>\n",
       "      <td>1572.5607</td>\n",
       "      <td>790.2193</td>\n",
       "    </tr>\n",
       "    <tr>\n",
       "      <th>2</th>\n",
       "      <td>20200102</td>\n",
       "      <td>10102</td>\n",
       "      <td>Chidlom</td>\n",
       "      <td>NaN</td>\n",
       "      <td>NaN</td>\n",
       "      <td>Offline</td>\n",
       "      <td>003 - WOMEN</td>\n",
       "      <td>302 - MISSY APPARELS</td>\n",
       "      <td>104 - OUTERWEAR</td>\n",
       "      <td>002 - COAT</td>\n",
       "      <td>CLAUDIA KLEID</td>\n",
       "      <td>CLAUDIA KLEID</td>\n",
       "      <td>Others</td>\n",
       "      <td>P.N.L.CO.,LTD.</td>\n",
       "      <td>1602292</td>\n",
       "      <td>เสื้อชุดสตรี CLAUDIA KLEID</td>\n",
       "      <td>6234737</td>\n",
       "      <td>0</td>\n",
       "      <td>0.0</td>\n",
       "      <td>0.0</td>\n",
       "      <td>Active</td>\n",
       "      <td>999</td>\n",
       "      <td>NON</td>\n",
       "      <td>0.00</td>\n",
       "      <td>0.00</td>\n",
       "      <td></td>\n",
       "      <td>NaN</td>\n",
       "      <td>NON</td>\n",
       "      <td>NaN</td>\n",
       "      <td>Consignment</td>\n",
       "      <td>NaN</td>\n",
       "      <td>5</td>\n",
       "      <td>0.0</td>\n",
       "      <td>0.0</td>\n",
       "      <td>17803.75</td>\n",
       "      <td>19050.0</td>\n",
       "      <td>0.0</td>\n",
       "      <td>0.0</td>\n",
       "      <td>5334.00</td>\n",
       "      <td>4985.05</td>\n",
       "      <td>0.0</td>\n",
       "      <td>0.0</td>\n",
       "      <td>12818.70</td>\n",
       "      <td>13716.00</td>\n",
       "      <td>2667.0</td>\n",
       "      <td>952.5</td>\n",
       "      <td>0.0</td>\n",
       "      <td>8309.0046</td>\n",
       "      <td>4509.6954</td>\n",
       "    </tr>\n",
       "    <tr>\n",
       "      <th>3</th>\n",
       "      <td>20200103</td>\n",
       "      <td>10102</td>\n",
       "      <td>Chidlom</td>\n",
       "      <td>NaN</td>\n",
       "      <td>NaN</td>\n",
       "      <td>Offline</td>\n",
       "      <td>003 - WOMEN</td>\n",
       "      <td>302 - MISSY APPARELS</td>\n",
       "      <td>104 - OUTERWEAR</td>\n",
       "      <td>002 - COAT</td>\n",
       "      <td>CLAUDIA KLEID</td>\n",
       "      <td>CLAUDIA KLEID</td>\n",
       "      <td>Others</td>\n",
       "      <td>P.N.L.CO.,LTD.</td>\n",
       "      <td>1602292</td>\n",
       "      <td>เสื้อชุดสตรี CLAUDIA KLEID</td>\n",
       "      <td>6234737</td>\n",
       "      <td>0</td>\n",
       "      <td>0.0</td>\n",
       "      <td>0.0</td>\n",
       "      <td>Active</td>\n",
       "      <td>999</td>\n",
       "      <td>NON</td>\n",
       "      <td>0.00</td>\n",
       "      <td>0.00</td>\n",
       "      <td></td>\n",
       "      <td>NaN</td>\n",
       "      <td>NON</td>\n",
       "      <td>NaN</td>\n",
       "      <td>Consignment</td>\n",
       "      <td>NaN</td>\n",
       "      <td>7</td>\n",
       "      <td>0.0</td>\n",
       "      <td>0.0</td>\n",
       "      <td>17504.69</td>\n",
       "      <td>18730.0</td>\n",
       "      <td>0.0</td>\n",
       "      <td>0.0</td>\n",
       "      <td>6683.37</td>\n",
       "      <td>6246.15</td>\n",
       "      <td>0.0</td>\n",
       "      <td>0.0</td>\n",
       "      <td>11258.54</td>\n",
       "      <td>12046.63</td>\n",
       "      <td>2799.0</td>\n",
       "      <td>936.5</td>\n",
       "      <td>0.0</td>\n",
       "      <td>7992.6307</td>\n",
       "      <td>3265.9093</td>\n",
       "    </tr>\n",
       "    <tr>\n",
       "      <th>4</th>\n",
       "      <td>20200103</td>\n",
       "      <td>10102</td>\n",
       "      <td>Chidlom</td>\n",
       "      <td>NaN</td>\n",
       "      <td>NaN</td>\n",
       "      <td>Offline</td>\n",
       "      <td>003 - WOMEN</td>\n",
       "      <td>302 - MISSY APPARELS</td>\n",
       "      <td>104 - OUTERWEAR</td>\n",
       "      <td>002 - COAT</td>\n",
       "      <td>CLAUDIA KLEID</td>\n",
       "      <td>CLAUDIA KLEID</td>\n",
       "      <td>Others</td>\n",
       "      <td>P.N.L.CO.,LTD.</td>\n",
       "      <td>1602292</td>\n",
       "      <td>เสื้อชุดสตรี CLAUDIA KLEID</td>\n",
       "      <td>6234737</td>\n",
       "      <td>0</td>\n",
       "      <td>0.0</td>\n",
       "      <td>0.0</td>\n",
       "      <td>Active</td>\n",
       "      <td>999</td>\n",
       "      <td>NON</td>\n",
       "      <td>0.00</td>\n",
       "      <td>0.00</td>\n",
       "      <td></td>\n",
       "      <td>NaN</td>\n",
       "      <td>NON</td>\n",
       "      <td>NaN</td>\n",
       "      <td>Consignment</td>\n",
       "      <td>NaN</td>\n",
       "      <td>13</td>\n",
       "      <td>0.0</td>\n",
       "      <td>0.0</td>\n",
       "      <td>44644.85</td>\n",
       "      <td>47770.0</td>\n",
       "      <td>0.0</td>\n",
       "      <td>0.0</td>\n",
       "      <td>14331.00</td>\n",
       "      <td>13393.46</td>\n",
       "      <td>0.0</td>\n",
       "      <td>0.0</td>\n",
       "      <td>31251.39</td>\n",
       "      <td>33439.00</td>\n",
       "      <td>7165.5</td>\n",
       "      <td>2388.5</td>\n",
       "      <td>0.0</td>\n",
       "      <td>20358.0561</td>\n",
       "      <td>10893.3339</td>\n",
       "    </tr>\n",
       "  </tbody>\n",
       "</table>\n",
       "</div>"
      ],
      "text/plain": [
       "      DATES STORE_NUMBER STORE_NAME POS_NUMBER TICKET_NUMBER  CHANNEL  \\\n",
       "0  20200101        10102    Chidlom        NaN           NaN  Offline   \n",
       "1  20200102        10102    Chidlom        NaN           NaN  Offline   \n",
       "2  20200102        10102    Chidlom        NaN           NaN  Offline   \n",
       "3  20200103        10102    Chidlom        NaN           NaN  Offline   \n",
       "4  20200103        10102    Chidlom        NaN           NaN  Offline   \n",
       "\n",
       "    DEPARTMANT         SUBDEPARTMENT            CLASS    SUBCLASS  \\\n",
       "0  003 - WOMEN  302 - MISSY APPARELS  104 - OUTERWEAR  002 - COAT   \n",
       "1  003 - WOMEN  302 - MISSY APPARELS  104 - OUTERWEAR  002 - COAT   \n",
       "2  003 - WOMEN  302 - MISSY APPARELS  104 - OUTERWEAR  002 - COAT   \n",
       "3  003 - WOMEN  302 - MISSY APPARELS  104 - OUTERWEAR  002 - COAT   \n",
       "4  003 - WOMEN  302 - MISSY APPARELS  104 - OUTERWEAR  002 - COAT   \n",
       "\n",
       "     BRAND_GROUP     BRAND_NAME SUPPLIER_GROUP   SUPPLIER_NAME SKU_NUMBER  \\\n",
       "0  CLAUDIA KLEID  CLAUDIA KLEID         Others  P.N.L.CO.,LTD.    1602292   \n",
       "1  CLAUDIA KLEID  CLAUDIA KLEID         Others  P.N.L.CO.,LTD.    1602292   \n",
       "2  CLAUDIA KLEID  CLAUDIA KLEID         Others  P.N.L.CO.,LTD.    1602292   \n",
       "3  CLAUDIA KLEID  CLAUDIA KLEID         Others  P.N.L.CO.,LTD.    1602292   \n",
       "4  CLAUDIA KLEID  CLAUDIA KLEID         Others  P.N.L.CO.,LTD.    1602292   \n",
       "\n",
       "                 PRODUCT_NAME PRODUCT_IBC PRODUCT_SBC  PRODUCT_ORIGINAL_PRICE  \\\n",
       "0  เสื้อชุดสตรี CLAUDIA KLEID     6234737           0                     0.0   \n",
       "1  เสื้อชุดสตรี CLAUDIA KLEID     6234737           0                     0.0   \n",
       "2  เสื้อชุดสตรี CLAUDIA KLEID     6234737           0                     0.0   \n",
       "3  เสื้อชุดสตรี CLAUDIA KLEID     6234737           0                     0.0   \n",
       "4  เสื้อชุดสตรี CLAUDIA KLEID     6234737           0                     0.0   \n",
       "\n",
       "   PRODUCT_REGULAR_PRICE PRODUCT_STATUS PRODUCT_CATALOG_NUMBER  \\\n",
       "0                    0.0         Active                    999   \n",
       "1                    0.0         Active                    999   \n",
       "2                    0.0         Active                    999   \n",
       "3                    0.0         Active                    999   \n",
       "4                    0.0         Active                    999   \n",
       "\n",
       "  PRODUCT_SEASONAL_CODE PRODUCT_SIZE_AND_COLOR PRODUCT_COLOR  \\\n",
       "0                   NON                   0.00          0.00   \n",
       "1                   NON                   0.00          0.00   \n",
       "2                   NON                   0.00          0.00   \n",
       "3                   NON                   0.00          0.00   \n",
       "4                   NON                   0.00          0.00   \n",
       "\n",
       "  PRODUCT_MANUFACTURER_NUMBER PRODUCT_SIZES PRODUCT_SEASON  \\\n",
       "0                                       NaN            NON   \n",
       "1                                       NaN            NON   \n",
       "2                                       NaN            NON   \n",
       "3                                       NaN            NON   \n",
       "4                                       NaN            NON   \n",
       "\n",
       "  PRODUCT_SEASON_DESC CREDIT_CONSIGN MEMBER_ID  SALES_QUANTITY  \\\n",
       "0                 NaN    Consignment       NaN               2   \n",
       "1                 NaN    Consignment       NaN               1   \n",
       "2                 NaN    Consignment       NaN               5   \n",
       "3                 NaN    Consignment       NaN               7   \n",
       "4                 NaN    Consignment       NaN              13   \n",
       "\n",
       "   PERMANENT_MARKDOWN_EXC_VAT  PERMANENT_MARKDOWN_INC_VAT  \\\n",
       "0                         0.0                         0.0   \n",
       "1                         0.0                         0.0   \n",
       "2                         0.0                         0.0   \n",
       "3                         0.0                         0.0   \n",
       "4                         0.0                         0.0   \n",
       "\n",
       "   GROSS_SALES_EXC_VAT  GROSS_SALES_INC_VAT  PROMOTION_MARKDOWN_EXC_VAT  \\\n",
       "0              7084.10               7580.0                         0.0   \n",
       "1              3448.60               3690.0                         0.0   \n",
       "2             17803.75              19050.0                         0.0   \n",
       "3             17504.69              18730.0                         0.0   \n",
       "4             44644.85              47770.0                         0.0   \n",
       "\n",
       "   PROMOTION_MARKDOWN_INC_VAT  TOTAL_DISCOUNT_AMT_INC_VAT  \\\n",
       "0                         0.0                     3674.00   \n",
       "1                         0.0                     1161.83   \n",
       "2                         0.0                     5334.00   \n",
       "3                         0.0                     6683.37   \n",
       "4                         0.0                    14331.00   \n",
       "\n",
       "   TOTAL_DISCOUNT_AMT_EXC_VAT  EPOS_MARKDOWN_EXC_VAT  EPOS_MARKDOWN_INC_VAT  \\\n",
       "0                     3433.64                    0.0                    0.0   \n",
       "1                     1085.82                    0.0                    0.0   \n",
       "2                     4985.05                    0.0                    0.0   \n",
       "3                     6246.15                    0.0                    0.0   \n",
       "4                    13393.46                    0.0                    0.0   \n",
       "\n",
       "   NET_SALES_AMT_EXC_VAT  NET_SALES_AMT_INC_VAT  DISCOUNT_SHARING_AMT  \\\n",
       "0                3650.46                3906.00                1137.0   \n",
       "1                2362.78                2528.17                 553.5   \n",
       "2               12818.70               13716.00                2667.0   \n",
       "3               11258.54               12046.63                2799.0   \n",
       "4               31251.39               33439.00                7165.5   \n",
       "\n",
       "   SPECIAL_GP_AMT  PROMOTION_REBATE_AMT  COST_OF_GOODS_SOLD  \\\n",
       "0           379.0                   0.0           3230.3551   \n",
       "1           184.5                   0.0           1572.5607   \n",
       "2           952.5                   0.0           8309.0046   \n",
       "3           936.5                   0.0           7992.6307   \n",
       "4          2388.5                   0.0          20358.0561   \n",
       "\n",
       "   NET_MARGIN_AMT_EXC_VAT  \n",
       "0                420.1049  \n",
       "1                790.2193  \n",
       "2               4509.6954  \n",
       "3               3265.9093  \n",
       "4              10893.3339  "
      ]
     },
     "execution_count": 11,
     "metadata": {},
     "output_type": "execute_result"
    }
   ],
   "source": [
    "df_sales_2020.head()"
   ]
  },
  {
   "cell_type": "code",
   "execution_count": 12,
   "id": "a087cb51",
   "metadata": {},
   "outputs": [
    {
     "data": {
      "text/html": [
       "<div>\n",
       "<style scoped>\n",
       "    .dataframe tbody tr th:only-of-type {\n",
       "        vertical-align: middle;\n",
       "    }\n",
       "\n",
       "    .dataframe tbody tr th {\n",
       "        vertical-align: top;\n",
       "    }\n",
       "\n",
       "    .dataframe thead th {\n",
       "        text-align: right;\n",
       "    }\n",
       "</style>\n",
       "<table border=\"1\" class=\"dataframe\">\n",
       "  <thead>\n",
       "    <tr style=\"text-align: right;\">\n",
       "      <th></th>\n",
       "      <th>DATES</th>\n",
       "      <th>STORE_NUMBER</th>\n",
       "      <th>STORE_NAME</th>\n",
       "      <th>POS_NUMBER</th>\n",
       "      <th>TICKET_NUMBER</th>\n",
       "      <th>CHANNEL</th>\n",
       "      <th>DEPARTMANT</th>\n",
       "      <th>SUBDEPARTMENT</th>\n",
       "      <th>CLASS</th>\n",
       "      <th>SUBCLASS</th>\n",
       "      <th>BRAND_GROUP</th>\n",
       "      <th>BRAND_NAME</th>\n",
       "      <th>SUPPLIER_GROUP</th>\n",
       "      <th>SUPPLIER_NAME</th>\n",
       "      <th>SKU_NUMBER</th>\n",
       "      <th>PRODUCT_NAME</th>\n",
       "      <th>PRODUCT_IBC</th>\n",
       "      <th>PRODUCT_SBC</th>\n",
       "      <th>PRODUCT_ORIGINAL_PRICE</th>\n",
       "      <th>PRODUCT_REGULAR_PRICE</th>\n",
       "      <th>PRODUCT_STATUS</th>\n",
       "      <th>PRODUCT_CATALOG_NUMBER</th>\n",
       "      <th>PRODUCT_SEASONAL_CODE</th>\n",
       "      <th>PRODUCT_SIZE_AND_COLOR</th>\n",
       "      <th>PRODUCT_COLOR</th>\n",
       "      <th>PRODUCT_MANUFACTURER_NUMBER</th>\n",
       "      <th>PRODUCT_SIZES</th>\n",
       "      <th>PRODUCT_SEASON</th>\n",
       "      <th>PRODUCT_SEASON_DESC</th>\n",
       "      <th>CREDIT_CONSIGN</th>\n",
       "      <th>MEMBER_ID</th>\n",
       "      <th>SALES_QUANTITY</th>\n",
       "      <th>PERMANENT_MARKDOWN_EXC_VAT</th>\n",
       "      <th>PERMANENT_MARKDOWN_INC_VAT</th>\n",
       "      <th>GROSS_SALES_EXC_VAT</th>\n",
       "      <th>GROSS_SALES_INC_VAT</th>\n",
       "      <th>PROMOTION_MARKDOWN_EXC_VAT</th>\n",
       "      <th>PROMOTION_MARKDOWN_INC_VAT</th>\n",
       "      <th>TOTAL_DISCOUNT_AMT_INC_VAT</th>\n",
       "      <th>TOTAL_DISCOUNT_AMT_EXC_VAT</th>\n",
       "      <th>EPOS_MARKDOWN_EXC_VAT</th>\n",
       "      <th>EPOS_MARKDOWN_INC_VAT</th>\n",
       "      <th>NET_SALES_AMT_EXC_VAT</th>\n",
       "      <th>NET_SALES_AMT_INC_VAT</th>\n",
       "      <th>DISCOUNT_SHARING_AMT</th>\n",
       "      <th>SPECIAL_GP_AMT</th>\n",
       "      <th>PROMOTION_REBATE_AMT</th>\n",
       "      <th>COST_OF_GOODS_SOLD</th>\n",
       "      <th>NET_MARGIN_AMT_EXC_VAT</th>\n",
       "    </tr>\n",
       "  </thead>\n",
       "  <tbody>\n",
       "    <tr>\n",
       "      <th>0</th>\n",
       "      <td>20210202</td>\n",
       "      <td>10102</td>\n",
       "      <td>Chidlom</td>\n",
       "      <td>331</td>\n",
       "      <td>006470</td>\n",
       "      <td>Offline</td>\n",
       "      <td>003 - WOMEN</td>\n",
       "      <td>301 - YOUNG MISS APPARELS</td>\n",
       "      <td>101 - TOP</td>\n",
       "      <td>001 - BLOUSE</td>\n",
       "      <td>DEFRY 01</td>\n",
       "      <td>DEFRY 01 WOMEN</td>\n",
       "      <td>Others</td>\n",
       "      <td>ELITA &amp; CO. PTE LTD</td>\n",
       "      <td>6534875</td>\n",
       "      <td>เสื้อ RE L</td>\n",
       "      <td>71008769</td>\n",
       "      <td>0</td>\n",
       "      <td>1890.0</td>\n",
       "      <td>499.0</td>\n",
       "      <td>Active</td>\n",
       "      <td>999</td>\n",
       "      <td>NON</td>\n",
       "      <td>L-340.</td>\n",
       "      <td>340.</td>\n",
       "      <td>2101ECSW004</td>\n",
       "      <td>L</td>\n",
       "      <td>NON</td>\n",
       "      <td>NaN</td>\n",
       "      <td>Credit</td>\n",
       "      <td>1011010090128523</td>\n",
       "      <td>1</td>\n",
       "      <td>0.0</td>\n",
       "      <td>0.0</td>\n",
       "      <td>1397.19</td>\n",
       "      <td>1495.0</td>\n",
       "      <td>0.0</td>\n",
       "      <td>0.0</td>\n",
       "      <td>186.88</td>\n",
       "      <td>174.65</td>\n",
       "      <td>0.0</td>\n",
       "      <td>0.0</td>\n",
       "      <td>1222.54</td>\n",
       "      <td>1308.12</td>\n",
       "      <td>0.0</td>\n",
       "      <td>0.0</td>\n",
       "      <td>0.0</td>\n",
       "      <td>644.916</td>\n",
       "      <td>577.624</td>\n",
       "    </tr>\n",
       "    <tr>\n",
       "      <th>1</th>\n",
       "      <td>20210203</td>\n",
       "      <td>10102</td>\n",
       "      <td>Chidlom</td>\n",
       "      <td>331</td>\n",
       "      <td>006534</td>\n",
       "      <td>Offline</td>\n",
       "      <td>003 - WOMEN</td>\n",
       "      <td>301 - YOUNG MISS APPARELS</td>\n",
       "      <td>101 - TOP</td>\n",
       "      <td>001 - BLOUSE</td>\n",
       "      <td>DEFRY 01</td>\n",
       "      <td>DEFRY 01 WOMEN</td>\n",
       "      <td>Others</td>\n",
       "      <td>ELITA &amp; CO. PTE LTD</td>\n",
       "      <td>6534875</td>\n",
       "      <td>เสื้อ RE L</td>\n",
       "      <td>71008769</td>\n",
       "      <td>0</td>\n",
       "      <td>1890.0</td>\n",
       "      <td>499.0</td>\n",
       "      <td>Active</td>\n",
       "      <td>999</td>\n",
       "      <td>NON</td>\n",
       "      <td>L-340.</td>\n",
       "      <td>340.</td>\n",
       "      <td>2101ECSW004</td>\n",
       "      <td>L</td>\n",
       "      <td>NON</td>\n",
       "      <td>NaN</td>\n",
       "      <td>Credit</td>\n",
       "      <td>2011675475</td>\n",
       "      <td>1</td>\n",
       "      <td>0.0</td>\n",
       "      <td>0.0</td>\n",
       "      <td>1397.20</td>\n",
       "      <td>1495.0</td>\n",
       "      <td>0.0</td>\n",
       "      <td>0.0</td>\n",
       "      <td>112.42</td>\n",
       "      <td>105.07</td>\n",
       "      <td>0.0</td>\n",
       "      <td>0.0</td>\n",
       "      <td>1292.13</td>\n",
       "      <td>1382.58</td>\n",
       "      <td>0.0</td>\n",
       "      <td>0.0</td>\n",
       "      <td>0.0</td>\n",
       "      <td>644.916</td>\n",
       "      <td>647.214</td>\n",
       "    </tr>\n",
       "    <tr>\n",
       "      <th>2</th>\n",
       "      <td>20210206</td>\n",
       "      <td>10102</td>\n",
       "      <td>Chidlom</td>\n",
       "      <td>334</td>\n",
       "      <td>464256</td>\n",
       "      <td>Offline</td>\n",
       "      <td>003 - WOMEN</td>\n",
       "      <td>301 - YOUNG MISS APPARELS</td>\n",
       "      <td>101 - TOP</td>\n",
       "      <td>001 - BLOUSE</td>\n",
       "      <td>DEFRY 01</td>\n",
       "      <td>DEFRY 01 WOMEN</td>\n",
       "      <td>Others</td>\n",
       "      <td>ELITA &amp; CO. PTE LTD</td>\n",
       "      <td>6534875</td>\n",
       "      <td>เสื้อ RE L</td>\n",
       "      <td>71008769</td>\n",
       "      <td>0</td>\n",
       "      <td>1890.0</td>\n",
       "      <td>499.0</td>\n",
       "      <td>Active</td>\n",
       "      <td>999</td>\n",
       "      <td>NON</td>\n",
       "      <td>L-340.</td>\n",
       "      <td>340.</td>\n",
       "      <td>2101ECSW004</td>\n",
       "      <td>L</td>\n",
       "      <td>NON</td>\n",
       "      <td>NaN</td>\n",
       "      <td>Credit</td>\n",
       "      <td>8017442837</td>\n",
       "      <td>1</td>\n",
       "      <td>0.0</td>\n",
       "      <td>0.0</td>\n",
       "      <td>1397.20</td>\n",
       "      <td>1495.0</td>\n",
       "      <td>0.0</td>\n",
       "      <td>0.0</td>\n",
       "      <td>33.33</td>\n",
       "      <td>31.15</td>\n",
       "      <td>0.0</td>\n",
       "      <td>0.0</td>\n",
       "      <td>1366.05</td>\n",
       "      <td>1461.67</td>\n",
       "      <td>0.0</td>\n",
       "      <td>0.0</td>\n",
       "      <td>0.0</td>\n",
       "      <td>644.916</td>\n",
       "      <td>721.134</td>\n",
       "    </tr>\n",
       "    <tr>\n",
       "      <th>3</th>\n",
       "      <td>20210121</td>\n",
       "      <td>10102</td>\n",
       "      <td>Chidlom</td>\n",
       "      <td>331</td>\n",
       "      <td>005596</td>\n",
       "      <td>Offline</td>\n",
       "      <td>003 - WOMEN</td>\n",
       "      <td>301 - YOUNG MISS APPARELS</td>\n",
       "      <td>101 - TOP</td>\n",
       "      <td>001 - BLOUSE</td>\n",
       "      <td>DEFRY 01</td>\n",
       "      <td>DEFRY 01 WOMEN</td>\n",
       "      <td>Others</td>\n",
       "      <td>ELITA &amp; CO. PTE LTD</td>\n",
       "      <td>6534875</td>\n",
       "      <td>เสื้อ RE L</td>\n",
       "      <td>71008769</td>\n",
       "      <td>0</td>\n",
       "      <td>1890.0</td>\n",
       "      <td>499.0</td>\n",
       "      <td>Active</td>\n",
       "      <td>999</td>\n",
       "      <td>NON</td>\n",
       "      <td>L-340.</td>\n",
       "      <td>340.</td>\n",
       "      <td>2101ECSW004</td>\n",
       "      <td>L</td>\n",
       "      <td>NON</td>\n",
       "      <td>NaN</td>\n",
       "      <td>Credit</td>\n",
       "      <td>2402067377</td>\n",
       "      <td>1</td>\n",
       "      <td>0.0</td>\n",
       "      <td>0.0</td>\n",
       "      <td>1397.20</td>\n",
       "      <td>1495.0</td>\n",
       "      <td>0.0</td>\n",
       "      <td>0.0</td>\n",
       "      <td>0.00</td>\n",
       "      <td>0.00</td>\n",
       "      <td>0.0</td>\n",
       "      <td>0.0</td>\n",
       "      <td>1397.20</td>\n",
       "      <td>1495.00</td>\n",
       "      <td>0.0</td>\n",
       "      <td>0.0</td>\n",
       "      <td>0.0</td>\n",
       "      <td>644.916</td>\n",
       "      <td>752.284</td>\n",
       "    </tr>\n",
       "    <tr>\n",
       "      <th>4</th>\n",
       "      <td>20210121</td>\n",
       "      <td>10102</td>\n",
       "      <td>Chidlom</td>\n",
       "      <td>331</td>\n",
       "      <td>005568</td>\n",
       "      <td>Offline</td>\n",
       "      <td>003 - WOMEN</td>\n",
       "      <td>301 - YOUNG MISS APPARELS</td>\n",
       "      <td>101 - TOP</td>\n",
       "      <td>001 - BLOUSE</td>\n",
       "      <td>DEFRY 01</td>\n",
       "      <td>DEFRY 01 WOMEN</td>\n",
       "      <td>Others</td>\n",
       "      <td>ELITA &amp; CO. PTE LTD</td>\n",
       "      <td>6534875</td>\n",
       "      <td>เสื้อ RE L</td>\n",
       "      <td>71008769</td>\n",
       "      <td>0</td>\n",
       "      <td>1890.0</td>\n",
       "      <td>499.0</td>\n",
       "      <td>Active</td>\n",
       "      <td>999</td>\n",
       "      <td>NON</td>\n",
       "      <td>L-340.</td>\n",
       "      <td>340.</td>\n",
       "      <td>2101ECSW004</td>\n",
       "      <td>L</td>\n",
       "      <td>NON</td>\n",
       "      <td>NaN</td>\n",
       "      <td>Credit</td>\n",
       "      <td>1011010088145679</td>\n",
       "      <td>1</td>\n",
       "      <td>0.0</td>\n",
       "      <td>0.0</td>\n",
       "      <td>1397.20</td>\n",
       "      <td>1495.0</td>\n",
       "      <td>0.0</td>\n",
       "      <td>0.0</td>\n",
       "      <td>0.00</td>\n",
       "      <td>0.00</td>\n",
       "      <td>0.0</td>\n",
       "      <td>0.0</td>\n",
       "      <td>1397.20</td>\n",
       "      <td>1495.00</td>\n",
       "      <td>0.0</td>\n",
       "      <td>0.0</td>\n",
       "      <td>0.0</td>\n",
       "      <td>644.916</td>\n",
       "      <td>752.284</td>\n",
       "    </tr>\n",
       "  </tbody>\n",
       "</table>\n",
       "</div>"
      ],
      "text/plain": [
       "      DATES STORE_NUMBER STORE_NAME POS_NUMBER TICKET_NUMBER  CHANNEL  \\\n",
       "0  20210202        10102    Chidlom        331        006470  Offline   \n",
       "1  20210203        10102    Chidlom        331        006534  Offline   \n",
       "2  20210206        10102    Chidlom        334        464256  Offline   \n",
       "3  20210121        10102    Chidlom        331        005596  Offline   \n",
       "4  20210121        10102    Chidlom        331        005568  Offline   \n",
       "\n",
       "    DEPARTMANT              SUBDEPARTMENT      CLASS      SUBCLASS  \\\n",
       "0  003 - WOMEN  301 - YOUNG MISS APPARELS  101 - TOP  001 - BLOUSE   \n",
       "1  003 - WOMEN  301 - YOUNG MISS APPARELS  101 - TOP  001 - BLOUSE   \n",
       "2  003 - WOMEN  301 - YOUNG MISS APPARELS  101 - TOP  001 - BLOUSE   \n",
       "3  003 - WOMEN  301 - YOUNG MISS APPARELS  101 - TOP  001 - BLOUSE   \n",
       "4  003 - WOMEN  301 - YOUNG MISS APPARELS  101 - TOP  001 - BLOUSE   \n",
       "\n",
       "  BRAND_GROUP      BRAND_NAME SUPPLIER_GROUP        SUPPLIER_NAME SKU_NUMBER  \\\n",
       "0    DEFRY 01  DEFRY 01 WOMEN         Others  ELITA & CO. PTE LTD    6534875   \n",
       "1    DEFRY 01  DEFRY 01 WOMEN         Others  ELITA & CO. PTE LTD    6534875   \n",
       "2    DEFRY 01  DEFRY 01 WOMEN         Others  ELITA & CO. PTE LTD    6534875   \n",
       "3    DEFRY 01  DEFRY 01 WOMEN         Others  ELITA & CO. PTE LTD    6534875   \n",
       "4    DEFRY 01  DEFRY 01 WOMEN         Others  ELITA & CO. PTE LTD    6534875   \n",
       "\n",
       "  PRODUCT_NAME PRODUCT_IBC PRODUCT_SBC  PRODUCT_ORIGINAL_PRICE  \\\n",
       "0   เสื้อ RE L    71008769           0                  1890.0   \n",
       "1   เสื้อ RE L    71008769           0                  1890.0   \n",
       "2   เสื้อ RE L    71008769           0                  1890.0   \n",
       "3   เสื้อ RE L    71008769           0                  1890.0   \n",
       "4   เสื้อ RE L    71008769           0                  1890.0   \n",
       "\n",
       "   PRODUCT_REGULAR_PRICE PRODUCT_STATUS PRODUCT_CATALOG_NUMBER  \\\n",
       "0                  499.0         Active                    999   \n",
       "1                  499.0         Active                    999   \n",
       "2                  499.0         Active                    999   \n",
       "3                  499.0         Active                    999   \n",
       "4                  499.0         Active                    999   \n",
       "\n",
       "  PRODUCT_SEASONAL_CODE PRODUCT_SIZE_AND_COLOR PRODUCT_COLOR  \\\n",
       "0                   NON                 L-340.          340.   \n",
       "1                   NON                 L-340.          340.   \n",
       "2                   NON                 L-340.          340.   \n",
       "3                   NON                 L-340.          340.   \n",
       "4                   NON                 L-340.          340.   \n",
       "\n",
       "  PRODUCT_MANUFACTURER_NUMBER PRODUCT_SIZES PRODUCT_SEASON  \\\n",
       "0             2101ECSW004                 L            NON   \n",
       "1             2101ECSW004                 L            NON   \n",
       "2             2101ECSW004                 L            NON   \n",
       "3             2101ECSW004                 L            NON   \n",
       "4             2101ECSW004                 L            NON   \n",
       "\n",
       "  PRODUCT_SEASON_DESC CREDIT_CONSIGN         MEMBER_ID  SALES_QUANTITY  \\\n",
       "0                 NaN         Credit  1011010090128523               1   \n",
       "1                 NaN         Credit        2011675475               1   \n",
       "2                 NaN         Credit        8017442837               1   \n",
       "3                 NaN         Credit        2402067377               1   \n",
       "4                 NaN         Credit  1011010088145679               1   \n",
       "\n",
       "   PERMANENT_MARKDOWN_EXC_VAT  PERMANENT_MARKDOWN_INC_VAT  \\\n",
       "0                         0.0                         0.0   \n",
       "1                         0.0                         0.0   \n",
       "2                         0.0                         0.0   \n",
       "3                         0.0                         0.0   \n",
       "4                         0.0                         0.0   \n",
       "\n",
       "   GROSS_SALES_EXC_VAT  GROSS_SALES_INC_VAT  PROMOTION_MARKDOWN_EXC_VAT  \\\n",
       "0              1397.19               1495.0                         0.0   \n",
       "1              1397.20               1495.0                         0.0   \n",
       "2              1397.20               1495.0                         0.0   \n",
       "3              1397.20               1495.0                         0.0   \n",
       "4              1397.20               1495.0                         0.0   \n",
       "\n",
       "   PROMOTION_MARKDOWN_INC_VAT  TOTAL_DISCOUNT_AMT_INC_VAT  \\\n",
       "0                         0.0                      186.88   \n",
       "1                         0.0                      112.42   \n",
       "2                         0.0                       33.33   \n",
       "3                         0.0                        0.00   \n",
       "4                         0.0                        0.00   \n",
       "\n",
       "   TOTAL_DISCOUNT_AMT_EXC_VAT  EPOS_MARKDOWN_EXC_VAT  EPOS_MARKDOWN_INC_VAT  \\\n",
       "0                      174.65                    0.0                    0.0   \n",
       "1                      105.07                    0.0                    0.0   \n",
       "2                       31.15                    0.0                    0.0   \n",
       "3                        0.00                    0.0                    0.0   \n",
       "4                        0.00                    0.0                    0.0   \n",
       "\n",
       "   NET_SALES_AMT_EXC_VAT  NET_SALES_AMT_INC_VAT  DISCOUNT_SHARING_AMT  \\\n",
       "0                1222.54                1308.12                   0.0   \n",
       "1                1292.13                1382.58                   0.0   \n",
       "2                1366.05                1461.67                   0.0   \n",
       "3                1397.20                1495.00                   0.0   \n",
       "4                1397.20                1495.00                   0.0   \n",
       "\n",
       "   SPECIAL_GP_AMT  PROMOTION_REBATE_AMT  COST_OF_GOODS_SOLD  \\\n",
       "0             0.0                   0.0             644.916   \n",
       "1             0.0                   0.0             644.916   \n",
       "2             0.0                   0.0             644.916   \n",
       "3             0.0                   0.0             644.916   \n",
       "4             0.0                   0.0             644.916   \n",
       "\n",
       "   NET_MARGIN_AMT_EXC_VAT  \n",
       "0                 577.624  \n",
       "1                 647.214  \n",
       "2                 721.134  \n",
       "3                 752.284  \n",
       "4                 752.284  "
      ]
     },
     "execution_count": 12,
     "metadata": {},
     "output_type": "execute_result"
    }
   ],
   "source": [
    "df_sales_2021.head()"
   ]
  },
  {
   "cell_type": "code",
   "execution_count": 13,
   "id": "ac7c20fd",
   "metadata": {},
   "outputs": [
    {
     "data": {
      "text/html": [
       "<div>\n",
       "<style scoped>\n",
       "    .dataframe tbody tr th:only-of-type {\n",
       "        vertical-align: middle;\n",
       "    }\n",
       "\n",
       "    .dataframe tbody tr th {\n",
       "        vertical-align: top;\n",
       "    }\n",
       "\n",
       "    .dataframe thead th {\n",
       "        text-align: right;\n",
       "    }\n",
       "</style>\n",
       "<table border=\"1\" class=\"dataframe\">\n",
       "  <thead>\n",
       "    <tr style=\"text-align: right;\">\n",
       "      <th></th>\n",
       "      <th>DATES</th>\n",
       "      <th>STORE_NUMBER</th>\n",
       "      <th>STORE_NAME</th>\n",
       "      <th>POS_NUMBER</th>\n",
       "      <th>TICKET_NUMBER</th>\n",
       "      <th>CHANNEL</th>\n",
       "      <th>DEPARTMANT</th>\n",
       "      <th>SUBDEPARTMENT</th>\n",
       "      <th>CLASS</th>\n",
       "      <th>SUBCLASS</th>\n",
       "      <th>BRAND_GROUP</th>\n",
       "      <th>BRAND_NAME</th>\n",
       "      <th>SUPPLIER_GROUP</th>\n",
       "      <th>SUPPLIER_NAME</th>\n",
       "      <th>SKU_NUMBER</th>\n",
       "      <th>PRODUCT_NAME</th>\n",
       "      <th>PRODUCT_IBC</th>\n",
       "      <th>PRODUCT_SBC</th>\n",
       "      <th>PRODUCT_ORIGINAL_PRICE</th>\n",
       "      <th>PRODUCT_REGULAR_PRICE</th>\n",
       "      <th>PRODUCT_STATUS</th>\n",
       "      <th>PRODUCT_CATALOG_NUMBER</th>\n",
       "      <th>PRODUCT_SEASONAL_CODE</th>\n",
       "      <th>PRODUCT_SIZE_AND_COLOR</th>\n",
       "      <th>PRODUCT_COLOR</th>\n",
       "      <th>PRODUCT_MANUFACTURER_NUMBER</th>\n",
       "      <th>PRODUCT_SIZES</th>\n",
       "      <th>PRODUCT_SEASON</th>\n",
       "      <th>PRODUCT_SEASON_DESC</th>\n",
       "      <th>CREDIT_CONSIGN</th>\n",
       "      <th>MEMBER_ID</th>\n",
       "      <th>SALES_QUANTITY</th>\n",
       "      <th>PERMANENT_MARKDOWN_EXC_VAT</th>\n",
       "      <th>PERMANENT_MARKDOWN_INC_VAT</th>\n",
       "      <th>GROSS_SALES_EXC_VAT</th>\n",
       "      <th>GROSS_SALES_INC_VAT</th>\n",
       "      <th>PROMOTION_MARKDOWN_EXC_VAT</th>\n",
       "      <th>PROMOTION_MARKDOWN_INC_VAT</th>\n",
       "      <th>TOTAL_DISCOUNT_AMT_INC_VAT</th>\n",
       "      <th>TOTAL_DISCOUNT_AMT_EXC_VAT</th>\n",
       "      <th>EPOS_MARKDOWN_EXC_VAT</th>\n",
       "      <th>EPOS_MARKDOWN_INC_VAT</th>\n",
       "      <th>NET_SALES_AMT_EXC_VAT</th>\n",
       "      <th>NET_SALES_AMT_INC_VAT</th>\n",
       "      <th>DISCOUNT_SHARING_AMT</th>\n",
       "      <th>SPECIAL_GP_AMT</th>\n",
       "      <th>PROMOTION_REBATE_AMT</th>\n",
       "      <th>COST_OF_GOODS_SOLD</th>\n",
       "      <th>NET_MARGIN_AMT_EXC_VAT</th>\n",
       "    </tr>\n",
       "  </thead>\n",
       "  <tbody>\n",
       "    <tr>\n",
       "      <th>0</th>\n",
       "      <td>20220102</td>\n",
       "      <td>10166</td>\n",
       "      <td>Khonkaen</td>\n",
       "      <td>201</td>\n",
       "      <td>004918</td>\n",
       "      <td>Offline</td>\n",
       "      <td>003 - WOMEN</td>\n",
       "      <td>301 - YOUNG MISS APPARELS</td>\n",
       "      <td>103 - DRESS</td>\n",
       "      <td>002 - MIDI DRESS</td>\n",
       "      <td>EXPRESSIONS</td>\n",
       "      <td>EXPRESSIONS</td>\n",
       "      <td>Others</td>\n",
       "      <td>ELITA &amp; CO. PTE LTD</td>\n",
       "      <td>6534964</td>\n",
       "      <td>ชุดกระโปรงแขนสั้น A1 BL XS</td>\n",
       "      <td>71009667</td>\n",
       "      <td>0</td>\n",
       "      <td>2595.0</td>\n",
       "      <td>1295.0</td>\n",
       "      <td>Active</td>\n",
       "      <td>999</td>\n",
       "      <td>NON</td>\n",
       "      <td>XS-65.</td>\n",
       "      <td>65.0</td>\n",
       "      <td>2101ECDE001</td>\n",
       "      <td>XS</td>\n",
       "      <td>NON</td>\n",
       "      <td>NaN</td>\n",
       "      <td>Credit</td>\n",
       "      <td>8013383080</td>\n",
       "      <td>1</td>\n",
       "      <td>1214.95</td>\n",
       "      <td>1300.0</td>\n",
       "      <td>1210.28</td>\n",
       "      <td>1295.0</td>\n",
       "      <td>0.0</td>\n",
       "      <td>0.0</td>\n",
       "      <td>0.00</td>\n",
       "      <td>0.00</td>\n",
       "      <td>0.0</td>\n",
       "      <td>0.0</td>\n",
       "      <td>1210.28</td>\n",
       "      <td>1295.00</td>\n",
       "      <td>0.0</td>\n",
       "      <td>0.0</td>\n",
       "      <td>0.0</td>\n",
       "      <td>702.55</td>\n",
       "      <td>507.73</td>\n",
       "    </tr>\n",
       "    <tr>\n",
       "      <th>1</th>\n",
       "      <td>20220104</td>\n",
       "      <td>10158</td>\n",
       "      <td>Mega Bangna</td>\n",
       "      <td>105</td>\n",
       "      <td>045852</td>\n",
       "      <td>Offline</td>\n",
       "      <td>003 - WOMEN</td>\n",
       "      <td>301 - YOUNG MISS APPARELS</td>\n",
       "      <td>103 - DRESS</td>\n",
       "      <td>002 - MIDI DRESS</td>\n",
       "      <td>EXPRESSIONS</td>\n",
       "      <td>EXPRESSIONS</td>\n",
       "      <td>Others</td>\n",
       "      <td>ELITA &amp; CO. PTE LTD</td>\n",
       "      <td>6534964</td>\n",
       "      <td>ชุดกระโปรงแขนสั้น A1 BL XS</td>\n",
       "      <td>71009667</td>\n",
       "      <td>0</td>\n",
       "      <td>2595.0</td>\n",
       "      <td>1295.0</td>\n",
       "      <td>Active</td>\n",
       "      <td>999</td>\n",
       "      <td>NON</td>\n",
       "      <td>XS-65.</td>\n",
       "      <td>65.0</td>\n",
       "      <td>2101ECDE001</td>\n",
       "      <td>XS</td>\n",
       "      <td>NON</td>\n",
       "      <td>NaN</td>\n",
       "      <td>Credit</td>\n",
       "      <td>2110738217</td>\n",
       "      <td>1</td>\n",
       "      <td>1214.95</td>\n",
       "      <td>1300.0</td>\n",
       "      <td>1210.28</td>\n",
       "      <td>1295.0</td>\n",
       "      <td>0.0</td>\n",
       "      <td>0.0</td>\n",
       "      <td>0.00</td>\n",
       "      <td>0.00</td>\n",
       "      <td>0.0</td>\n",
       "      <td>0.0</td>\n",
       "      <td>1210.28</td>\n",
       "      <td>1295.00</td>\n",
       "      <td>0.0</td>\n",
       "      <td>0.0</td>\n",
       "      <td>0.0</td>\n",
       "      <td>702.55</td>\n",
       "      <td>507.73</td>\n",
       "    </tr>\n",
       "    <tr>\n",
       "      <th>2</th>\n",
       "      <td>20220116</td>\n",
       "      <td>10149</td>\n",
       "      <td>WestGate</td>\n",
       "      <td>204</td>\n",
       "      <td>036643</td>\n",
       "      <td>Offline</td>\n",
       "      <td>003 - WOMEN</td>\n",
       "      <td>301 - YOUNG MISS APPARELS</td>\n",
       "      <td>103 - DRESS</td>\n",
       "      <td>002 - MIDI DRESS</td>\n",
       "      <td>EXPRESSIONS</td>\n",
       "      <td>EXPRESSIONS</td>\n",
       "      <td>Others</td>\n",
       "      <td>ELITA &amp; CO. PTE LTD</td>\n",
       "      <td>6534964</td>\n",
       "      <td>ชุดกระโปรงแขนสั้น A1 BL XS</td>\n",
       "      <td>71009667</td>\n",
       "      <td>0</td>\n",
       "      <td>2595.0</td>\n",
       "      <td>1295.0</td>\n",
       "      <td>Active</td>\n",
       "      <td>999</td>\n",
       "      <td>NON</td>\n",
       "      <td>XS-65.</td>\n",
       "      <td>65.0</td>\n",
       "      <td>2101ECDE001</td>\n",
       "      <td>XS</td>\n",
       "      <td>NON</td>\n",
       "      <td>NaN</td>\n",
       "      <td>Credit</td>\n",
       "      <td>8014764635</td>\n",
       "      <td>1</td>\n",
       "      <td>1214.95</td>\n",
       "      <td>1300.0</td>\n",
       "      <td>1210.28</td>\n",
       "      <td>1295.0</td>\n",
       "      <td>0.0</td>\n",
       "      <td>0.0</td>\n",
       "      <td>259.00</td>\n",
       "      <td>242.06</td>\n",
       "      <td>0.0</td>\n",
       "      <td>0.0</td>\n",
       "      <td>968.22</td>\n",
       "      <td>1036.00</td>\n",
       "      <td>0.0</td>\n",
       "      <td>0.0</td>\n",
       "      <td>0.0</td>\n",
       "      <td>702.55</td>\n",
       "      <td>265.67</td>\n",
       "    </tr>\n",
       "    <tr>\n",
       "      <th>3</th>\n",
       "      <td>20220123</td>\n",
       "      <td>10105</td>\n",
       "      <td>Ramindra</td>\n",
       "      <td>201</td>\n",
       "      <td>005378</td>\n",
       "      <td>Offline</td>\n",
       "      <td>003 - WOMEN</td>\n",
       "      <td>301 - YOUNG MISS APPARELS</td>\n",
       "      <td>103 - DRESS</td>\n",
       "      <td>002 - MIDI DRESS</td>\n",
       "      <td>EXPRESSIONS</td>\n",
       "      <td>EXPRESSIONS</td>\n",
       "      <td>Others</td>\n",
       "      <td>ELITA &amp; CO. PTE LTD</td>\n",
       "      <td>6534964</td>\n",
       "      <td>ชุดกระโปรงแขนสั้น A1 BL XS</td>\n",
       "      <td>71009667</td>\n",
       "      <td>0</td>\n",
       "      <td>2595.0</td>\n",
       "      <td>1295.0</td>\n",
       "      <td>Active</td>\n",
       "      <td>999</td>\n",
       "      <td>NON</td>\n",
       "      <td>XS-65.</td>\n",
       "      <td>65.0</td>\n",
       "      <td>2101ECDE001</td>\n",
       "      <td>XS</td>\n",
       "      <td>NON</td>\n",
       "      <td>NaN</td>\n",
       "      <td>Credit</td>\n",
       "      <td>8030589717</td>\n",
       "      <td>1</td>\n",
       "      <td>1214.95</td>\n",
       "      <td>1300.0</td>\n",
       "      <td>1210.28</td>\n",
       "      <td>1295.0</td>\n",
       "      <td>0.0</td>\n",
       "      <td>0.0</td>\n",
       "      <td>0.00</td>\n",
       "      <td>0.00</td>\n",
       "      <td>0.0</td>\n",
       "      <td>0.0</td>\n",
       "      <td>1210.28</td>\n",
       "      <td>1295.00</td>\n",
       "      <td>0.0</td>\n",
       "      <td>0.0</td>\n",
       "      <td>0.0</td>\n",
       "      <td>702.55</td>\n",
       "      <td>507.73</td>\n",
       "    </tr>\n",
       "    <tr>\n",
       "      <th>4</th>\n",
       "      <td>20220127</td>\n",
       "      <td>15017</td>\n",
       "      <td>Rama III Online</td>\n",
       "      <td>260</td>\n",
       "      <td>064</td>\n",
       "      <td>Online</td>\n",
       "      <td>003 - WOMEN</td>\n",
       "      <td>301 - YOUNG MISS APPARELS</td>\n",
       "      <td>103 - DRESS</td>\n",
       "      <td>002 - MIDI DRESS</td>\n",
       "      <td>EXPRESSIONS</td>\n",
       "      <td>EXPRESSIONS</td>\n",
       "      <td>Others</td>\n",
       "      <td>ELITA &amp; CO. PTE LTD</td>\n",
       "      <td>6534964</td>\n",
       "      <td>ชุดกระโปรงแขนสั้น A1 BL XS</td>\n",
       "      <td>71009667</td>\n",
       "      <td>0</td>\n",
       "      <td>2595.0</td>\n",
       "      <td>1295.0</td>\n",
       "      <td>Active</td>\n",
       "      <td>999</td>\n",
       "      <td>NON</td>\n",
       "      <td>XS-65.</td>\n",
       "      <td>65.0</td>\n",
       "      <td>2101ECDE001</td>\n",
       "      <td>XS</td>\n",
       "      <td>NON</td>\n",
       "      <td>NaN</td>\n",
       "      <td>Credit</td>\n",
       "      <td>NaN</td>\n",
       "      <td>1</td>\n",
       "      <td>1214.95</td>\n",
       "      <td>1300.0</td>\n",
       "      <td>1210.28</td>\n",
       "      <td>1295.0</td>\n",
       "      <td>0.0</td>\n",
       "      <td>0.0</td>\n",
       "      <td>90.65</td>\n",
       "      <td>84.72</td>\n",
       "      <td>0.0</td>\n",
       "      <td>0.0</td>\n",
       "      <td>1125.56</td>\n",
       "      <td>1204.35</td>\n",
       "      <td>0.0</td>\n",
       "      <td>0.0</td>\n",
       "      <td>0.0</td>\n",
       "      <td>702.55</td>\n",
       "      <td>423.01</td>\n",
       "    </tr>\n",
       "  </tbody>\n",
       "</table>\n",
       "</div>"
      ],
      "text/plain": [
       "      DATES STORE_NUMBER       STORE_NAME POS_NUMBER TICKET_NUMBER  CHANNEL  \\\n",
       "0  20220102        10166         Khonkaen        201        004918  Offline   \n",
       "1  20220104        10158      Mega Bangna        105        045852  Offline   \n",
       "2  20220116        10149         WestGate        204        036643  Offline   \n",
       "3  20220123        10105         Ramindra        201        005378  Offline   \n",
       "4  20220127        15017  Rama III Online        260           064   Online   \n",
       "\n",
       "    DEPARTMANT              SUBDEPARTMENT        CLASS          SUBCLASS  \\\n",
       "0  003 - WOMEN  301 - YOUNG MISS APPARELS  103 - DRESS  002 - MIDI DRESS   \n",
       "1  003 - WOMEN  301 - YOUNG MISS APPARELS  103 - DRESS  002 - MIDI DRESS   \n",
       "2  003 - WOMEN  301 - YOUNG MISS APPARELS  103 - DRESS  002 - MIDI DRESS   \n",
       "3  003 - WOMEN  301 - YOUNG MISS APPARELS  103 - DRESS  002 - MIDI DRESS   \n",
       "4  003 - WOMEN  301 - YOUNG MISS APPARELS  103 - DRESS  002 - MIDI DRESS   \n",
       "\n",
       "   BRAND_GROUP   BRAND_NAME SUPPLIER_GROUP        SUPPLIER_NAME SKU_NUMBER  \\\n",
       "0  EXPRESSIONS  EXPRESSIONS         Others  ELITA & CO. PTE LTD    6534964   \n",
       "1  EXPRESSIONS  EXPRESSIONS         Others  ELITA & CO. PTE LTD    6534964   \n",
       "2  EXPRESSIONS  EXPRESSIONS         Others  ELITA & CO. PTE LTD    6534964   \n",
       "3  EXPRESSIONS  EXPRESSIONS         Others  ELITA & CO. PTE LTD    6534964   \n",
       "4  EXPRESSIONS  EXPRESSIONS         Others  ELITA & CO. PTE LTD    6534964   \n",
       "\n",
       "                 PRODUCT_NAME PRODUCT_IBC PRODUCT_SBC  PRODUCT_ORIGINAL_PRICE  \\\n",
       "0  ชุดกระโปรงแขนสั้น A1 BL XS    71009667           0                  2595.0   \n",
       "1  ชุดกระโปรงแขนสั้น A1 BL XS    71009667           0                  2595.0   \n",
       "2  ชุดกระโปรงแขนสั้น A1 BL XS    71009667           0                  2595.0   \n",
       "3  ชุดกระโปรงแขนสั้น A1 BL XS    71009667           0                  2595.0   \n",
       "4  ชุดกระโปรงแขนสั้น A1 BL XS    71009667           0                  2595.0   \n",
       "\n",
       "   PRODUCT_REGULAR_PRICE PRODUCT_STATUS PRODUCT_CATALOG_NUMBER  \\\n",
       "0                 1295.0         Active                    999   \n",
       "1                 1295.0         Active                    999   \n",
       "2                 1295.0         Active                    999   \n",
       "3                 1295.0         Active                    999   \n",
       "4                 1295.0         Active                    999   \n",
       "\n",
       "  PRODUCT_SEASONAL_CODE PRODUCT_SIZE_AND_COLOR PRODUCT_COLOR  \\\n",
       "0                   NON                 XS-65.          65.0   \n",
       "1                   NON                 XS-65.          65.0   \n",
       "2                   NON                 XS-65.          65.0   \n",
       "3                   NON                 XS-65.          65.0   \n",
       "4                   NON                 XS-65.          65.0   \n",
       "\n",
       "  PRODUCT_MANUFACTURER_NUMBER PRODUCT_SIZES PRODUCT_SEASON  \\\n",
       "0             2101ECDE001                XS            NON   \n",
       "1             2101ECDE001                XS            NON   \n",
       "2             2101ECDE001                XS            NON   \n",
       "3             2101ECDE001                XS            NON   \n",
       "4             2101ECDE001                XS            NON   \n",
       "\n",
       "  PRODUCT_SEASON_DESC CREDIT_CONSIGN   MEMBER_ID  SALES_QUANTITY  \\\n",
       "0                 NaN         Credit  8013383080               1   \n",
       "1                 NaN         Credit  2110738217               1   \n",
       "2                 NaN         Credit  8014764635               1   \n",
       "3                 NaN         Credit  8030589717               1   \n",
       "4                 NaN         Credit         NaN               1   \n",
       "\n",
       "   PERMANENT_MARKDOWN_EXC_VAT  PERMANENT_MARKDOWN_INC_VAT  \\\n",
       "0                     1214.95                      1300.0   \n",
       "1                     1214.95                      1300.0   \n",
       "2                     1214.95                      1300.0   \n",
       "3                     1214.95                      1300.0   \n",
       "4                     1214.95                      1300.0   \n",
       "\n",
       "   GROSS_SALES_EXC_VAT  GROSS_SALES_INC_VAT  PROMOTION_MARKDOWN_EXC_VAT  \\\n",
       "0              1210.28               1295.0                         0.0   \n",
       "1              1210.28               1295.0                         0.0   \n",
       "2              1210.28               1295.0                         0.0   \n",
       "3              1210.28               1295.0                         0.0   \n",
       "4              1210.28               1295.0                         0.0   \n",
       "\n",
       "   PROMOTION_MARKDOWN_INC_VAT  TOTAL_DISCOUNT_AMT_INC_VAT  \\\n",
       "0                         0.0                        0.00   \n",
       "1                         0.0                        0.00   \n",
       "2                         0.0                      259.00   \n",
       "3                         0.0                        0.00   \n",
       "4                         0.0                       90.65   \n",
       "\n",
       "   TOTAL_DISCOUNT_AMT_EXC_VAT  EPOS_MARKDOWN_EXC_VAT  EPOS_MARKDOWN_INC_VAT  \\\n",
       "0                        0.00                    0.0                    0.0   \n",
       "1                        0.00                    0.0                    0.0   \n",
       "2                      242.06                    0.0                    0.0   \n",
       "3                        0.00                    0.0                    0.0   \n",
       "4                       84.72                    0.0                    0.0   \n",
       "\n",
       "   NET_SALES_AMT_EXC_VAT  NET_SALES_AMT_INC_VAT  DISCOUNT_SHARING_AMT  \\\n",
       "0                1210.28                1295.00                   0.0   \n",
       "1                1210.28                1295.00                   0.0   \n",
       "2                 968.22                1036.00                   0.0   \n",
       "3                1210.28                1295.00                   0.0   \n",
       "4                1125.56                1204.35                   0.0   \n",
       "\n",
       "   SPECIAL_GP_AMT  PROMOTION_REBATE_AMT  COST_OF_GOODS_SOLD  \\\n",
       "0             0.0                   0.0              702.55   \n",
       "1             0.0                   0.0              702.55   \n",
       "2             0.0                   0.0              702.55   \n",
       "3             0.0                   0.0              702.55   \n",
       "4             0.0                   0.0              702.55   \n",
       "\n",
       "   NET_MARGIN_AMT_EXC_VAT  \n",
       "0                  507.73  \n",
       "1                  507.73  \n",
       "2                  265.67  \n",
       "3                  507.73  \n",
       "4                  423.01  "
      ]
     },
     "execution_count": 13,
     "metadata": {},
     "output_type": "execute_result"
    }
   ],
   "source": [
    "df_sales_2022.head()"
   ]
  },
  {
   "cell_type": "code",
   "execution_count": 14,
   "id": "61a26738",
   "metadata": {},
   "outputs": [],
   "source": [
    "# Combining sales for all focus years\n",
    "df_sales = pd.concat([df_sales_2020, df_sales_2021, df_sales_2022])"
   ]
  },
  {
   "cell_type": "code",
   "execution_count": 15,
   "id": "e775cdf6",
   "metadata": {},
   "outputs": [
    {
     "name": "stdout",
     "output_type": "stream",
     "text": [
      "Shape of combined data: (3507745, 49)\n"
     ]
    }
   ],
   "source": [
    "# Check shape of combined data and that its rows equal the row sum of base datasets\n",
    "print(f\"Shape of combined data: {df_sales.shape}\")\n",
    "combined_sales_rows_equality = (df_sales.shape[0]==(df_sales_2020.shape[0]+df_sales_2021.shape[0]+df_sales_2022.shape[0]))\n",
    "\n",
    "assert combined_sales_rows_equality==True, \"Number of rows of combined sales doesn't equal row sum of base sales datasets\""
   ]
  },
  {
   "cell_type": "markdown",
   "id": "4146e0d8",
   "metadata": {},
   "source": [
    "### 1.2 Preliminary processing of sales data"
   ]
  },
  {
   "cell_type": "code",
   "execution_count": 16,
   "id": "5dbdc451",
   "metadata": {},
   "outputs": [
    {
     "name": "stdout",
     "output_type": "stream",
     "text": [
      "(3370557, 50)\n"
     ]
    }
   ],
   "source": [
    "df_sales['Date'] = pd.to_datetime(df_sales['DATES'])\n",
    "\n",
    "# Filtering data for only relevant period\n",
    "df_sales = df_sales[df_sales['Date'] <= config.sales_data_cutoff_date]\n",
    "df_sales = df_sales.reset_index(drop=True)\n",
    "\n",
    "print(df_sales.shape)"
   ]
  },
  {
   "cell_type": "code",
   "execution_count": 17,
   "id": "53eb3e99",
   "metadata": {},
   "outputs": [],
   "source": [
    "# Removes leading zeros from POS and Ticket, if any\n",
    "df_sales['POS_NUMBER'] = df_sales['POS_NUMBER'].astype('str').apply(custom_funcs.remove_leading_zeros)\n",
    "df_sales['TICKET_NUMBER'] = df_sales['TICKET_NUMBER'].astype('str').apply(custom_funcs.remove_leading_zeros)\n",
    "\n",
    "# Week start and end dates\n",
    "df_sales['Week Start'] = df_sales['Date'].dt.to_period('W-THU').apply(lambda r: r.start_time)\n",
    "df_sales['Week End'] = df_sales['Week Start'] + pd.DateOffset(6)\n",
    "\n",
    "# Defining a field 'Disc' which is same as EPOS Discount\n",
    "df_sales['Disc'] = df_sales['TOTAL_DISCOUNT_AMT_INC_VAT']\n",
    "\n"
   ]
  },
  {
   "cell_type": "code",
   "execution_count": 18,
   "id": "c4e7ab96",
   "metadata": {},
   "outputs": [],
   "source": [
    "# Reordering sales data columns\n",
    "sales_data_field_ordering = ['Date','Week Start','Week End'] + list(config.sales_data_col_types.keys()) + ['Disc']\n",
    "\n",
    "df_sales = df_sales[sales_data_field_ordering]\n",
    "df_sales = df_sales.drop(columns=['DATES'])"
   ]
  },
  {
   "cell_type": "markdown",
   "id": "f7483869",
   "metadata": {},
   "source": [
    "### 1.3 EDA on sales data"
   ]
  },
  {
   "cell_type": "code",
   "execution_count": 19,
   "id": "a65b9e66",
   "metadata": {
    "scrolled": false
   },
   "outputs": [
    {
     "name": "stdout",
     "output_type": "stream",
     "text": [
      "<class 'pandas.core.frame.DataFrame'>\n",
      "RangeIndex: 3370557 entries, 0 to 3370556\n",
      "Data columns (total 52 columns):\n",
      " #   Column                       Non-Null Count    Dtype         \n",
      "---  ------                       --------------    -----         \n",
      " 0   Date                         3370557 non-null  datetime64[ns]\n",
      " 1   Week Start                   3370557 non-null  datetime64[ns]\n",
      " 2   Week End                     3370557 non-null  datetime64[ns]\n",
      " 3   POS_NUMBER                   1755048 non-null  object        \n",
      " 4   TICKET_NUMBER                1753126 non-null  object        \n",
      " 5   CHANNEL                      3370557 non-null  object        \n",
      " 6   SUPPLIER_GROUP               3370557 non-null  object        \n",
      " 7   SUPPLIER_NAME                3370557 non-null  object        \n",
      " 8   SKU_NUMBER                   3370557 non-null  object        \n",
      " 9   PRODUCT_NAME                 3370557 non-null  object        \n",
      " 10  PRODUCT_IBC                  3370557 non-null  object        \n",
      " 11  PRODUCT_SBC                  3370557 non-null  object        \n",
      " 12  PRODUCT_ORIGINAL_PRICE       3370557 non-null  float64       \n",
      " 13  PRODUCT_REGULAR_PRICE        3370557 non-null  float64       \n",
      " 14  PRODUCT_STATUS               3370557 non-null  object        \n",
      " 15  PRODUCT_CATALOG_NUMBER       3370557 non-null  object        \n",
      " 16  PRODUCT_SEASONAL_CODE        3370557 non-null  object        \n",
      " 17  PRODUCT_SIZE_AND_COLOR       3370557 non-null  object        \n",
      " 18  PRODUCT_COLOR                3370557 non-null  object        \n",
      " 19  PRODUCT_MANUFACTURER_NUMBER  3238532 non-null  object        \n",
      " 20  PRODUCT_SIZES                2350512 non-null  object        \n",
      " 21  PRODUCT_SEASON               3370557 non-null  object        \n",
      " 22  PRODUCT_SEASON_DESC          0 non-null        object        \n",
      " 23  CREDIT_CONSIGN               3370557 non-null  object        \n",
      " 24  BRAND_GROUP                  3370557 non-null  object        \n",
      " 25  BRAND_NAME                   3370557 non-null  object        \n",
      " 26  MEMBER_ID                    1652219 non-null  object        \n",
      " 27  SALES_QUANTITY               3370557 non-null  int64         \n",
      " 28  PERMANENT_MARKDOWN_EXC_VAT   3370557 non-null  float64       \n",
      " 29  PERMANENT_MARKDOWN_INC_VAT   3370557 non-null  float64       \n",
      " 30  GROSS_SALES_EXC_VAT          3370557 non-null  float64       \n",
      " 31  GROSS_SALES_INC_VAT          3370557 non-null  float64       \n",
      " 32  PROMOTION_MARKDOWN_EXC_VAT   3370557 non-null  float64       \n",
      " 33  PROMOTION_MARKDOWN_INC_VAT   3370557 non-null  float64       \n",
      " 34  TOTAL_DISCOUNT_AMT_INC_VAT   3370557 non-null  float64       \n",
      " 35  TOTAL_DISCOUNT_AMT_EXC_VAT   3370557 non-null  float64       \n",
      " 36  EPOS_MARKDOWN_EXC_VAT        3370557 non-null  float64       \n",
      " 37  EPOS_MARKDOWN_INC_VAT        3370557 non-null  float64       \n",
      " 38  NET_SALES_AMT_EXC_VAT        3370557 non-null  float64       \n",
      " 39  NET_SALES_AMT_INC_VAT        3370557 non-null  float64       \n",
      " 40  DISCOUNT_SHARING_AMT         3370557 non-null  float64       \n",
      " 41  SPECIAL_GP_AMT               3370557 non-null  float64       \n",
      " 42  PROMOTION_REBATE_AMT         3370557 non-null  float64       \n",
      " 43  COST_OF_GOODS_SOLD           3370557 non-null  float64       \n",
      " 44  NET_MARGIN_AMT_EXC_VAT       3370557 non-null  float64       \n",
      " 45  STORE_NUMBER                 3370557 non-null  object        \n",
      " 46  STORE_NAME                   3370557 non-null  object        \n",
      " 47  DEPARTMANT                   3370557 non-null  object        \n",
      " 48  SUBDEPARTMENT                3370557 non-null  object        \n",
      " 49  CLASS                        3370557 non-null  object        \n",
      " 50  SUBCLASS                     3370557 non-null  object        \n",
      " 51  Disc                         3370557 non-null  float64       \n",
      "dtypes: datetime64[ns](3), float64(20), int64(1), object(28)\n",
      "memory usage: 1.3+ GB\n"
     ]
    }
   ],
   "source": [
    "df_sales.info(show_counts=True)"
   ]
  },
  {
   "cell_type": "code",
   "execution_count": 20,
   "id": "d69dc4ec",
   "metadata": {},
   "outputs": [
    {
     "data": {
      "text/html": [
       "<div>\n",
       "<style scoped>\n",
       "    .dataframe tbody tr th:only-of-type {\n",
       "        vertical-align: middle;\n",
       "    }\n",
       "\n",
       "    .dataframe tbody tr th {\n",
       "        vertical-align: top;\n",
       "    }\n",
       "\n",
       "    .dataframe thead th {\n",
       "        text-align: right;\n",
       "    }\n",
       "</style>\n",
       "<table border=\"1\" class=\"dataframe\">\n",
       "  <thead>\n",
       "    <tr style=\"text-align: right;\">\n",
       "      <th></th>\n",
       "      <th>PRODUCT_ORIGINAL_PRICE</th>\n",
       "      <th>PRODUCT_REGULAR_PRICE</th>\n",
       "      <th>SALES_QUANTITY</th>\n",
       "      <th>PERMANENT_MARKDOWN_EXC_VAT</th>\n",
       "      <th>PERMANENT_MARKDOWN_INC_VAT</th>\n",
       "      <th>GROSS_SALES_EXC_VAT</th>\n",
       "      <th>GROSS_SALES_INC_VAT</th>\n",
       "      <th>PROMOTION_MARKDOWN_EXC_VAT</th>\n",
       "      <th>PROMOTION_MARKDOWN_INC_VAT</th>\n",
       "      <th>TOTAL_DISCOUNT_AMT_INC_VAT</th>\n",
       "      <th>TOTAL_DISCOUNT_AMT_EXC_VAT</th>\n",
       "      <th>EPOS_MARKDOWN_EXC_VAT</th>\n",
       "      <th>EPOS_MARKDOWN_INC_VAT</th>\n",
       "      <th>NET_SALES_AMT_EXC_VAT</th>\n",
       "      <th>NET_SALES_AMT_INC_VAT</th>\n",
       "      <th>DISCOUNT_SHARING_AMT</th>\n",
       "      <th>SPECIAL_GP_AMT</th>\n",
       "      <th>PROMOTION_REBATE_AMT</th>\n",
       "      <th>COST_OF_GOODS_SOLD</th>\n",
       "      <th>NET_MARGIN_AMT_EXC_VAT</th>\n",
       "      <th>Disc</th>\n",
       "    </tr>\n",
       "  </thead>\n",
       "  <tbody>\n",
       "    <tr>\n",
       "      <th>count</th>\n",
       "      <td>3370557</td>\n",
       "      <td>3370557</td>\n",
       "      <td>3370557</td>\n",
       "      <td>3370557</td>\n",
       "      <td>3370557</td>\n",
       "      <td>3370557</td>\n",
       "      <td>3370557</td>\n",
       "      <td>3370557</td>\n",
       "      <td>3370557</td>\n",
       "      <td>3370557</td>\n",
       "      <td>3370557</td>\n",
       "      <td>3370557</td>\n",
       "      <td>3370557</td>\n",
       "      <td>3370557</td>\n",
       "      <td>3370557</td>\n",
       "      <td>3370557</td>\n",
       "      <td>3370557</td>\n",
       "      <td>3370557</td>\n",
       "      <td>3370557</td>\n",
       "      <td>3370557</td>\n",
       "      <td>3370557</td>\n",
       "    </tr>\n",
       "    <tr>\n",
       "      <th>mean</th>\n",
       "      <td>1314</td>\n",
       "      <td>662</td>\n",
       "      <td>1</td>\n",
       "      <td>247</td>\n",
       "      <td>264</td>\n",
       "      <td>1529</td>\n",
       "      <td>1636</td>\n",
       "      <td>16</td>\n",
       "      <td>17</td>\n",
       "      <td>306</td>\n",
       "      <td>286</td>\n",
       "      <td>1</td>\n",
       "      <td>1</td>\n",
       "      <td>1226</td>\n",
       "      <td>1312</td>\n",
       "      <td>101</td>\n",
       "      <td>14</td>\n",
       "      <td>0</td>\n",
       "      <td>900</td>\n",
       "      <td>327</td>\n",
       "      <td>306</td>\n",
       "    </tr>\n",
       "    <tr>\n",
       "      <th>std</th>\n",
       "      <td>1507</td>\n",
       "      <td>960</td>\n",
       "      <td>2</td>\n",
       "      <td>687</td>\n",
       "      <td>735</td>\n",
       "      <td>2648</td>\n",
       "      <td>2833</td>\n",
       "      <td>106</td>\n",
       "      <td>113</td>\n",
       "      <td>710</td>\n",
       "      <td>663</td>\n",
       "      <td>34</td>\n",
       "      <td>37</td>\n",
       "      <td>2255</td>\n",
       "      <td>2413</td>\n",
       "      <td>336</td>\n",
       "      <td>78</td>\n",
       "      <td>0</td>\n",
       "      <td>1614</td>\n",
       "      <td>765</td>\n",
       "      <td>710</td>\n",
       "    </tr>\n",
       "    <tr>\n",
       "      <th>min</th>\n",
       "      <td>0</td>\n",
       "      <td>0</td>\n",
       "      <td>-4</td>\n",
       "      <td>-16977</td>\n",
       "      <td>-18165</td>\n",
       "      <td>-103729</td>\n",
       "      <td>-110990</td>\n",
       "      <td>-1772</td>\n",
       "      <td>-1896</td>\n",
       "      <td>-12151</td>\n",
       "      <td>-11356</td>\n",
       "      <td>-2738</td>\n",
       "      <td>-2930</td>\n",
       "      <td>-103729</td>\n",
       "      <td>-110990</td>\n",
       "      <td>-5800</td>\n",
       "      <td>-2988</td>\n",
       "      <td>0</td>\n",
       "      <td>-77797</td>\n",
       "      <td>-37008</td>\n",
       "      <td>-12151</td>\n",
       "    </tr>\n",
       "    <tr>\n",
       "      <th>25%</th>\n",
       "      <td>0</td>\n",
       "      <td>0</td>\n",
       "      <td>1</td>\n",
       "      <td>0</td>\n",
       "      <td>0</td>\n",
       "      <td>542</td>\n",
       "      <td>580</td>\n",
       "      <td>0</td>\n",
       "      <td>0</td>\n",
       "      <td>0</td>\n",
       "      <td>0</td>\n",
       "      <td>0</td>\n",
       "      <td>0</td>\n",
       "      <td>453</td>\n",
       "      <td>485</td>\n",
       "      <td>0</td>\n",
       "      <td>0</td>\n",
       "      <td>0</td>\n",
       "      <td>348</td>\n",
       "      <td>73</td>\n",
       "      <td>0</td>\n",
       "    </tr>\n",
       "    <tr>\n",
       "      <th>50%</th>\n",
       "      <td>1290</td>\n",
       "      <td>399</td>\n",
       "      <td>1</td>\n",
       "      <td>0</td>\n",
       "      <td>0</td>\n",
       "      <td>930</td>\n",
       "      <td>995</td>\n",
       "      <td>0</td>\n",
       "      <td>0</td>\n",
       "      <td>20</td>\n",
       "      <td>18</td>\n",
       "      <td>0</td>\n",
       "      <td>0</td>\n",
       "      <td>786</td>\n",
       "      <td>842</td>\n",
       "      <td>0</td>\n",
       "      <td>0</td>\n",
       "      <td>0</td>\n",
       "      <td>557</td>\n",
       "      <td>208</td>\n",
       "      <td>20</td>\n",
       "    </tr>\n",
       "    <tr>\n",
       "      <th>75%</th>\n",
       "      <td>1890</td>\n",
       "      <td>890</td>\n",
       "      <td>1</td>\n",
       "      <td>0</td>\n",
       "      <td>0</td>\n",
       "      <td>1678</td>\n",
       "      <td>1795</td>\n",
       "      <td>0</td>\n",
       "      <td>0</td>\n",
       "      <td>398</td>\n",
       "      <td>372</td>\n",
       "      <td>0</td>\n",
       "      <td>0</td>\n",
       "      <td>1304</td>\n",
       "      <td>1395</td>\n",
       "      <td>0</td>\n",
       "      <td>2</td>\n",
       "      <td>0</td>\n",
       "      <td>929</td>\n",
       "      <td>442</td>\n",
       "      <td>398</td>\n",
       "    </tr>\n",
       "    <tr>\n",
       "      <th>max</th>\n",
       "      <td>139000</td>\n",
       "      <td>29900</td>\n",
       "      <td>447</td>\n",
       "      <td>108038</td>\n",
       "      <td>115600</td>\n",
       "      <td>726449</td>\n",
       "      <td>777301</td>\n",
       "      <td>9692</td>\n",
       "      <td>10370</td>\n",
       "      <td>120619</td>\n",
       "      <td>112728</td>\n",
       "      <td>8364</td>\n",
       "      <td>8950</td>\n",
       "      <td>726449</td>\n",
       "      <td>777301</td>\n",
       "      <td>68893</td>\n",
       "      <td>15072</td>\n",
       "      <td>0</td>\n",
       "      <td>537064</td>\n",
       "      <td>189385</td>\n",
       "      <td>120619</td>\n",
       "    </tr>\n",
       "  </tbody>\n",
       "</table>\n",
       "</div>"
      ],
      "text/plain": [
       "      PRODUCT_ORIGINAL_PRICE PRODUCT_REGULAR_PRICE SALES_QUANTITY  \\\n",
       "count                3370557               3370557        3370557   \n",
       "mean                    1314                   662              1   \n",
       "std                     1507                   960              2   \n",
       "min                        0                     0             -4   \n",
       "25%                        0                     0              1   \n",
       "50%                     1290                   399              1   \n",
       "75%                     1890                   890              1   \n",
       "max                   139000                 29900            447   \n",
       "\n",
       "      PERMANENT_MARKDOWN_EXC_VAT PERMANENT_MARKDOWN_INC_VAT  \\\n",
       "count                    3370557                    3370557   \n",
       "mean                         247                        264   \n",
       "std                          687                        735   \n",
       "min                       -16977                     -18165   \n",
       "25%                            0                          0   \n",
       "50%                            0                          0   \n",
       "75%                            0                          0   \n",
       "max                       108038                     115600   \n",
       "\n",
       "      GROSS_SALES_EXC_VAT GROSS_SALES_INC_VAT PROMOTION_MARKDOWN_EXC_VAT  \\\n",
       "count             3370557             3370557                    3370557   \n",
       "mean                 1529                1636                         16   \n",
       "std                  2648                2833                        106   \n",
       "min               -103729             -110990                      -1772   \n",
       "25%                   542                 580                          0   \n",
       "50%                   930                 995                          0   \n",
       "75%                  1678                1795                          0   \n",
       "max                726449              777301                       9692   \n",
       "\n",
       "      PROMOTION_MARKDOWN_INC_VAT TOTAL_DISCOUNT_AMT_INC_VAT  \\\n",
       "count                    3370557                    3370557   \n",
       "mean                          17                        306   \n",
       "std                          113                        710   \n",
       "min                        -1896                     -12151   \n",
       "25%                            0                          0   \n",
       "50%                            0                         20   \n",
       "75%                            0                        398   \n",
       "max                        10370                     120619   \n",
       "\n",
       "      TOTAL_DISCOUNT_AMT_EXC_VAT EPOS_MARKDOWN_EXC_VAT EPOS_MARKDOWN_INC_VAT  \\\n",
       "count                    3370557               3370557               3370557   \n",
       "mean                         286                     1                     1   \n",
       "std                          663                    34                    37   \n",
       "min                       -11356                 -2738                 -2930   \n",
       "25%                            0                     0                     0   \n",
       "50%                           18                     0                     0   \n",
       "75%                          372                     0                     0   \n",
       "max                       112728                  8364                  8950   \n",
       "\n",
       "      NET_SALES_AMT_EXC_VAT NET_SALES_AMT_INC_VAT DISCOUNT_SHARING_AMT  \\\n",
       "count               3370557               3370557              3370557   \n",
       "mean                   1226                  1312                  101   \n",
       "std                    2255                  2413                  336   \n",
       "min                 -103729               -110990                -5800   \n",
       "25%                     453                   485                    0   \n",
       "50%                     786                   842                    0   \n",
       "75%                    1304                  1395                    0   \n",
       "max                  726449                777301                68893   \n",
       "\n",
       "      SPECIAL_GP_AMT PROMOTION_REBATE_AMT COST_OF_GOODS_SOLD  \\\n",
       "count        3370557              3370557            3370557   \n",
       "mean              14                    0                900   \n",
       "std               78                    0               1614   \n",
       "min            -2988                    0             -77797   \n",
       "25%                0                    0                348   \n",
       "50%                0                    0                557   \n",
       "75%                2                    0                929   \n",
       "max            15072                    0             537064   \n",
       "\n",
       "      NET_MARGIN_AMT_EXC_VAT     Disc  \n",
       "count                3370557  3370557  \n",
       "mean                     327      306  \n",
       "std                      765      710  \n",
       "min                   -37008   -12151  \n",
       "25%                       73        0  \n",
       "50%                      208       20  \n",
       "75%                      442      398  \n",
       "max                   189385   120619  "
      ]
     },
     "execution_count": 20,
     "metadata": {},
     "output_type": "execute_result"
    }
   ],
   "source": [
    "df_sales.describe().apply(lambda s: s.apply('{0:.0f}'.format))"
   ]
  },
  {
   "cell_type": "code",
   "execution_count": 21,
   "id": "f63e1954",
   "metadata": {},
   "outputs": [
    {
     "data": {
      "text/html": [
       "<div>\n",
       "<style scoped>\n",
       "    .dataframe tbody tr th:only-of-type {\n",
       "        vertical-align: middle;\n",
       "    }\n",
       "\n",
       "    .dataframe tbody tr th {\n",
       "        vertical-align: top;\n",
       "    }\n",
       "\n",
       "    .dataframe thead th {\n",
       "        text-align: right;\n",
       "    }\n",
       "</style>\n",
       "<table border=\"1\" class=\"dataframe\">\n",
       "  <thead>\n",
       "    <tr style=\"text-align: right;\">\n",
       "      <th></th>\n",
       "      <th>Date</th>\n",
       "      <th>Week Start</th>\n",
       "      <th>Week End</th>\n",
       "      <th>POS_NUMBER</th>\n",
       "      <th>TICKET_NUMBER</th>\n",
       "      <th>CHANNEL</th>\n",
       "      <th>SUPPLIER_GROUP</th>\n",
       "      <th>SUPPLIER_NAME</th>\n",
       "      <th>SKU_NUMBER</th>\n",
       "      <th>PRODUCT_NAME</th>\n",
       "      <th>PRODUCT_IBC</th>\n",
       "      <th>PRODUCT_SBC</th>\n",
       "      <th>PRODUCT_ORIGINAL_PRICE</th>\n",
       "      <th>PRODUCT_REGULAR_PRICE</th>\n",
       "      <th>PRODUCT_STATUS</th>\n",
       "      <th>PRODUCT_CATALOG_NUMBER</th>\n",
       "      <th>PRODUCT_SEASONAL_CODE</th>\n",
       "      <th>PRODUCT_SIZE_AND_COLOR</th>\n",
       "      <th>PRODUCT_COLOR</th>\n",
       "      <th>PRODUCT_MANUFACTURER_NUMBER</th>\n",
       "      <th>PRODUCT_SIZES</th>\n",
       "      <th>PRODUCT_SEASON</th>\n",
       "      <th>PRODUCT_SEASON_DESC</th>\n",
       "      <th>CREDIT_CONSIGN</th>\n",
       "      <th>BRAND_GROUP</th>\n",
       "      <th>BRAND_NAME</th>\n",
       "      <th>MEMBER_ID</th>\n",
       "      <th>SALES_QUANTITY</th>\n",
       "      <th>PERMANENT_MARKDOWN_EXC_VAT</th>\n",
       "      <th>PERMANENT_MARKDOWN_INC_VAT</th>\n",
       "      <th>GROSS_SALES_EXC_VAT</th>\n",
       "      <th>GROSS_SALES_INC_VAT</th>\n",
       "      <th>PROMOTION_MARKDOWN_EXC_VAT</th>\n",
       "      <th>PROMOTION_MARKDOWN_INC_VAT</th>\n",
       "      <th>TOTAL_DISCOUNT_AMT_INC_VAT</th>\n",
       "      <th>TOTAL_DISCOUNT_AMT_EXC_VAT</th>\n",
       "      <th>EPOS_MARKDOWN_EXC_VAT</th>\n",
       "      <th>EPOS_MARKDOWN_INC_VAT</th>\n",
       "      <th>NET_SALES_AMT_EXC_VAT</th>\n",
       "      <th>NET_SALES_AMT_INC_VAT</th>\n",
       "      <th>DISCOUNT_SHARING_AMT</th>\n",
       "      <th>SPECIAL_GP_AMT</th>\n",
       "      <th>PROMOTION_REBATE_AMT</th>\n",
       "      <th>COST_OF_GOODS_SOLD</th>\n",
       "      <th>NET_MARGIN_AMT_EXC_VAT</th>\n",
       "      <th>STORE_NUMBER</th>\n",
       "      <th>STORE_NAME</th>\n",
       "      <th>DEPARTMANT</th>\n",
       "      <th>SUBDEPARTMENT</th>\n",
       "      <th>CLASS</th>\n",
       "      <th>SUBCLASS</th>\n",
       "      <th>Disc</th>\n",
       "    </tr>\n",
       "  </thead>\n",
       "  <tbody>\n",
       "    <tr>\n",
       "      <th>729871</th>\n",
       "      <td>2020-09-26</td>\n",
       "      <td>2020-09-25</td>\n",
       "      <td>2020-09-25</td>\n",
       "      <td>NaN</td>\n",
       "      <td>NaN</td>\n",
       "      <td>New channels</td>\n",
       "      <td>Others</td>\n",
       "      <td>Y.M.F.INTERNATIONAL THAI CO.,LTD.</td>\n",
       "      <td>2383351</td>\n",
       "      <td>เสื้อชุดPRO YACCOMARICARD</td>\n",
       "      <td>88636467</td>\n",
       "      <td>0</td>\n",
       "      <td>0.0</td>\n",
       "      <td>0.0</td>\n",
       "      <td>Active</td>\n",
       "      <td>999</td>\n",
       "      <td>SEA</td>\n",
       "      <td>0</td>\n",
       "      <td>0</td>\n",
       "      <td>NaN</td>\n",
       "      <td>NaN</td>\n",
       "      <td>SEA</td>\n",
       "      <td>NaN</td>\n",
       "      <td>Consignment</td>\n",
       "      <td>YACCOMARICARD</td>\n",
       "      <td>YACCOMARICARD PRO</td>\n",
       "      <td>NaN</td>\n",
       "      <td>127</td>\n",
       "      <td>0.0</td>\n",
       "      <td>0.0</td>\n",
       "      <td>726449.49</td>\n",
       "      <td>777301.0</td>\n",
       "      <td>0.0</td>\n",
       "      <td>0.0</td>\n",
       "      <td>0.0</td>\n",
       "      <td>0.0</td>\n",
       "      <td>0.0</td>\n",
       "      <td>0.0</td>\n",
       "      <td>726449.49</td>\n",
       "      <td>777301.0</td>\n",
       "      <td>0.0</td>\n",
       "      <td>7773.01</td>\n",
       "      <td>0.0</td>\n",
       "      <td>537064.1399</td>\n",
       "      <td>189385.3501</td>\n",
       "      <td>10116</td>\n",
       "      <td>Bangna</td>\n",
       "      <td>003 - WOMEN</td>\n",
       "      <td>302 - MISSY APPARELS</td>\n",
       "      <td>101 - TOP</td>\n",
       "      <td>001 - BLOUSE</td>\n",
       "      <td>0.0</td>\n",
       "    </tr>\n",
       "  </tbody>\n",
       "</table>\n",
       "</div>"
      ],
      "text/plain": [
       "             Date Week Start   Week End POS_NUMBER TICKET_NUMBER  \\\n",
       "729871 2020-09-26 2020-09-25 2020-09-25        NaN           NaN   \n",
       "\n",
       "             CHANNEL SUPPLIER_GROUP                      SUPPLIER_NAME  \\\n",
       "729871  New channels         Others  Y.M.F.INTERNATIONAL THAI CO.,LTD.   \n",
       "\n",
       "       SKU_NUMBER               PRODUCT_NAME PRODUCT_IBC PRODUCT_SBC  \\\n",
       "729871    2383351  เสื้อชุดPRO YACCOMARICARD    88636467           0   \n",
       "\n",
       "        PRODUCT_ORIGINAL_PRICE  PRODUCT_REGULAR_PRICE PRODUCT_STATUS  \\\n",
       "729871                     0.0                    0.0         Active   \n",
       "\n",
       "       PRODUCT_CATALOG_NUMBER PRODUCT_SEASONAL_CODE PRODUCT_SIZE_AND_COLOR  \\\n",
       "729871                    999                   SEA                      0   \n",
       "\n",
       "       PRODUCT_COLOR PRODUCT_MANUFACTURER_NUMBER PRODUCT_SIZES PRODUCT_SEASON  \\\n",
       "729871             0                         NaN           NaN            SEA   \n",
       "\n",
       "       PRODUCT_SEASON_DESC CREDIT_CONSIGN    BRAND_GROUP         BRAND_NAME  \\\n",
       "729871                 NaN    Consignment  YACCOMARICARD  YACCOMARICARD PRO   \n",
       "\n",
       "       MEMBER_ID  SALES_QUANTITY  PERMANENT_MARKDOWN_EXC_VAT  \\\n",
       "729871       NaN             127                         0.0   \n",
       "\n",
       "        PERMANENT_MARKDOWN_INC_VAT  GROSS_SALES_EXC_VAT  GROSS_SALES_INC_VAT  \\\n",
       "729871                         0.0            726449.49             777301.0   \n",
       "\n",
       "        PROMOTION_MARKDOWN_EXC_VAT  PROMOTION_MARKDOWN_INC_VAT  \\\n",
       "729871                         0.0                         0.0   \n",
       "\n",
       "        TOTAL_DISCOUNT_AMT_INC_VAT  TOTAL_DISCOUNT_AMT_EXC_VAT  \\\n",
       "729871                         0.0                         0.0   \n",
       "\n",
       "        EPOS_MARKDOWN_EXC_VAT  EPOS_MARKDOWN_INC_VAT  NET_SALES_AMT_EXC_VAT  \\\n",
       "729871                    0.0                    0.0              726449.49   \n",
       "\n",
       "        NET_SALES_AMT_INC_VAT  DISCOUNT_SHARING_AMT  SPECIAL_GP_AMT  \\\n",
       "729871               777301.0                   0.0         7773.01   \n",
       "\n",
       "        PROMOTION_REBATE_AMT  COST_OF_GOODS_SOLD  NET_MARGIN_AMT_EXC_VAT  \\\n",
       "729871                   0.0         537064.1399             189385.3501   \n",
       "\n",
       "       STORE_NUMBER STORE_NAME   DEPARTMANT         SUBDEPARTMENT      CLASS  \\\n",
       "729871        10116     Bangna  003 - WOMEN  302 - MISSY APPARELS  101 - TOP   \n",
       "\n",
       "            SUBCLASS  Disc  \n",
       "729871  001 - BLOUSE   0.0  "
      ]
     },
     "execution_count": 21,
     "metadata": {},
     "output_type": "execute_result"
    }
   ],
   "source": [
    "# Checking the max value of Net Sales\n",
    "df_sales[df_sales['NET_SALES_AMT_EXC_VAT']==df_sales['NET_SALES_AMT_EXC_VAT'].max()]"
   ]
  },
  {
   "cell_type": "markdown",
   "id": "10165e7f",
   "metadata": {},
   "source": [
    "### 1.4 Defining new SKU number (*sku_id_upd*) which disregards size"
   ]
  },
  {
   "cell_type": "code",
   "execution_count": 22,
   "id": "551c0ee9",
   "metadata": {},
   "outputs": [],
   "source": [
    "# Trimming string fields and converting blanks to NaNs\n",
    "for var in config.sku_defining_cols:\n",
    "    if var!='Product_name_wo_size':\n",
    "        if not np.issubdtype(df_sales[var], np.number):\n",
    "            df_sales[var] = df_sales[var].astype('str').apply(custom_funcs.trim_and_convert_blanks_to_nan)"
   ]
  },
  {
   "cell_type": "code",
   "execution_count": 23,
   "id": "d2ee10ec",
   "metadata": {},
   "outputs": [],
   "source": [
    "# Removing leading zeros from PRODUCT_MANUFACTURER_NUMBER field\n",
    "df_sales['PRODUCT_MANUFACTURER_NUMBER'] = df_sales['PRODUCT_MANUFACTURER_NUMBER'].astype('str').apply(custom_funcs.remove_leading_zeros)"
   ]
  },
  {
   "cell_type": "code",
   "execution_count": 24,
   "id": "6f26720d",
   "metadata": {},
   "outputs": [],
   "source": [
    "# Converting values like 215.0 to 215\n",
    "for var in ['PRODUCT_COLOR', 'PRODUCT_SIZE_AND_COLOR']:\n",
    "    df_sales[var] = df_sales[var].astype('str').apply(custom_funcs.delimit_on_char, delimiter=\".\", part=0)"
   ]
  },
  {
   "cell_type": "code",
   "execution_count": 25,
   "id": "dc307707",
   "metadata": {},
   "outputs": [
    {
     "name": "stdout",
     "output_type": "stream",
     "text": [
      "['M', 'S', 'L', 'XL', 'XS', 'F', '10', '8', '12', '14', '36', '38', '6', '16', '34', '40', '18']\n"
     ]
    }
   ],
   "source": [
    "# Solving for cases where PRODUCT_SIZES is missing or if Prod Name has 2XL whereas Size has XXL, etc.\n",
    "# Taking top sizes that cover ~85% transactions\n",
    "all_sku_sizes = df_sales['PRODUCT_SIZES'].value_counts(dropna=True, normalize=True, ascending=False).reset_index(). \\\n",
    "                                            rename(columns={'index':'Size', 'PRODUCT_SIZES':'perc'})\n",
    "all_sku_sizes['cum_size_perc'] = all_sku_sizes['perc'].cumsum()\n",
    "top_sku_sizes = all_sku_sizes[all_sku_sizes['cum_size_perc']<=0.85]['Size'].to_list()\n",
    "print(top_sku_sizes)"
   ]
  },
  {
   "cell_type": "code",
   "execution_count": 26,
   "id": "adfd7c73",
   "metadata": {},
   "outputs": [],
   "source": [
    "# Adding custom sizes from config\n",
    "top_sku_sizes = top_sku_sizes + config.custom_size_list\n",
    "\n",
    "# Removing duplicates in case the size is in top 85% but also in custom list\n",
    "top_sku_sizes = list(dict.fromkeys(top_sku_sizes))"
   ]
  },
  {
   "cell_type": "code",
   "execution_count": 27,
   "id": "fae5bfed",
   "metadata": {},
   "outputs": [],
   "source": [
    "# Remove sizes at the end of product name and create field 'Product_name_wo_size'\n",
    "\n",
    "# Step1: If PRODUCT_SIZES is null, then check if last word in PRODUCT_NAME matches any value in top_sizes_list and remove if yes\n",
    "# Step2: Else If PRODUCT_SIZES is null then get PRODUCT_NAME as-is\n",
    "# Step3: Else If PRODUCT_SIZES is filled, check if PRODUCT_NAME contains PRODUCT_SIZES value at the end. Remove if yes\n",
    "# Step4: Else if PRODUCT_NAME contains top_sizes_list value at the end then remove the size\n",
    "# Step5: Else if none of the above, get PRODUCT_NAME as-is\n",
    "df_sales['Product_name_wo_size'] = df_sales.apply(lambda x: (' ').join(x['PRODUCT_NAME'].split()[:-1]) if (pd.isnull(x['PRODUCT_SIZES']) and x['PRODUCT_NAME'].split()[-1] in top_sku_sizes) else \\\n",
    "                                                         x['PRODUCT_NAME'] if pd.isnull(x['PRODUCT_SIZES']) else \\\n",
    "                                                        (' ').join(x['PRODUCT_NAME'].split()[:-1]) if x['PRODUCT_NAME'].split()[-1]==x['PRODUCT_SIZES'] else \\\n",
    "                                                        (' ').join(x['PRODUCT_NAME'].split()[:-1]) if x['PRODUCT_NAME'].split()[-1] in top_sku_sizes\n",
    "                                                        else x['PRODUCT_NAME'], axis=1)"
   ]
  },
  {
   "cell_type": "code",
   "execution_count": 28,
   "id": "fc51730c",
   "metadata": {},
   "outputs": [
    {
     "data": {
      "text/html": [
       "<div>\n",
       "<style scoped>\n",
       "    .dataframe tbody tr th:only-of-type {\n",
       "        vertical-align: middle;\n",
       "    }\n",
       "\n",
       "    .dataframe tbody tr th {\n",
       "        vertical-align: top;\n",
       "    }\n",
       "\n",
       "    .dataframe thead th {\n",
       "        text-align: right;\n",
       "    }\n",
       "</style>\n",
       "<table border=\"1\" class=\"dataframe\">\n",
       "  <thead>\n",
       "    <tr style=\"text-align: right;\">\n",
       "      <th></th>\n",
       "      <th>PRODUCT_NAME</th>\n",
       "      <th>PRODUCT_SIZES</th>\n",
       "      <th>Product_name_wo_size</th>\n",
       "    </tr>\n",
       "  </thead>\n",
       "  <tbody>\n",
       "    <tr>\n",
       "      <th>3370552</th>\n",
       "      <td>ชุดกระโปรงแขนCAP RE XL</td>\n",
       "      <td>XL</td>\n",
       "      <td>ชุดกระโปรงแขนCAP RE</td>\n",
       "    </tr>\n",
       "    <tr>\n",
       "      <th>3370553</th>\n",
       "      <td>ชุดกระโปรงแขนกุด RE L</td>\n",
       "      <td>L</td>\n",
       "      <td>ชุดกระโปรงแขนกุด RE</td>\n",
       "    </tr>\n",
       "    <tr>\n",
       "      <th>3370554</th>\n",
       "      <td>ชุดกระโปรงแขนกุด RE L</td>\n",
       "      <td>L</td>\n",
       "      <td>ชุดกระโปรงแขนกุด RE</td>\n",
       "    </tr>\n",
       "    <tr>\n",
       "      <th>3370555</th>\n",
       "      <td>ชุดกระโปรงแขนกุด RE L</td>\n",
       "      <td>L</td>\n",
       "      <td>ชุดกระโปรงแขนกุด RE</td>\n",
       "    </tr>\n",
       "    <tr>\n",
       "      <th>3370556</th>\n",
       "      <td>ชุดกระโปรงแขนกุด RE L</td>\n",
       "      <td>L</td>\n",
       "      <td>ชุดกระโปรงแขนกุด RE</td>\n",
       "    </tr>\n",
       "  </tbody>\n",
       "</table>\n",
       "</div>"
      ],
      "text/plain": [
       "                   PRODUCT_NAME PRODUCT_SIZES Product_name_wo_size\n",
       "3370552  ชุดกระโปรงแขนCAP RE XL            XL  ชุดกระโปรงแขนCAP RE\n",
       "3370553   ชุดกระโปรงแขนกุด RE L             L  ชุดกระโปรงแขนกุด RE\n",
       "3370554   ชุดกระโปรงแขนกุด RE L             L  ชุดกระโปรงแขนกุด RE\n",
       "3370555   ชุดกระโปรงแขนกุด RE L             L  ชุดกระโปรงแขนกุด RE\n",
       "3370556   ชุดกระโปรงแขนกุด RE L             L  ชุดกระโปรงแขนกุด RE"
      ]
     },
     "execution_count": 28,
     "metadata": {},
     "output_type": "execute_result"
    }
   ],
   "source": [
    "# Check values\n",
    "df_sales[['PRODUCT_NAME', 'PRODUCT_SIZES', 'Product_name_wo_size']].tail()"
   ]
  },
  {
   "cell_type": "code",
   "execution_count": 29,
   "id": "971d0714",
   "metadata": {},
   "outputs": [],
   "source": [
    "# Defining new SKU id as a combination of several fields given by 'sku_defining_cols'\n",
    "df_sku_new = df_sales.groupby(config.sku_defining_cols, dropna=False).size().to_frame('size').reset_index()"
   ]
  },
  {
   "cell_type": "code",
   "execution_count": 30,
   "id": "83c73169",
   "metadata": {},
   "outputs": [
    {
     "data": {
      "text/plain": [
       "(64861, 16)"
      ]
     },
     "execution_count": 30,
     "metadata": {},
     "output_type": "execute_result"
    }
   ],
   "source": [
    "df_sku_new.shape"
   ]
  },
  {
   "cell_type": "code",
   "execution_count": 31,
   "id": "1108a9d8",
   "metadata": {},
   "outputs": [],
   "source": [
    "df_sku_new['sku_id_upd'] = np.arange(df_sku_new.shape[0])+1\n",
    "df_sku_new['sku_id_upd'] = df_sku_new['sku_id_upd'].astype('str')"
   ]
  },
  {
   "cell_type": "code",
   "execution_count": 32,
   "id": "5ded97f6",
   "metadata": {},
   "outputs": [],
   "source": [
    "df_sku_new = df_sku_new.drop(columns='size')"
   ]
  },
  {
   "cell_type": "code",
   "execution_count": 33,
   "id": "1a0a8c35",
   "metadata": {},
   "outputs": [],
   "source": [
    "df_sales = df_sales.merge(df_sku_new, on=config.sku_defining_cols, how='inner')"
   ]
  },
  {
   "cell_type": "code",
   "execution_count": 34,
   "id": "094f38ef",
   "metadata": {},
   "outputs": [
    {
     "data": {
      "text/plain": [
       "(3370557, 54)"
      ]
     },
     "execution_count": 34,
     "metadata": {},
     "output_type": "execute_result"
    }
   ],
   "source": [
    "df_sales.shape"
   ]
  },
  {
   "cell_type": "code",
   "execution_count": 35,
   "id": "368db3dd",
   "metadata": {},
   "outputs": [
    {
     "data": {
      "text/html": [
       "<div>\n",
       "<style scoped>\n",
       "    .dataframe tbody tr th:only-of-type {\n",
       "        vertical-align: middle;\n",
       "    }\n",
       "\n",
       "    .dataframe tbody tr th {\n",
       "        vertical-align: top;\n",
       "    }\n",
       "\n",
       "    .dataframe thead th {\n",
       "        text-align: right;\n",
       "    }\n",
       "</style>\n",
       "<table border=\"1\" class=\"dataframe\">\n",
       "  <thead>\n",
       "    <tr style=\"text-align: right;\">\n",
       "      <th></th>\n",
       "      <th>Date</th>\n",
       "      <th>Week Start</th>\n",
       "      <th>Week End</th>\n",
       "      <th>POS_NUMBER</th>\n",
       "      <th>TICKET_NUMBER</th>\n",
       "      <th>CHANNEL</th>\n",
       "      <th>SUPPLIER_GROUP</th>\n",
       "      <th>SUPPLIER_NAME</th>\n",
       "      <th>SKU_NUMBER</th>\n",
       "      <th>PRODUCT_NAME</th>\n",
       "      <th>PRODUCT_IBC</th>\n",
       "      <th>PRODUCT_SBC</th>\n",
       "      <th>PRODUCT_ORIGINAL_PRICE</th>\n",
       "      <th>PRODUCT_REGULAR_PRICE</th>\n",
       "      <th>PRODUCT_STATUS</th>\n",
       "      <th>PRODUCT_CATALOG_NUMBER</th>\n",
       "      <th>PRODUCT_SEASONAL_CODE</th>\n",
       "      <th>PRODUCT_SIZE_AND_COLOR</th>\n",
       "      <th>PRODUCT_COLOR</th>\n",
       "      <th>PRODUCT_MANUFACTURER_NUMBER</th>\n",
       "      <th>PRODUCT_SIZES</th>\n",
       "      <th>PRODUCT_SEASON</th>\n",
       "      <th>PRODUCT_SEASON_DESC</th>\n",
       "      <th>CREDIT_CONSIGN</th>\n",
       "      <th>BRAND_GROUP</th>\n",
       "      <th>BRAND_NAME</th>\n",
       "      <th>MEMBER_ID</th>\n",
       "      <th>SALES_QUANTITY</th>\n",
       "      <th>PERMANENT_MARKDOWN_EXC_VAT</th>\n",
       "      <th>PERMANENT_MARKDOWN_INC_VAT</th>\n",
       "      <th>GROSS_SALES_EXC_VAT</th>\n",
       "      <th>GROSS_SALES_INC_VAT</th>\n",
       "      <th>PROMOTION_MARKDOWN_EXC_VAT</th>\n",
       "      <th>PROMOTION_MARKDOWN_INC_VAT</th>\n",
       "      <th>TOTAL_DISCOUNT_AMT_INC_VAT</th>\n",
       "      <th>TOTAL_DISCOUNT_AMT_EXC_VAT</th>\n",
       "      <th>EPOS_MARKDOWN_EXC_VAT</th>\n",
       "      <th>EPOS_MARKDOWN_INC_VAT</th>\n",
       "      <th>NET_SALES_AMT_EXC_VAT</th>\n",
       "      <th>NET_SALES_AMT_INC_VAT</th>\n",
       "      <th>DISCOUNT_SHARING_AMT</th>\n",
       "      <th>SPECIAL_GP_AMT</th>\n",
       "      <th>PROMOTION_REBATE_AMT</th>\n",
       "      <th>COST_OF_GOODS_SOLD</th>\n",
       "      <th>NET_MARGIN_AMT_EXC_VAT</th>\n",
       "      <th>STORE_NUMBER</th>\n",
       "      <th>STORE_NAME</th>\n",
       "      <th>DEPARTMANT</th>\n",
       "      <th>SUBDEPARTMENT</th>\n",
       "      <th>CLASS</th>\n",
       "      <th>SUBCLASS</th>\n",
       "      <th>Disc</th>\n",
       "      <th>Product_name_wo_size</th>\n",
       "      <th>sku_id_upd</th>\n",
       "    </tr>\n",
       "  </thead>\n",
       "  <tbody>\n",
       "    <tr>\n",
       "      <th>0</th>\n",
       "      <td>2020-01-01</td>\n",
       "      <td>2019-12-27</td>\n",
       "      <td>2019-12-27</td>\n",
       "      <td>NaN</td>\n",
       "      <td>NaN</td>\n",
       "      <td>Offline</td>\n",
       "      <td>Others</td>\n",
       "      <td>P.N.L.CO.,LTD.</td>\n",
       "      <td>1602292</td>\n",
       "      <td>เสื้อชุดสตรี CLAUDIA KLEID</td>\n",
       "      <td>6234737</td>\n",
       "      <td>0</td>\n",
       "      <td>0.0</td>\n",
       "      <td>0.0</td>\n",
       "      <td>Active</td>\n",
       "      <td>999</td>\n",
       "      <td>NON</td>\n",
       "      <td>0</td>\n",
       "      <td>0</td>\n",
       "      <td>NaN</td>\n",
       "      <td>NaN</td>\n",
       "      <td>NON</td>\n",
       "      <td>NaN</td>\n",
       "      <td>Consignment</td>\n",
       "      <td>CLAUDIA KLEID</td>\n",
       "      <td>CLAUDIA KLEID</td>\n",
       "      <td>NaN</td>\n",
       "      <td>2</td>\n",
       "      <td>0.0</td>\n",
       "      <td>0.0</td>\n",
       "      <td>7084.10</td>\n",
       "      <td>7580.0</td>\n",
       "      <td>0.0</td>\n",
       "      <td>0.0</td>\n",
       "      <td>3674.00</td>\n",
       "      <td>3433.64</td>\n",
       "      <td>0.0</td>\n",
       "      <td>0.0</td>\n",
       "      <td>3650.46</td>\n",
       "      <td>3906.00</td>\n",
       "      <td>1137.0</td>\n",
       "      <td>379.0</td>\n",
       "      <td>0.0</td>\n",
       "      <td>3230.3551</td>\n",
       "      <td>420.1049</td>\n",
       "      <td>10102</td>\n",
       "      <td>Chidlom</td>\n",
       "      <td>003 - WOMEN</td>\n",
       "      <td>302 - MISSY APPARELS</td>\n",
       "      <td>104 - OUTERWEAR</td>\n",
       "      <td>002 - COAT</td>\n",
       "      <td>3674.00</td>\n",
       "      <td>เสื้อชุดสตรี CLAUDIA KLEID</td>\n",
       "      <td>63616</td>\n",
       "    </tr>\n",
       "    <tr>\n",
       "      <th>1</th>\n",
       "      <td>2020-01-02</td>\n",
       "      <td>2019-12-27</td>\n",
       "      <td>2019-12-27</td>\n",
       "      <td>NaN</td>\n",
       "      <td>NaN</td>\n",
       "      <td>Offline</td>\n",
       "      <td>Others</td>\n",
       "      <td>P.N.L.CO.,LTD.</td>\n",
       "      <td>1602292</td>\n",
       "      <td>เสื้อชุดสตรี CLAUDIA KLEID</td>\n",
       "      <td>6234737</td>\n",
       "      <td>0</td>\n",
       "      <td>0.0</td>\n",
       "      <td>0.0</td>\n",
       "      <td>Active</td>\n",
       "      <td>999</td>\n",
       "      <td>NON</td>\n",
       "      <td>0</td>\n",
       "      <td>0</td>\n",
       "      <td>NaN</td>\n",
       "      <td>NaN</td>\n",
       "      <td>NON</td>\n",
       "      <td>NaN</td>\n",
       "      <td>Consignment</td>\n",
       "      <td>CLAUDIA KLEID</td>\n",
       "      <td>CLAUDIA KLEID</td>\n",
       "      <td>NaN</td>\n",
       "      <td>1</td>\n",
       "      <td>0.0</td>\n",
       "      <td>0.0</td>\n",
       "      <td>3448.60</td>\n",
       "      <td>3690.0</td>\n",
       "      <td>0.0</td>\n",
       "      <td>0.0</td>\n",
       "      <td>1161.83</td>\n",
       "      <td>1085.82</td>\n",
       "      <td>0.0</td>\n",
       "      <td>0.0</td>\n",
       "      <td>2362.78</td>\n",
       "      <td>2528.17</td>\n",
       "      <td>553.5</td>\n",
       "      <td>184.5</td>\n",
       "      <td>0.0</td>\n",
       "      <td>1572.5607</td>\n",
       "      <td>790.2193</td>\n",
       "      <td>10102</td>\n",
       "      <td>Chidlom</td>\n",
       "      <td>003 - WOMEN</td>\n",
       "      <td>302 - MISSY APPARELS</td>\n",
       "      <td>104 - OUTERWEAR</td>\n",
       "      <td>002 - COAT</td>\n",
       "      <td>1161.83</td>\n",
       "      <td>เสื้อชุดสตรี CLAUDIA KLEID</td>\n",
       "      <td>63616</td>\n",
       "    </tr>\n",
       "    <tr>\n",
       "      <th>2</th>\n",
       "      <td>2020-01-02</td>\n",
       "      <td>2019-12-27</td>\n",
       "      <td>2019-12-27</td>\n",
       "      <td>NaN</td>\n",
       "      <td>NaN</td>\n",
       "      <td>Offline</td>\n",
       "      <td>Others</td>\n",
       "      <td>P.N.L.CO.,LTD.</td>\n",
       "      <td>1602292</td>\n",
       "      <td>เสื้อชุดสตรี CLAUDIA KLEID</td>\n",
       "      <td>6234737</td>\n",
       "      <td>0</td>\n",
       "      <td>0.0</td>\n",
       "      <td>0.0</td>\n",
       "      <td>Active</td>\n",
       "      <td>999</td>\n",
       "      <td>NON</td>\n",
       "      <td>0</td>\n",
       "      <td>0</td>\n",
       "      <td>NaN</td>\n",
       "      <td>NaN</td>\n",
       "      <td>NON</td>\n",
       "      <td>NaN</td>\n",
       "      <td>Consignment</td>\n",
       "      <td>CLAUDIA KLEID</td>\n",
       "      <td>CLAUDIA KLEID</td>\n",
       "      <td>NaN</td>\n",
       "      <td>5</td>\n",
       "      <td>0.0</td>\n",
       "      <td>0.0</td>\n",
       "      <td>17803.75</td>\n",
       "      <td>19050.0</td>\n",
       "      <td>0.0</td>\n",
       "      <td>0.0</td>\n",
       "      <td>5334.00</td>\n",
       "      <td>4985.05</td>\n",
       "      <td>0.0</td>\n",
       "      <td>0.0</td>\n",
       "      <td>12818.70</td>\n",
       "      <td>13716.00</td>\n",
       "      <td>2667.0</td>\n",
       "      <td>952.5</td>\n",
       "      <td>0.0</td>\n",
       "      <td>8309.0046</td>\n",
       "      <td>4509.6954</td>\n",
       "      <td>10102</td>\n",
       "      <td>Chidlom</td>\n",
       "      <td>003 - WOMEN</td>\n",
       "      <td>302 - MISSY APPARELS</td>\n",
       "      <td>104 - OUTERWEAR</td>\n",
       "      <td>002 - COAT</td>\n",
       "      <td>5334.00</td>\n",
       "      <td>เสื้อชุดสตรี CLAUDIA KLEID</td>\n",
       "      <td>63616</td>\n",
       "    </tr>\n",
       "    <tr>\n",
       "      <th>3</th>\n",
       "      <td>2020-01-03</td>\n",
       "      <td>2020-01-03</td>\n",
       "      <td>2020-01-03</td>\n",
       "      <td>NaN</td>\n",
       "      <td>NaN</td>\n",
       "      <td>Offline</td>\n",
       "      <td>Others</td>\n",
       "      <td>P.N.L.CO.,LTD.</td>\n",
       "      <td>1602292</td>\n",
       "      <td>เสื้อชุดสตรี CLAUDIA KLEID</td>\n",
       "      <td>6234737</td>\n",
       "      <td>0</td>\n",
       "      <td>0.0</td>\n",
       "      <td>0.0</td>\n",
       "      <td>Active</td>\n",
       "      <td>999</td>\n",
       "      <td>NON</td>\n",
       "      <td>0</td>\n",
       "      <td>0</td>\n",
       "      <td>NaN</td>\n",
       "      <td>NaN</td>\n",
       "      <td>NON</td>\n",
       "      <td>NaN</td>\n",
       "      <td>Consignment</td>\n",
       "      <td>CLAUDIA KLEID</td>\n",
       "      <td>CLAUDIA KLEID</td>\n",
       "      <td>NaN</td>\n",
       "      <td>7</td>\n",
       "      <td>0.0</td>\n",
       "      <td>0.0</td>\n",
       "      <td>17504.69</td>\n",
       "      <td>18730.0</td>\n",
       "      <td>0.0</td>\n",
       "      <td>0.0</td>\n",
       "      <td>6683.37</td>\n",
       "      <td>6246.15</td>\n",
       "      <td>0.0</td>\n",
       "      <td>0.0</td>\n",
       "      <td>11258.54</td>\n",
       "      <td>12046.63</td>\n",
       "      <td>2799.0</td>\n",
       "      <td>936.5</td>\n",
       "      <td>0.0</td>\n",
       "      <td>7992.6307</td>\n",
       "      <td>3265.9093</td>\n",
       "      <td>10102</td>\n",
       "      <td>Chidlom</td>\n",
       "      <td>003 - WOMEN</td>\n",
       "      <td>302 - MISSY APPARELS</td>\n",
       "      <td>104 - OUTERWEAR</td>\n",
       "      <td>002 - COAT</td>\n",
       "      <td>6683.37</td>\n",
       "      <td>เสื้อชุดสตรี CLAUDIA KLEID</td>\n",
       "      <td>63616</td>\n",
       "    </tr>\n",
       "    <tr>\n",
       "      <th>4</th>\n",
       "      <td>2020-01-03</td>\n",
       "      <td>2020-01-03</td>\n",
       "      <td>2020-01-03</td>\n",
       "      <td>NaN</td>\n",
       "      <td>NaN</td>\n",
       "      <td>Offline</td>\n",
       "      <td>Others</td>\n",
       "      <td>P.N.L.CO.,LTD.</td>\n",
       "      <td>1602292</td>\n",
       "      <td>เสื้อชุดสตรี CLAUDIA KLEID</td>\n",
       "      <td>6234737</td>\n",
       "      <td>0</td>\n",
       "      <td>0.0</td>\n",
       "      <td>0.0</td>\n",
       "      <td>Active</td>\n",
       "      <td>999</td>\n",
       "      <td>NON</td>\n",
       "      <td>0</td>\n",
       "      <td>0</td>\n",
       "      <td>NaN</td>\n",
       "      <td>NaN</td>\n",
       "      <td>NON</td>\n",
       "      <td>NaN</td>\n",
       "      <td>Consignment</td>\n",
       "      <td>CLAUDIA KLEID</td>\n",
       "      <td>CLAUDIA KLEID</td>\n",
       "      <td>NaN</td>\n",
       "      <td>13</td>\n",
       "      <td>0.0</td>\n",
       "      <td>0.0</td>\n",
       "      <td>44644.85</td>\n",
       "      <td>47770.0</td>\n",
       "      <td>0.0</td>\n",
       "      <td>0.0</td>\n",
       "      <td>14331.00</td>\n",
       "      <td>13393.46</td>\n",
       "      <td>0.0</td>\n",
       "      <td>0.0</td>\n",
       "      <td>31251.39</td>\n",
       "      <td>33439.00</td>\n",
       "      <td>7165.5</td>\n",
       "      <td>2388.5</td>\n",
       "      <td>0.0</td>\n",
       "      <td>20358.0561</td>\n",
       "      <td>10893.3339</td>\n",
       "      <td>10102</td>\n",
       "      <td>Chidlom</td>\n",
       "      <td>003 - WOMEN</td>\n",
       "      <td>302 - MISSY APPARELS</td>\n",
       "      <td>104 - OUTERWEAR</td>\n",
       "      <td>002 - COAT</td>\n",
       "      <td>14331.00</td>\n",
       "      <td>เสื้อชุดสตรี CLAUDIA KLEID</td>\n",
       "      <td>63616</td>\n",
       "    </tr>\n",
       "  </tbody>\n",
       "</table>\n",
       "</div>"
      ],
      "text/plain": [
       "        Date Week Start   Week End POS_NUMBER TICKET_NUMBER  CHANNEL  \\\n",
       "0 2020-01-01 2019-12-27 2019-12-27        NaN           NaN  Offline   \n",
       "1 2020-01-02 2019-12-27 2019-12-27        NaN           NaN  Offline   \n",
       "2 2020-01-02 2019-12-27 2019-12-27        NaN           NaN  Offline   \n",
       "3 2020-01-03 2020-01-03 2020-01-03        NaN           NaN  Offline   \n",
       "4 2020-01-03 2020-01-03 2020-01-03        NaN           NaN  Offline   \n",
       "\n",
       "  SUPPLIER_GROUP   SUPPLIER_NAME SKU_NUMBER                PRODUCT_NAME  \\\n",
       "0         Others  P.N.L.CO.,LTD.    1602292  เสื้อชุดสตรี CLAUDIA KLEID   \n",
       "1         Others  P.N.L.CO.,LTD.    1602292  เสื้อชุดสตรี CLAUDIA KLEID   \n",
       "2         Others  P.N.L.CO.,LTD.    1602292  เสื้อชุดสตรี CLAUDIA KLEID   \n",
       "3         Others  P.N.L.CO.,LTD.    1602292  เสื้อชุดสตรี CLAUDIA KLEID   \n",
       "4         Others  P.N.L.CO.,LTD.    1602292  เสื้อชุดสตรี CLAUDIA KLEID   \n",
       "\n",
       "  PRODUCT_IBC PRODUCT_SBC  PRODUCT_ORIGINAL_PRICE  PRODUCT_REGULAR_PRICE  \\\n",
       "0     6234737           0                     0.0                    0.0   \n",
       "1     6234737           0                     0.0                    0.0   \n",
       "2     6234737           0                     0.0                    0.0   \n",
       "3     6234737           0                     0.0                    0.0   \n",
       "4     6234737           0                     0.0                    0.0   \n",
       "\n",
       "  PRODUCT_STATUS PRODUCT_CATALOG_NUMBER PRODUCT_SEASONAL_CODE  \\\n",
       "0         Active                    999                   NON   \n",
       "1         Active                    999                   NON   \n",
       "2         Active                    999                   NON   \n",
       "3         Active                    999                   NON   \n",
       "4         Active                    999                   NON   \n",
       "\n",
       "  PRODUCT_SIZE_AND_COLOR PRODUCT_COLOR PRODUCT_MANUFACTURER_NUMBER  \\\n",
       "0                      0             0                         NaN   \n",
       "1                      0             0                         NaN   \n",
       "2                      0             0                         NaN   \n",
       "3                      0             0                         NaN   \n",
       "4                      0             0                         NaN   \n",
       "\n",
       "  PRODUCT_SIZES PRODUCT_SEASON  PRODUCT_SEASON_DESC CREDIT_CONSIGN  \\\n",
       "0           NaN            NON                  NaN    Consignment   \n",
       "1           NaN            NON                  NaN    Consignment   \n",
       "2           NaN            NON                  NaN    Consignment   \n",
       "3           NaN            NON                  NaN    Consignment   \n",
       "4           NaN            NON                  NaN    Consignment   \n",
       "\n",
       "     BRAND_GROUP     BRAND_NAME MEMBER_ID  SALES_QUANTITY  \\\n",
       "0  CLAUDIA KLEID  CLAUDIA KLEID       NaN               2   \n",
       "1  CLAUDIA KLEID  CLAUDIA KLEID       NaN               1   \n",
       "2  CLAUDIA KLEID  CLAUDIA KLEID       NaN               5   \n",
       "3  CLAUDIA KLEID  CLAUDIA KLEID       NaN               7   \n",
       "4  CLAUDIA KLEID  CLAUDIA KLEID       NaN              13   \n",
       "\n",
       "   PERMANENT_MARKDOWN_EXC_VAT  PERMANENT_MARKDOWN_INC_VAT  \\\n",
       "0                         0.0                         0.0   \n",
       "1                         0.0                         0.0   \n",
       "2                         0.0                         0.0   \n",
       "3                         0.0                         0.0   \n",
       "4                         0.0                         0.0   \n",
       "\n",
       "   GROSS_SALES_EXC_VAT  GROSS_SALES_INC_VAT  PROMOTION_MARKDOWN_EXC_VAT  \\\n",
       "0              7084.10               7580.0                         0.0   \n",
       "1              3448.60               3690.0                         0.0   \n",
       "2             17803.75              19050.0                         0.0   \n",
       "3             17504.69              18730.0                         0.0   \n",
       "4             44644.85              47770.0                         0.0   \n",
       "\n",
       "   PROMOTION_MARKDOWN_INC_VAT  TOTAL_DISCOUNT_AMT_INC_VAT  \\\n",
       "0                         0.0                     3674.00   \n",
       "1                         0.0                     1161.83   \n",
       "2                         0.0                     5334.00   \n",
       "3                         0.0                     6683.37   \n",
       "4                         0.0                    14331.00   \n",
       "\n",
       "   TOTAL_DISCOUNT_AMT_EXC_VAT  EPOS_MARKDOWN_EXC_VAT  EPOS_MARKDOWN_INC_VAT  \\\n",
       "0                     3433.64                    0.0                    0.0   \n",
       "1                     1085.82                    0.0                    0.0   \n",
       "2                     4985.05                    0.0                    0.0   \n",
       "3                     6246.15                    0.0                    0.0   \n",
       "4                    13393.46                    0.0                    0.0   \n",
       "\n",
       "   NET_SALES_AMT_EXC_VAT  NET_SALES_AMT_INC_VAT  DISCOUNT_SHARING_AMT  \\\n",
       "0                3650.46                3906.00                1137.0   \n",
       "1                2362.78                2528.17                 553.5   \n",
       "2               12818.70               13716.00                2667.0   \n",
       "3               11258.54               12046.63                2799.0   \n",
       "4               31251.39               33439.00                7165.5   \n",
       "\n",
       "   SPECIAL_GP_AMT  PROMOTION_REBATE_AMT  COST_OF_GOODS_SOLD  \\\n",
       "0           379.0                   0.0           3230.3551   \n",
       "1           184.5                   0.0           1572.5607   \n",
       "2           952.5                   0.0           8309.0046   \n",
       "3           936.5                   0.0           7992.6307   \n",
       "4          2388.5                   0.0          20358.0561   \n",
       "\n",
       "   NET_MARGIN_AMT_EXC_VAT STORE_NUMBER STORE_NAME   DEPARTMANT  \\\n",
       "0                420.1049        10102    Chidlom  003 - WOMEN   \n",
       "1                790.2193        10102    Chidlom  003 - WOMEN   \n",
       "2               4509.6954        10102    Chidlom  003 - WOMEN   \n",
       "3               3265.9093        10102    Chidlom  003 - WOMEN   \n",
       "4              10893.3339        10102    Chidlom  003 - WOMEN   \n",
       "\n",
       "          SUBDEPARTMENT            CLASS    SUBCLASS      Disc  \\\n",
       "0  302 - MISSY APPARELS  104 - OUTERWEAR  002 - COAT   3674.00   \n",
       "1  302 - MISSY APPARELS  104 - OUTERWEAR  002 - COAT   1161.83   \n",
       "2  302 - MISSY APPARELS  104 - OUTERWEAR  002 - COAT   5334.00   \n",
       "3  302 - MISSY APPARELS  104 - OUTERWEAR  002 - COAT   6683.37   \n",
       "4  302 - MISSY APPARELS  104 - OUTERWEAR  002 - COAT  14331.00   \n",
       "\n",
       "         Product_name_wo_size sku_id_upd  \n",
       "0  เสื้อชุดสตรี CLAUDIA KLEID      63616  \n",
       "1  เสื้อชุดสตรี CLAUDIA KLEID      63616  \n",
       "2  เสื้อชุดสตรี CLAUDIA KLEID      63616  \n",
       "3  เสื้อชุดสตรี CLAUDIA KLEID      63616  \n",
       "4  เสื้อชุดสตรี CLAUDIA KLEID      63616  "
      ]
     },
     "execution_count": 35,
     "metadata": {},
     "output_type": "execute_result"
    }
   ],
   "source": [
    "df_sales.head()"
   ]
  },
  {
   "cell_type": "markdown",
   "id": "3ad2eee8",
   "metadata": {},
   "source": [
    "# <span style=\"color:#c6aa3d\">2. Processing store data</span><a class=\"anchor\" id=\"2-bullet\"></a>"
   ]
  },
  {
   "cell_type": "markdown",
   "id": "1e9497ee",
   "metadata": {},
   "source": [
    "### 2.1 Reading store mapping data"
   ]
  },
  {
   "cell_type": "code",
   "execution_count": 36,
   "id": "5c12e2df",
   "metadata": {},
   "outputs": [],
   "source": [
    "# Reading store mapping data\n",
    "store = pd.read_csv(raw_data_path + \"store_v2.csv\", dtype = {'STORE_NUMBER': object})\n",
    "store.columns = [x.lower() for x in store.columns]\n",
    "store = store.drop(columns=['store_name'])"
   ]
  },
  {
   "cell_type": "code",
   "execution_count": 37,
   "id": "7753971c",
   "metadata": {},
   "outputs": [
    {
     "data": {
      "text/html": [
       "<div>\n",
       "<style scoped>\n",
       "    .dataframe tbody tr th:only-of-type {\n",
       "        vertical-align: middle;\n",
       "    }\n",
       "\n",
       "    .dataframe tbody tr th {\n",
       "        vertical-align: top;\n",
       "    }\n",
       "\n",
       "    .dataframe thead th {\n",
       "        text-align: right;\n",
       "    }\n",
       "</style>\n",
       "<table border=\"1\" class=\"dataframe\">\n",
       "  <thead>\n",
       "    <tr style=\"text-align: right;\">\n",
       "      <th></th>\n",
       "      <th>store_number</th>\n",
       "      <th>store_brand</th>\n",
       "      <th>store_group</th>\n",
       "      <th>segment</th>\n",
       "      <th>store_type</th>\n",
       "      <th>store_location_name</th>\n",
       "      <th>banner</th>\n",
       "    </tr>\n",
       "  </thead>\n",
       "  <tbody>\n",
       "    <tr>\n",
       "      <th>0</th>\n",
       "      <td>10139</td>\n",
       "      <td>CDS</td>\n",
       "      <td>CDS</td>\n",
       "      <td>Brand Shop</td>\n",
       "      <td>Brand Shop</td>\n",
       "      <td>M&amp;S Chiangmai 2</td>\n",
       "      <td>Others</td>\n",
       "    </tr>\n",
       "    <tr>\n",
       "      <th>1</th>\n",
       "      <td>10183</td>\n",
       "      <td>CDS</td>\n",
       "      <td>CDS</td>\n",
       "      <td>Core + L</td>\n",
       "      <td>Department store</td>\n",
       "      <td>Rangsit</td>\n",
       "      <td>Others</td>\n",
       "    </tr>\n",
       "    <tr>\n",
       "      <th>2</th>\n",
       "      <td>20194</td>\n",
       "      <td>RBS</td>\n",
       "      <td>RBS</td>\n",
       "      <td>Brand Shop</td>\n",
       "      <td>Brand Shop</td>\n",
       "      <td>Saraburi</td>\n",
       "      <td>Others</td>\n",
       "    </tr>\n",
       "    <tr>\n",
       "      <th>3</th>\n",
       "      <td>14149</td>\n",
       "      <td>CDS</td>\n",
       "      <td>CDS</td>\n",
       "      <td>Core + L</td>\n",
       "      <td>Department store</td>\n",
       "      <td>WestGate</td>\n",
       "      <td>Others</td>\n",
       "    </tr>\n",
       "    <tr>\n",
       "      <th>4</th>\n",
       "      <td>20152</td>\n",
       "      <td>RBS</td>\n",
       "      <td>RBS</td>\n",
       "      <td>Brand Shop</td>\n",
       "      <td>Brand Shop</td>\n",
       "      <td>PAYLESS SHOES PINKLAO</td>\n",
       "      <td>Others</td>\n",
       "    </tr>\n",
       "  </tbody>\n",
       "</table>\n",
       "</div>"
      ],
      "text/plain": [
       "  store_number store_brand store_group     segment        store_type  \\\n",
       "0        10139         CDS         CDS  Brand Shop        Brand Shop   \n",
       "1        10183         CDS         CDS    Core + L  Department store   \n",
       "2        20194         RBS         RBS  Brand Shop        Brand Shop   \n",
       "3        14149         CDS         CDS    Core + L  Department store   \n",
       "4        20152         RBS         RBS  Brand Shop        Brand Shop   \n",
       "\n",
       "     store_location_name  banner  \n",
       "0        M&S Chiangmai 2  Others  \n",
       "1                Rangsit  Others  \n",
       "2               Saraburi  Others  \n",
       "3               WestGate  Others  \n",
       "4  PAYLESS SHOES PINKLAO  Others  "
      ]
     },
     "execution_count": 37,
     "metadata": {},
     "output_type": "execute_result"
    }
   ],
   "source": [
    "store.head()"
   ]
  },
  {
   "cell_type": "code",
   "execution_count": 38,
   "id": "285013f4",
   "metadata": {},
   "outputs": [],
   "source": [
    "# Check uniqueness and blanks in store numbers\n",
    "unique_frac_store_num = store.store_number.nunique()/store.shape[0]\n",
    "missing_frac_store_num = store.store_number.isna().sum()/store.shape[0]\n",
    "\n",
    "assert unique_frac_store_num==1, \"Duplicate values in store_number field\"\n",
    "assert missing_frac_store_num==0, \"Missing values in store_number field\""
   ]
  },
  {
   "cell_type": "code",
   "execution_count": 39,
   "id": "3cdfd0ad",
   "metadata": {},
   "outputs": [],
   "source": [
    "store= store[['store_number', 'banner']]\n",
    "store= store.rename(columns={'store_number': 'STORE_NUMBER'})"
   ]
  },
  {
   "cell_type": "markdown",
   "id": "5aa9571f",
   "metadata": {},
   "source": [
    "### 2.2 Merging store data into sales data"
   ]
  },
  {
   "cell_type": "code",
   "execution_count": 40,
   "id": "664b68eb",
   "metadata": {},
   "outputs": [],
   "source": [
    "sales_filter = df_sales.copy()\n",
    "\n",
    "sales_filter = pd.merge(sales_filter, store, on=['STORE_NUMBER'], how='left')"
   ]
  },
  {
   "cell_type": "code",
   "execution_count": 41,
   "id": "840998b2",
   "metadata": {},
   "outputs": [
    {
     "data": {
      "text/plain": [
       "CDS       1660474\n",
       "RBS       1138364\n",
       "Others     571719\n",
       "Name: banner, dtype: int64"
      ]
     },
     "execution_count": 41,
     "metadata": {},
     "output_type": "execute_result"
    }
   ],
   "source": [
    "# Check\n",
    "sales_filter['banner'].value_counts(dropna=False)"
   ]
  },
  {
   "cell_type": "markdown",
   "id": "7bc4b618",
   "metadata": {},
   "source": [
    "# <span style=\"color:#c6aa3d\">3. Sales data filtering</span><a class=\"anchor\" id=\"3-bullet\"></a>"
   ]
  },
  {
   "cell_type": "markdown",
   "id": "72701b8d",
   "metadata": {},
   "source": [
    "### 3.1 Creating date fields"
   ]
  },
  {
   "cell_type": "code",
   "execution_count": 42,
   "id": "7bb2b126",
   "metadata": {},
   "outputs": [],
   "source": [
    "sales_filter['year'] =  sales_filter['Date'].dt.year\n",
    "sales_filter['month'] =  sales_filter['Date'].dt.month"
   ]
  },
  {
   "cell_type": "code",
   "execution_count": 43,
   "id": "7e425276",
   "metadata": {},
   "outputs": [],
   "source": [
    "sales_filter = sales_filter.rename(columns={'Week Start': 'week_start_date', 'Week End': 'week_end_date'})"
   ]
  },
  {
   "cell_type": "code",
   "execution_count": 44,
   "id": "dbd0ce91",
   "metadata": {},
   "outputs": [
    {
     "data": {
      "text/html": [
       "<div>\n",
       "<style scoped>\n",
       "    .dataframe tbody tr th:only-of-type {\n",
       "        vertical-align: middle;\n",
       "    }\n",
       "\n",
       "    .dataframe tbody tr th {\n",
       "        vertical-align: top;\n",
       "    }\n",
       "\n",
       "    .dataframe thead th {\n",
       "        text-align: right;\n",
       "    }\n",
       "</style>\n",
       "<table border=\"1\" class=\"dataframe\">\n",
       "  <thead>\n",
       "    <tr style=\"text-align: right;\">\n",
       "      <th></th>\n",
       "      <th>Date</th>\n",
       "      <th>week_start_date</th>\n",
       "      <th>week_end_date</th>\n",
       "    </tr>\n",
       "  </thead>\n",
       "  <tbody>\n",
       "    <tr>\n",
       "      <th>3370552</th>\n",
       "      <td>2022-01-23</td>\n",
       "      <td>2022-01-21</td>\n",
       "      <td>2022-01-21</td>\n",
       "    </tr>\n",
       "    <tr>\n",
       "      <th>3370553</th>\n",
       "      <td>2022-01-24</td>\n",
       "      <td>2022-01-21</td>\n",
       "      <td>2022-01-21</td>\n",
       "    </tr>\n",
       "    <tr>\n",
       "      <th>3370554</th>\n",
       "      <td>2022-01-22</td>\n",
       "      <td>2022-01-21</td>\n",
       "      <td>2022-01-21</td>\n",
       "    </tr>\n",
       "    <tr>\n",
       "      <th>3370555</th>\n",
       "      <td>2022-01-31</td>\n",
       "      <td>2022-01-28</td>\n",
       "      <td>2022-01-28</td>\n",
       "    </tr>\n",
       "    <tr>\n",
       "      <th>3370556</th>\n",
       "      <td>2022-01-30</td>\n",
       "      <td>2022-01-28</td>\n",
       "      <td>2022-01-28</td>\n",
       "    </tr>\n",
       "  </tbody>\n",
       "</table>\n",
       "</div>"
      ],
      "text/plain": [
       "              Date week_start_date week_end_date\n",
       "3370552 2022-01-23      2022-01-21    2022-01-21\n",
       "3370553 2022-01-24      2022-01-21    2022-01-21\n",
       "3370554 2022-01-22      2022-01-21    2022-01-21\n",
       "3370555 2022-01-31      2022-01-28    2022-01-28\n",
       "3370556 2022-01-30      2022-01-28    2022-01-28"
      ]
     },
     "execution_count": 44,
     "metadata": {},
     "output_type": "execute_result"
    }
   ],
   "source": [
    "# Check values\n",
    "sales_filter[['Date','week_start_date', 'week_end_date']].tail(5)"
   ]
  },
  {
   "cell_type": "markdown",
   "id": "2c0d8bfd",
   "metadata": {},
   "source": [
    "### 3.2 Creating duplicate SKU flag"
   ]
  },
  {
   "cell_type": "code",
   "execution_count": 45,
   "id": "75485f63",
   "metadata": {},
   "outputs": [],
   "source": [
    "sales_filter['disc_x100']=(sales_filter['Disc']*100).astype(int)"
   ]
  },
  {
   "cell_type": "code",
   "execution_count": 46,
   "id": "3a1671fb",
   "metadata": {},
   "outputs": [
    {
     "name": "stdout",
     "output_type": "stream",
     "text": [
      "(492,)\n"
     ]
    }
   ],
   "source": [
    "# check for duplicated SKUs\n",
    "ID = ['Date', 'STORE_NUMBER', 'POS_NUMBER', 'TICKET_NUMBER', 'SKU_NUMBER', 'disc_x100']\n",
    "sales_filter['duplicates'] = sales_filter.duplicated(subset=ID)\n",
    "SKU_duplicated_2021_2022 = sales_filter.loc[(sales_filter['year']>=2021) & (sales_filter['duplicates']==True), 'SKU_NUMBER']\n",
    "SKU_duplicated_2021_2022 = SKU_duplicated_2021_2022.drop_duplicates()\n",
    "\n",
    "print(SKU_duplicated_2021_2022.shape)"
   ]
  },
  {
   "cell_type": "code",
   "execution_count": 47,
   "id": "1fd79794",
   "metadata": {},
   "outputs": [],
   "source": [
    "# Creating duplicate SKUs flag\n",
    "sales_filter['dup_SKU_21_22_flag'] = 0\n",
    "sales_filter.loc[sales_filter['SKU_NUMBER'].isin(SKU_duplicated_2021_2022), 'dup_SKU_21_22_flag'] = 1"
   ]
  },
  {
   "cell_type": "code",
   "execution_count": 48,
   "id": "9a8d18d1",
   "metadata": {},
   "outputs": [
    {
     "data": {
      "text/plain": [
       "0    2486274\n",
       "1     884283\n",
       "Name: dup_SKU_21_22_flag, dtype: int64"
      ]
     },
     "execution_count": 48,
     "metadata": {},
     "output_type": "execute_result"
    }
   ],
   "source": [
    "sales_filter['dup_SKU_21_22_flag'].value_counts(dropna=False)"
   ]
  },
  {
   "cell_type": "code",
   "execution_count": 49,
   "id": "86ff7b51",
   "metadata": {},
   "outputs": [],
   "source": [
    "sales_filter['store_banner_flag'] = 1\n",
    "sales_filter.loc[sales_filter['banner'].isin(['CDS', 'RBS']), 'store_banner_flag'] = 0"
   ]
  },
  {
   "cell_type": "code",
   "execution_count": 50,
   "id": "ac2a00bc",
   "metadata": {},
   "outputs": [
    {
     "data": {
      "text/plain": [
       "dup_SKU_21_22_flag  store_banner_flag\n",
       "0                   0                    1942673\n",
       "                    1                     543601\n",
       "1                   0                     856165\n",
       "                    1                      28118\n",
       "Name: store_banner_flag, dtype: int64"
      ]
     },
     "execution_count": 50,
     "metadata": {},
     "output_type": "execute_result"
    }
   ],
   "source": [
    "sales_filter.groupby('dup_SKU_21_22_flag')['store_banner_flag'].value_counts(dropna=False)"
   ]
  },
  {
   "cell_type": "markdown",
   "id": "da024014",
   "metadata": {},
   "source": [
    "### 3.4 Creating zero price SKU flag"
   ]
  },
  {
   "cell_type": "code",
   "execution_count": 51,
   "id": "f5b345a0",
   "metadata": {},
   "outputs": [],
   "source": [
    "sales_filter['zero_reg_price_flag'] = 0\n",
    "sales_filter.loc[sales_filter['PRODUCT_REGULAR_PRICE']==0, 'zero_reg_price_flag'] = 1"
   ]
  },
  {
   "cell_type": "code",
   "execution_count": 52,
   "id": "19081329",
   "metadata": {},
   "outputs": [
    {
     "data": {
      "text/plain": [
       "dup_SKU_21_22_flag  store_banner_flag  zero_reg_price_flag\n",
       "0                   0                  0                      1817955\n",
       "                                       1                       124718\n",
       "                    1                  0                       535187\n",
       "                                       1                         8414\n",
       "1                   0                  1                       849645\n",
       "                                       0                         6520\n",
       "                    1                  1                        26684\n",
       "                                       0                         1434\n",
       "Name: zero_reg_price_flag, dtype: int64"
      ]
     },
     "execution_count": 52,
     "metadata": {},
     "output_type": "execute_result"
    }
   ],
   "source": [
    "sales_filter.groupby(['dup_SKU_21_22_flag', 'store_banner_flag'])['zero_reg_price_flag'].value_counts(dropna=False)"
   ]
  },
  {
   "cell_type": "markdown",
   "id": "d99ef029",
   "metadata": {},
   "source": [
    "### 3.5 Filtering Sales data"
   ]
  },
  {
   "cell_type": "code",
   "execution_count": 53,
   "id": "0da71c34",
   "metadata": {},
   "outputs": [],
   "source": [
    "model_df = sales_filter.copy()"
   ]
  },
  {
   "cell_type": "code",
   "execution_count": 54,
   "id": "545e1861",
   "metadata": {},
   "outputs": [],
   "source": [
    "#Filter for all flags\n",
    "model_df = model_df[model_df['store_banner_flag']==0]\n",
    "model_df = model_df[model_df['zero_reg_price_flag']==0]\n",
    "model_df = model_df[model_df['dup_SKU_21_22_flag']==0]"
   ]
  },
  {
   "cell_type": "code",
   "execution_count": 55,
   "id": "edb74642",
   "metadata": {},
   "outputs": [
    {
     "data": {
      "text/plain": [
       "(1817955, 62)"
      ]
     },
     "execution_count": 55,
     "metadata": {},
     "output_type": "execute_result"
    }
   ],
   "source": [
    "model_df.shape"
   ]
  },
  {
   "cell_type": "markdown",
   "id": "ea278041",
   "metadata": {},
   "source": [
    "# <span style=\"color:#c6aa3d\">4. Sales data rollup to weekly level</span><a class=\"anchor\" id=\"4-bullet\"></a>"
   ]
  },
  {
   "cell_type": "markdown",
   "id": "67d5cd13",
   "metadata": {},
   "source": [
    "### 4.1 Rolling sales data at Banner/SKU/week level"
   ]
  },
  {
   "cell_type": "code",
   "execution_count": 56,
   "id": "7647a255",
   "metadata": {},
   "outputs": [],
   "source": [
    "group = config.grouping_vars_weekly"
   ]
  },
  {
   "cell_type": "code",
   "execution_count": 57,
   "id": "13bccbc3",
   "metadata": {},
   "outputs": [],
   "source": [
    "model_df['Disc'] = model_df['Disc'].fillna(0)\n",
    "model_df['PROMOTION_MARKDOWN_INC_VAT'] = model_df['PROMOTION_MARKDOWN_INC_VAT'].fillna(0)\n",
    "model_df['EPOS_MARKDOWN_INC_VAT'] = model_df['EPOS_MARKDOWN_INC_VAT'].fillna(0)"
   ]
  },
  {
   "cell_type": "code",
   "execution_count": 58,
   "id": "e634bf46",
   "metadata": {},
   "outputs": [],
   "source": [
    "model_df['total_disc'] = model_df['Disc'] + model_df['PROMOTION_MARKDOWN_INC_VAT'] + model_df['EPOS_MARKDOWN_INC_VAT']"
   ]
  },
  {
   "cell_type": "code",
   "execution_count": 59,
   "id": "cc048690",
   "metadata": {},
   "outputs": [],
   "source": [
    "sales_wk = model_df.groupby(group).agg({'GROSS_SALES_INC_VAT' : 'sum',\n",
    "                                      'NET_SALES_AMT_INC_VAT' : 'sum',\n",
    "                                      'SALES_QUANTITY' : 'sum',\n",
    "                                      'COST_OF_GOODS_SOLD' : 'sum',\n",
    "                                      'PERMANENT_MARKDOWN_INC_VAT' : 'sum',\n",
    "                                      'Disc': 'sum',\n",
    "                                      'total_disc': 'sum',\n",
    "                                       'NET_MARGIN_AMT_EXC_VAT': 'sum'}).reset_index()"
   ]
  },
  {
   "cell_type": "code",
   "execution_count": 60,
   "id": "2341bad6",
   "metadata": {},
   "outputs": [
    {
     "data": {
      "text/plain": [
       "(691959, 11)"
      ]
     },
     "execution_count": 60,
     "metadata": {},
     "output_type": "execute_result"
    }
   ],
   "source": [
    "sales_wk.shape"
   ]
  },
  {
   "cell_type": "markdown",
   "id": "8fc23cfb",
   "metadata": {},
   "source": [
    "### 4.2 Calculating price metrics"
   ]
  },
  {
   "cell_type": "markdown",
   "id": "963ad117",
   "metadata": {},
   "source": [
    "**Objective**: Calculating base price and net price (price) per unit. As we expect base price per unit to not change widely for a specific SKU across weeks (especially for non-markdown SKUs), we take the most common (mode) weekly base price per unit for such SKUs. However, for some instances the new mode base price is less than net price (price) for some weeks. In such cases, we take the original weekly base price for that SKU and disregard the new (mode) base price"
   ]
  },
  {
   "cell_type": "code",
   "execution_count": 61,
   "id": "3e1df37b",
   "metadata": {},
   "outputs": [],
   "source": [
    "# Calculating base price per unit\n",
    "sales_wk['base_price'] = np.where(sales_wk['SALES_QUANTITY']==0, 0, \n",
    "                                  sales_wk['GROSS_SALES_INC_VAT']/sales_wk['SALES_QUANTITY'])\n",
    "sales_wk['base_price'] = sales_wk['base_price'].fillna(0)"
   ]
  },
  {
   "cell_type": "code",
   "execution_count": 62,
   "id": "da30cb73",
   "metadata": {},
   "outputs": [],
   "source": [
    "sales_wk['price'] = np.where(sales_wk['SALES_QUANTITY']==0, 0, \n",
    "                        sales_wk['NET_SALES_AMT_INC_VAT']/sales_wk['SALES_QUANTITY'])\n",
    "sales_wk['price'].fillna(0, inplace = True)"
   ]
  },
  {
   "cell_type": "code",
   "execution_count": 63,
   "id": "cb41d580",
   "metadata": {},
   "outputs": [
    {
     "name": "stdout",
     "output_type": "stream",
     "text": [
      "['banner', 'sku_id_upd'] combinations with mode frequency% above 80.0% = 82.0 % \n"
     ]
    }
   ],
   "source": [
    "# Base price flattening\n",
    "# For non-markdown SKUs, determine the most common base price value across weeks\n",
    "sales_wk['mode_base_price'] = custom_funcs.impute_mode_value(sales_wk, impute_col='base_price',\n",
    "                                                     group_vars=['banner','sku_id_upd'], exclude_markdown=True,\n",
    "                                                    markdown_col='PERMANENT_MARKDOWN_INC_VAT', mode_freq_thresh=0.8)"
   ]
  },
  {
   "cell_type": "code",
   "execution_count": 64,
   "id": "ad6551a9",
   "metadata": {},
   "outputs": [],
   "source": [
    "# Check SKU/banner combinations wherein there are instances of imputed base price being lower than price\n",
    "# For such SKUs, move back to the original base price, else the new (mode) base price\n",
    "anomaly_mode_base_price_df = sales_wk[sales_wk['mode_base_price']<sales_wk['price']].drop_duplicates(['banner','sku_id_upd'])\n",
    "anomaly_mode_base_price_df = anomaly_mode_base_price_df[['banner','sku_id_upd']]\n",
    "\n",
    "sales_wk = sales_wk.merge(anomaly_mode_base_price_df, on=['banner','sku_id_upd'], how='left', indicator=True)\n",
    "sales_wk['base_price'] = np.where(sales_wk['_merge']=='left_only', sales_wk['mode_base_price'], sales_wk['base_price'])\n",
    "sales_wk = sales_wk.drop(columns='_merge')"
   ]
  },
  {
   "cell_type": "code",
   "execution_count": 65,
   "id": "fb060e52",
   "metadata": {},
   "outputs": [
    {
     "data": {
      "text/html": [
       "<div>\n",
       "<style scoped>\n",
       "    .dataframe tbody tr th:only-of-type {\n",
       "        vertical-align: middle;\n",
       "    }\n",
       "\n",
       "    .dataframe tbody tr th {\n",
       "        vertical-align: top;\n",
       "    }\n",
       "\n",
       "    .dataframe thead th {\n",
       "        text-align: right;\n",
       "    }\n",
       "</style>\n",
       "<table border=\"1\" class=\"dataframe\">\n",
       "  <thead>\n",
       "    <tr style=\"text-align: right;\">\n",
       "      <th></th>\n",
       "      <th>banner</th>\n",
       "      <th>sku_id_upd</th>\n",
       "      <th>week_start_date</th>\n",
       "      <th>GROSS_SALES_INC_VAT</th>\n",
       "      <th>NET_SALES_AMT_INC_VAT</th>\n",
       "      <th>SALES_QUANTITY</th>\n",
       "      <th>COST_OF_GOODS_SOLD</th>\n",
       "      <th>PERMANENT_MARKDOWN_INC_VAT</th>\n",
       "      <th>Disc</th>\n",
       "      <th>total_disc</th>\n",
       "      <th>NET_MARGIN_AMT_EXC_VAT</th>\n",
       "      <th>base_price</th>\n",
       "      <th>price</th>\n",
       "      <th>mode_base_price</th>\n",
       "    </tr>\n",
       "  </thead>\n",
       "  <tbody>\n",
       "    <tr>\n",
       "      <th>0</th>\n",
       "      <td>CDS</td>\n",
       "      <td>100</td>\n",
       "      <td>2021-07-09</td>\n",
       "      <td>1590.0</td>\n",
       "      <td>1272.00</td>\n",
       "      <td>1</td>\n",
       "      <td>347.0</td>\n",
       "      <td>0.0</td>\n",
       "      <td>318.00</td>\n",
       "      <td>318.00</td>\n",
       "      <td>841.79</td>\n",
       "      <td>1590.0</td>\n",
       "      <td>1272.000</td>\n",
       "      <td>1590.0</td>\n",
       "    </tr>\n",
       "    <tr>\n",
       "      <th>1</th>\n",
       "      <td>CDS</td>\n",
       "      <td>100</td>\n",
       "      <td>2021-07-23</td>\n",
       "      <td>1590.0</td>\n",
       "      <td>1272.00</td>\n",
       "      <td>1</td>\n",
       "      <td>347.0</td>\n",
       "      <td>0.0</td>\n",
       "      <td>318.00</td>\n",
       "      <td>318.00</td>\n",
       "      <td>841.79</td>\n",
       "      <td>1590.0</td>\n",
       "      <td>1272.000</td>\n",
       "      <td>1590.0</td>\n",
       "    </tr>\n",
       "    <tr>\n",
       "      <th>2</th>\n",
       "      <td>CDS</td>\n",
       "      <td>100</td>\n",
       "      <td>2021-08-27</td>\n",
       "      <td>3180.0</td>\n",
       "      <td>2481.49</td>\n",
       "      <td>2</td>\n",
       "      <td>694.0</td>\n",
       "      <td>0.0</td>\n",
       "      <td>698.51</td>\n",
       "      <td>698.51</td>\n",
       "      <td>1625.15</td>\n",
       "      <td>1590.0</td>\n",
       "      <td>1240.745</td>\n",
       "      <td>1590.0</td>\n",
       "    </tr>\n",
       "    <tr>\n",
       "      <th>3</th>\n",
       "      <td>CDS</td>\n",
       "      <td>100</td>\n",
       "      <td>2021-09-03</td>\n",
       "      <td>7950.0</td>\n",
       "      <td>6360.00</td>\n",
       "      <td>6</td>\n",
       "      <td>1735.0</td>\n",
       "      <td>0.0</td>\n",
       "      <td>1590.00</td>\n",
       "      <td>1590.00</td>\n",
       "      <td>4208.95</td>\n",
       "      <td>1590.0</td>\n",
       "      <td>1060.000</td>\n",
       "      <td>1590.0</td>\n",
       "    </tr>\n",
       "    <tr>\n",
       "      <th>4</th>\n",
       "      <td>CDS</td>\n",
       "      <td>100</td>\n",
       "      <td>2021-09-10</td>\n",
       "      <td>7950.0</td>\n",
       "      <td>5801.00</td>\n",
       "      <td>5</td>\n",
       "      <td>1735.0</td>\n",
       "      <td>0.0</td>\n",
       "      <td>2149.00</td>\n",
       "      <td>2149.00</td>\n",
       "      <td>3686.51</td>\n",
       "      <td>1590.0</td>\n",
       "      <td>1160.200</td>\n",
       "      <td>1590.0</td>\n",
       "    </tr>\n",
       "  </tbody>\n",
       "</table>\n",
       "</div>"
      ],
      "text/plain": [
       "  banner sku_id_upd week_start_date  GROSS_SALES_INC_VAT  \\\n",
       "0    CDS        100      2021-07-09               1590.0   \n",
       "1    CDS        100      2021-07-23               1590.0   \n",
       "2    CDS        100      2021-08-27               3180.0   \n",
       "3    CDS        100      2021-09-03               7950.0   \n",
       "4    CDS        100      2021-09-10               7950.0   \n",
       "\n",
       "   NET_SALES_AMT_INC_VAT  SALES_QUANTITY  COST_OF_GOODS_SOLD  \\\n",
       "0                1272.00               1               347.0   \n",
       "1                1272.00               1               347.0   \n",
       "2                2481.49               2               694.0   \n",
       "3                6360.00               6              1735.0   \n",
       "4                5801.00               5              1735.0   \n",
       "\n",
       "   PERMANENT_MARKDOWN_INC_VAT     Disc  total_disc  NET_MARGIN_AMT_EXC_VAT  \\\n",
       "0                         0.0   318.00      318.00                  841.79   \n",
       "1                         0.0   318.00      318.00                  841.79   \n",
       "2                         0.0   698.51      698.51                 1625.15   \n",
       "3                         0.0  1590.00     1590.00                 4208.95   \n",
       "4                         0.0  2149.00     2149.00                 3686.51   \n",
       "\n",
       "   base_price     price  mode_base_price  \n",
       "0      1590.0  1272.000           1590.0  \n",
       "1      1590.0  1272.000           1590.0  \n",
       "2      1590.0  1240.745           1590.0  \n",
       "3      1590.0  1060.000           1590.0  \n",
       "4      1590.0  1160.200           1590.0  "
      ]
     },
     "execution_count": 65,
     "metadata": {},
     "output_type": "execute_result"
    }
   ],
   "source": [
    "# Inspecting\n",
    "sales_wk.head()"
   ]
  },
  {
   "cell_type": "markdown",
   "id": "7693ae2e",
   "metadata": {},
   "source": [
    "### 4.3 Calculating %discount"
   ]
  },
  {
   "cell_type": "code",
   "execution_count": 66,
   "id": "6d6f1165",
   "metadata": {},
   "outputs": [],
   "source": [
    "sales2_wk = sales_wk.copy()\n",
    "\n",
    "sales2_wk['promo_yn'] = np.where(sales2_wk['price'] < sales2_wk['base_price'],1,0)\n"
   ]
  },
  {
   "cell_type": "code",
   "execution_count": 67,
   "id": "716127f5",
   "metadata": {},
   "outputs": [],
   "source": [
    "sales2_wk['discount'] = np.where(sales2_wk['promo_yn'] == 1,\n",
    "                                   (1-(sales2_wk['price']/sales2_wk['base_price'])),0 )\n",
    "sales2_wk['discount']=sales2_wk['discount'].mask(sales2_wk['discount'].lt(0),0)\n",
    "sales2_wk['discount']=sales2_wk['discount'].mask(sales2_wk['discount'].gt(1),1)\n",
    "sales2_wk['discount']=sales2_wk['discount'].fillna(0)"
   ]
  },
  {
   "cell_type": "code",
   "execution_count": 68,
   "id": "60045a21",
   "metadata": {},
   "outputs": [
    {
     "data": {
      "text/plain": [
       "count    691959.000000\n",
       "mean          0.200204\n",
       "std           0.207568\n",
       "min           0.000000\n",
       "25%           0.000000\n",
       "50%           0.183333\n",
       "75%           0.320898\n",
       "max           1.000000\n",
       "Name: discount, dtype: float64"
      ]
     },
     "execution_count": 68,
     "metadata": {},
     "output_type": "execute_result"
    }
   ],
   "source": [
    "sales2_wk['discount'].describe()"
   ]
  },
  {
   "cell_type": "markdown",
   "id": "9cd65c2c",
   "metadata": {},
   "source": [
    "# <span style=\"color:#c6aa3d\">5. Processing discount data</span><a class=\"anchor\" id=\"5-bullet\"></a>"
   ]
  },
  {
   "cell_type": "markdown",
   "id": "75f1e7e0",
   "metadata": {},
   "source": [
    "### 5.1 Reading and combining Discount Data"
   ]
  },
  {
   "cell_type": "code",
   "execution_count": 69,
   "id": "08490ebb",
   "metadata": {},
   "outputs": [],
   "source": [
    "df_discount_2020 = pd.read_csv(raw_data_path + \"20220222_Discount_2020.csv\", dtype=config.discount_data_col_types)"
   ]
  },
  {
   "cell_type": "code",
   "execution_count": 70,
   "id": "d6d76f5c",
   "metadata": {},
   "outputs": [],
   "source": [
    "df_discount_2021 = pd.read_csv(raw_data_path + \"20220222_Discount_2021.csv\", dtype=config.discount_data_col_types)"
   ]
  },
  {
   "cell_type": "code",
   "execution_count": 71,
   "id": "86362fc3",
   "metadata": {},
   "outputs": [],
   "source": [
    "df_discount_2022 = pd.read_csv(raw_data_path + \"20220222_Discount_2022.csv\", dtype=config.discount_data_col_types)"
   ]
  },
  {
   "cell_type": "code",
   "execution_count": 72,
   "id": "7550a480",
   "metadata": {},
   "outputs": [
    {
     "name": "stdout",
     "output_type": "stream",
     "text": [
      "2020 data shape: (2528482, 23), 2021 data shape: (1751322, 23), 2022 data shape: (343274, 23)\n"
     ]
    }
   ],
   "source": [
    "print(f\"2020 data shape: {df_discount_2020.shape}, 2021 data shape: {df_discount_2021.shape}, 2022 data shape: {df_discount_2022.shape}\")"
   ]
  },
  {
   "cell_type": "code",
   "execution_count": 73,
   "id": "800e3b64",
   "metadata": {},
   "outputs": [],
   "source": [
    "# Combining discount for 2020, 2021 and 2022\n",
    "df_discount = pd.concat([df_discount_2020, df_discount_2021, df_discount_2022])"
   ]
  },
  {
   "cell_type": "code",
   "execution_count": 74,
   "id": "773dfd7d",
   "metadata": {},
   "outputs": [
    {
     "name": "stdout",
     "output_type": "stream",
     "text": [
      "Shape of combined data: (4623078, 23)\n"
     ]
    }
   ],
   "source": [
    "# Check shape of combined data and that its rows equal the row sum of base datasets\n",
    "print(f\"Shape of combined data: {df_discount.shape}\")\n",
    "combined_discount_rows_equality = (df_discount.shape[0]==(df_discount_2020.shape[0]+df_discount_2021.shape[0]+df_discount_2022.shape[0]))\n",
    "\n",
    "assert combined_discount_rows_equality==True, \"Number of rows of combined discount doesn't equal row sum of base discount datasets\""
   ]
  },
  {
   "cell_type": "code",
   "execution_count": 75,
   "id": "e8e81e79",
   "metadata": {},
   "outputs": [
    {
     "data": {
      "text/html": [
       "<div>\n",
       "<style scoped>\n",
       "    .dataframe tbody tr th:only-of-type {\n",
       "        vertical-align: middle;\n",
       "    }\n",
       "\n",
       "    .dataframe tbody tr th {\n",
       "        vertical-align: top;\n",
       "    }\n",
       "\n",
       "    .dataframe thead th {\n",
       "        text-align: right;\n",
       "    }\n",
       "</style>\n",
       "<table border=\"1\" class=\"dataframe\">\n",
       "  <thead>\n",
       "    <tr style=\"text-align: right;\">\n",
       "      <th></th>\n",
       "      <th>DATES</th>\n",
       "      <th>STORE_NUMBER</th>\n",
       "      <th>STORE_NAME</th>\n",
       "      <th>POS_NUMBER</th>\n",
       "      <th>TICKET_NUMBER</th>\n",
       "      <th>SKU_NUMBER</th>\n",
       "      <th>CAMPAIGN_ID</th>\n",
       "      <th>CAMPAIGN_PROMOTION</th>\n",
       "      <th>PROMOTION_TYPE</th>\n",
       "      <th>DISCOUNTID</th>\n",
       "      <th>DISCOUNT_CODE</th>\n",
       "      <th>DISCOUNT_CODE_NAME</th>\n",
       "      <th>SUB_DISCOUNT_GROUP</th>\n",
       "      <th>OWNERSHIP</th>\n",
       "      <th>DISCOUNT_TYPE</th>\n",
       "      <th>DISCOUNT_GROUP_NAME</th>\n",
       "      <th>DISCOUNT_RULE</th>\n",
       "      <th>DISCOUNT_MECHANIC_CODE</th>\n",
       "      <th>DISCOUNT_MECHANIC_NAME</th>\n",
       "      <th>DISCOUNT_MECHANIC</th>\n",
       "      <th>PTD_EPOS_DISC_AMT_INC_VAT</th>\n",
       "      <th>PTD_EPOS_DISC_AMT_EXC_VAT</th>\n",
       "      <th>FileName</th>\n",
       "    </tr>\n",
       "  </thead>\n",
       "  <tbody>\n",
       "    <tr>\n",
       "      <th>0</th>\n",
       "      <td>20200326</td>\n",
       "      <td>20136</td>\n",
       "      <td>Chachoengsao</td>\n",
       "      <td>101</td>\n",
       "      <td>82408</td>\n",
       "      <td>11897531</td>\n",
       "      <td>NaN</td>\n",
       "      <td>NaN</td>\n",
       "      <td>NaN</td>\n",
       "      <td>NaN</td>\n",
       "      <td>00</td>\n",
       "      <td>00</td>\n",
       "      <td>System Discount</td>\n",
       "      <td>No Code</td>\n",
       "      <td>NaN</td>\n",
       "      <td>No Discount</td>\n",
       "      <td>Line Discount</td>\n",
       "      <td>NaN</td>\n",
       "      <td>Manual</td>\n",
       "      <td>0</td>\n",
       "      <td>0.0</td>\n",
       "      <td>0.0</td>\n",
       "      <td>discount_20200101_20200331</td>\n",
       "    </tr>\n",
       "    <tr>\n",
       "      <th>1</th>\n",
       "      <td>20200326</td>\n",
       "      <td>20122</td>\n",
       "      <td>Trang</td>\n",
       "      <td>102</td>\n",
       "      <td>124793</td>\n",
       "      <td>11887404</td>\n",
       "      <td>NaN</td>\n",
       "      <td>NaN</td>\n",
       "      <td>NaN</td>\n",
       "      <td>NaN</td>\n",
       "      <td>00</td>\n",
       "      <td>00</td>\n",
       "      <td>System Discount</td>\n",
       "      <td>No Code</td>\n",
       "      <td>NaN</td>\n",
       "      <td>No Discount</td>\n",
       "      <td>Line Discount</td>\n",
       "      <td>NaN</td>\n",
       "      <td>Manual</td>\n",
       "      <td>0</td>\n",
       "      <td>0.0</td>\n",
       "      <td>0.0</td>\n",
       "      <td>discount_20200101_20200331</td>\n",
       "    </tr>\n",
       "    <tr>\n",
       "      <th>2</th>\n",
       "      <td>20200326</td>\n",
       "      <td>20122</td>\n",
       "      <td>Trang</td>\n",
       "      <td>102</td>\n",
       "      <td>124793</td>\n",
       "      <td>11887404</td>\n",
       "      <td>NaN</td>\n",
       "      <td>NaN</td>\n",
       "      <td>NaN</td>\n",
       "      <td>NaN</td>\n",
       "      <td>00</td>\n",
       "      <td>00</td>\n",
       "      <td>System Discount</td>\n",
       "      <td>No Code</td>\n",
       "      <td>NaN</td>\n",
       "      <td>No Discount</td>\n",
       "      <td>Line Discount</td>\n",
       "      <td>NaN</td>\n",
       "      <td>Manual</td>\n",
       "      <td>0</td>\n",
       "      <td>0.0</td>\n",
       "      <td>0.0</td>\n",
       "      <td>discount_20200101_20200331</td>\n",
       "    </tr>\n",
       "    <tr>\n",
       "      <th>3</th>\n",
       "      <td>20200326</td>\n",
       "      <td>22702</td>\n",
       "      <td>Ratchaburi</td>\n",
       "      <td>101</td>\n",
       "      <td>68428</td>\n",
       "      <td>11887404</td>\n",
       "      <td>NaN</td>\n",
       "      <td>NaN</td>\n",
       "      <td>NaN</td>\n",
       "      <td>NaN</td>\n",
       "      <td>00</td>\n",
       "      <td>00</td>\n",
       "      <td>System Discount</td>\n",
       "      <td>No Code</td>\n",
       "      <td>NaN</td>\n",
       "      <td>No Discount</td>\n",
       "      <td>Line Discount</td>\n",
       "      <td>NaN</td>\n",
       "      <td>Manual</td>\n",
       "      <td>0</td>\n",
       "      <td>0.0</td>\n",
       "      <td>0.0</td>\n",
       "      <td>discount_20200101_20200331</td>\n",
       "    </tr>\n",
       "    <tr>\n",
       "      <th>4</th>\n",
       "      <td>20200326</td>\n",
       "      <td>22302</td>\n",
       "      <td>Nakornsri 1</td>\n",
       "      <td>201</td>\n",
       "      <td>102487</td>\n",
       "      <td>11887404</td>\n",
       "      <td>NaN</td>\n",
       "      <td>NaN</td>\n",
       "      <td>NaN</td>\n",
       "      <td>NaN</td>\n",
       "      <td>00</td>\n",
       "      <td>00</td>\n",
       "      <td>System Discount</td>\n",
       "      <td>No Code</td>\n",
       "      <td>NaN</td>\n",
       "      <td>No Discount</td>\n",
       "      <td>Line Discount</td>\n",
       "      <td>NaN</td>\n",
       "      <td>Manual</td>\n",
       "      <td>0</td>\n",
       "      <td>0.0</td>\n",
       "      <td>0.0</td>\n",
       "      <td>discount_20200101_20200331</td>\n",
       "    </tr>\n",
       "  </tbody>\n",
       "</table>\n",
       "</div>"
      ],
      "text/plain": [
       "      DATES STORE_NUMBER    STORE_NAME POS_NUMBER TICKET_NUMBER SKU_NUMBER  \\\n",
       "0  20200326        20136  Chachoengsao        101         82408   11897531   \n",
       "1  20200326        20122         Trang        102        124793   11887404   \n",
       "2  20200326        20122         Trang        102        124793   11887404   \n",
       "3  20200326        22702    Ratchaburi        101         68428   11887404   \n",
       "4  20200326        22302   Nakornsri 1        201        102487   11887404   \n",
       "\n",
       "  CAMPAIGN_ID CAMPAIGN_PROMOTION PROMOTION_TYPE DISCOUNTID DISCOUNT_CODE  \\\n",
       "0         NaN                NaN            NaN        NaN            00   \n",
       "1         NaN                NaN            NaN        NaN            00   \n",
       "2         NaN                NaN            NaN        NaN            00   \n",
       "3         NaN                NaN            NaN        NaN            00   \n",
       "4         NaN                NaN            NaN        NaN            00   \n",
       "\n",
       "  DISCOUNT_CODE_NAME SUB_DISCOUNT_GROUP OWNERSHIP DISCOUNT_TYPE  \\\n",
       "0                 00    System Discount   No Code           NaN   \n",
       "1                 00    System Discount   No Code           NaN   \n",
       "2                 00    System Discount   No Code           NaN   \n",
       "3                 00    System Discount   No Code           NaN   \n",
       "4                 00    System Discount   No Code           NaN   \n",
       "\n",
       "  DISCOUNT_GROUP_NAME  DISCOUNT_RULE DISCOUNT_MECHANIC_CODE  \\\n",
       "0         No Discount  Line Discount                    NaN   \n",
       "1         No Discount  Line Discount                    NaN   \n",
       "2         No Discount  Line Discount                    NaN   \n",
       "3         No Discount  Line Discount                    NaN   \n",
       "4         No Discount  Line Discount                    NaN   \n",
       "\n",
       "  DISCOUNT_MECHANIC_NAME DISCOUNT_MECHANIC  PTD_EPOS_DISC_AMT_INC_VAT  \\\n",
       "0                 Manual                 0                        0.0   \n",
       "1                 Manual                 0                        0.0   \n",
       "2                 Manual                 0                        0.0   \n",
       "3                 Manual                 0                        0.0   \n",
       "4                 Manual                 0                        0.0   \n",
       "\n",
       "   PTD_EPOS_DISC_AMT_EXC_VAT                    FileName  \n",
       "0                        0.0  discount_20200101_20200331  \n",
       "1                        0.0  discount_20200101_20200331  \n",
       "2                        0.0  discount_20200101_20200331  \n",
       "3                        0.0  discount_20200101_20200331  \n",
       "4                        0.0  discount_20200101_20200331  "
      ]
     },
     "execution_count": 75,
     "metadata": {},
     "output_type": "execute_result"
    }
   ],
   "source": [
    "# Inspecting\n",
    "df_discount.head()"
   ]
  },
  {
   "cell_type": "code",
   "execution_count": 76,
   "id": "4ff15a1b",
   "metadata": {},
   "outputs": [],
   "source": [
    "# Converting timestamps to appropriate data type\n",
    "df_discount['DATES'] = pd.to_datetime(df_discount['DATES'])\n",
    "\n",
    "# Creating week start and end dates, starting every Friday and ending Thursday- the same as in sales data\n",
    "df_discount['week_start_date'] = df_discount['DATES'].dt.to_period('W-THU').apply(lambda r: r.start_time)\n",
    "df_discount['week_end_date'] = df_discount['week_start_date'] + pd.DateOffset(6)"
   ]
  },
  {
   "cell_type": "markdown",
   "id": "c33ffd21",
   "metadata": {},
   "source": [
    "### 5.2 EDA on discount data"
   ]
  },
  {
   "cell_type": "code",
   "execution_count": 77,
   "id": "df6773f8",
   "metadata": {},
   "outputs": [
    {
     "name": "stdout",
     "output_type": "stream",
     "text": [
      "<class 'pandas.core.frame.DataFrame'>\n",
      "Int64Index: 4623078 entries, 0 to 343273\n",
      "Data columns (total 25 columns):\n",
      " #   Column                     Non-Null Count    Dtype         \n",
      "---  ------                     --------------    -----         \n",
      " 0   DATES                      4623078 non-null  datetime64[ns]\n",
      " 1   STORE_NUMBER               4623078 non-null  object        \n",
      " 2   STORE_NAME                 4623078 non-null  object        \n",
      " 3   POS_NUMBER                 4623078 non-null  object        \n",
      " 4   TICKET_NUMBER              4623078 non-null  object        \n",
      " 5   SKU_NUMBER                 4623078 non-null  object        \n",
      " 6   CAMPAIGN_ID                1784522 non-null  object        \n",
      " 7   CAMPAIGN_PROMOTION         1784522 non-null  object        \n",
      " 8   PROMOTION_TYPE             1784522 non-null  object        \n",
      " 9   DISCOUNTID                 1784522 non-null  object        \n",
      " 10  DISCOUNT_CODE              4623078 non-null  object        \n",
      " 11  DISCOUNT_CODE_NAME         4623078 non-null  object        \n",
      " 12  SUB_DISCOUNT_GROUP         4623078 non-null  object        \n",
      " 13  OWNERSHIP                  4623078 non-null  object        \n",
      " 14  DISCOUNT_TYPE              2402402 non-null  object        \n",
      " 15  DISCOUNT_GROUP_NAME        4623078 non-null  object        \n",
      " 16  DISCOUNT_RULE              4623078 non-null  object        \n",
      " 17  DISCOUNT_MECHANIC_CODE     929654 non-null   object        \n",
      " 18  DISCOUNT_MECHANIC_NAME     4623078 non-null  object        \n",
      " 19  DISCOUNT_MECHANIC          4623078 non-null  object        \n",
      " 20  PTD_EPOS_DISC_AMT_INC_VAT  4623078 non-null  float64       \n",
      " 21  PTD_EPOS_DISC_AMT_EXC_VAT  4623078 non-null  float64       \n",
      " 22  FileName                   4623078 non-null  object        \n",
      " 23  week_start_date            4623078 non-null  datetime64[ns]\n",
      " 24  week_end_date              4623078 non-null  datetime64[ns]\n",
      "dtypes: datetime64[ns](3), float64(2), object(20)\n",
      "memory usage: 917.1+ MB\n"
     ]
    }
   ],
   "source": [
    "df_discount.info(show_counts=True)"
   ]
  },
  {
   "cell_type": "code",
   "execution_count": 78,
   "id": "9005ae78",
   "metadata": {},
   "outputs": [
    {
     "data": {
      "text/html": [
       "<div>\n",
       "<style scoped>\n",
       "    .dataframe tbody tr th:only-of-type {\n",
       "        vertical-align: middle;\n",
       "    }\n",
       "\n",
       "    .dataframe tbody tr th {\n",
       "        vertical-align: top;\n",
       "    }\n",
       "\n",
       "    .dataframe thead th {\n",
       "        text-align: right;\n",
       "    }\n",
       "</style>\n",
       "<table border=\"1\" class=\"dataframe\">\n",
       "  <thead>\n",
       "    <tr style=\"text-align: right;\">\n",
       "      <th></th>\n",
       "      <th>PTD_EPOS_DISC_AMT_INC_VAT</th>\n",
       "      <th>PTD_EPOS_DISC_AMT_EXC_VAT</th>\n",
       "    </tr>\n",
       "  </thead>\n",
       "  <tbody>\n",
       "    <tr>\n",
       "      <th>count</th>\n",
       "      <td>4623078</td>\n",
       "      <td>4623078</td>\n",
       "    </tr>\n",
       "    <tr>\n",
       "      <th>mean</th>\n",
       "      <td>230</td>\n",
       "      <td>215</td>\n",
       "    </tr>\n",
       "    <tr>\n",
       "      <th>std</th>\n",
       "      <td>443</td>\n",
       "      <td>414</td>\n",
       "    </tr>\n",
       "    <tr>\n",
       "      <th>min</th>\n",
       "      <td>-8997</td>\n",
       "      <td>-8408</td>\n",
       "    </tr>\n",
       "    <tr>\n",
       "      <th>25%</th>\n",
       "      <td>0</td>\n",
       "      <td>0</td>\n",
       "    </tr>\n",
       "    <tr>\n",
       "      <th>50%</th>\n",
       "      <td>20</td>\n",
       "      <td>19</td>\n",
       "    </tr>\n",
       "    <tr>\n",
       "      <th>75%</th>\n",
       "      <td>300</td>\n",
       "      <td>280</td>\n",
       "    </tr>\n",
       "    <tr>\n",
       "      <th>max</th>\n",
       "      <td>63840</td>\n",
       "      <td>59664</td>\n",
       "    </tr>\n",
       "  </tbody>\n",
       "</table>\n",
       "</div>"
      ],
      "text/plain": [
       "      PTD_EPOS_DISC_AMT_INC_VAT PTD_EPOS_DISC_AMT_EXC_VAT\n",
       "count                   4623078                   4623078\n",
       "mean                        230                       215\n",
       "std                         443                       414\n",
       "min                       -8997                     -8408\n",
       "25%                           0                         0\n",
       "50%                          20                        19\n",
       "75%                         300                       280\n",
       "max                       63840                     59664"
      ]
     },
     "execution_count": 78,
     "metadata": {},
     "output_type": "execute_result"
    }
   ],
   "source": [
    "df_discount.describe().apply(lambda s: s.apply('{0:.0f}'.format))"
   ]
  },
  {
   "cell_type": "code",
   "execution_count": 79,
   "id": "4f3e3c7f",
   "metadata": {},
   "outputs": [
    {
     "data": {
      "text/html": [
       "<div>\n",
       "<style scoped>\n",
       "    .dataframe tbody tr th:only-of-type {\n",
       "        vertical-align: middle;\n",
       "    }\n",
       "\n",
       "    .dataframe tbody tr th {\n",
       "        vertical-align: top;\n",
       "    }\n",
       "\n",
       "    .dataframe thead th {\n",
       "        text-align: right;\n",
       "    }\n",
       "</style>\n",
       "<table border=\"1\" class=\"dataframe\">\n",
       "  <thead>\n",
       "    <tr style=\"text-align: right;\">\n",
       "      <th></th>\n",
       "      <th>DATES</th>\n",
       "      <th>STORE_NUMBER</th>\n",
       "      <th>STORE_NAME</th>\n",
       "      <th>POS_NUMBER</th>\n",
       "      <th>TICKET_NUMBER</th>\n",
       "      <th>SKU_NUMBER</th>\n",
       "      <th>CAMPAIGN_ID</th>\n",
       "      <th>CAMPAIGN_PROMOTION</th>\n",
       "      <th>PROMOTION_TYPE</th>\n",
       "      <th>DISCOUNTID</th>\n",
       "      <th>DISCOUNT_CODE</th>\n",
       "      <th>DISCOUNT_CODE_NAME</th>\n",
       "      <th>SUB_DISCOUNT_GROUP</th>\n",
       "      <th>OWNERSHIP</th>\n",
       "      <th>DISCOUNT_TYPE</th>\n",
       "      <th>DISCOUNT_GROUP_NAME</th>\n",
       "      <th>DISCOUNT_RULE</th>\n",
       "      <th>DISCOUNT_MECHANIC_CODE</th>\n",
       "      <th>DISCOUNT_MECHANIC_NAME</th>\n",
       "      <th>DISCOUNT_MECHANIC</th>\n",
       "      <th>PTD_EPOS_DISC_AMT_INC_VAT</th>\n",
       "      <th>PTD_EPOS_DISC_AMT_EXC_VAT</th>\n",
       "      <th>FileName</th>\n",
       "      <th>week_start_date</th>\n",
       "      <th>week_end_date</th>\n",
       "    </tr>\n",
       "  </thead>\n",
       "  <tbody>\n",
       "    <tr>\n",
       "      <th>1508196</th>\n",
       "      <td>2020-08-01</td>\n",
       "      <td>22502</td>\n",
       "      <td>Chiangmai</td>\n",
       "      <td>202</td>\n",
       "      <td>92216</td>\n",
       "      <td>10054178</td>\n",
       "      <td>NaN</td>\n",
       "      <td>NaN</td>\n",
       "      <td>NaN</td>\n",
       "      <td>NaN</td>\n",
       "      <td>42</td>\n",
       "      <td>42-IFDC</td>\n",
       "      <td>Counter Discount Baht</td>\n",
       "      <td>Merchandise</td>\n",
       "      <td>IFDC</td>\n",
       "      <td>ส่วนลดบาทในรายการ</td>\n",
       "      <td>Line Discount</td>\n",
       "      <td>NaN</td>\n",
       "      <td>Manual</td>\n",
       "      <td>0</td>\n",
       "      <td>63840.0</td>\n",
       "      <td>59663.5514</td>\n",
       "      <td>discount_20200701_20200930</td>\n",
       "      <td>2020-07-31</td>\n",
       "      <td>2020-07-31</td>\n",
       "    </tr>\n",
       "  </tbody>\n",
       "</table>\n",
       "</div>"
      ],
      "text/plain": [
       "             DATES STORE_NUMBER STORE_NAME POS_NUMBER TICKET_NUMBER  \\\n",
       "1508196 2020-08-01        22502  Chiangmai        202         92216   \n",
       "\n",
       "        SKU_NUMBER CAMPAIGN_ID CAMPAIGN_PROMOTION PROMOTION_TYPE DISCOUNTID  \\\n",
       "1508196   10054178         NaN                NaN            NaN        NaN   \n",
       "\n",
       "        DISCOUNT_CODE DISCOUNT_CODE_NAME     SUB_DISCOUNT_GROUP    OWNERSHIP  \\\n",
       "1508196            42            42-IFDC  Counter Discount Baht  Merchandise   \n",
       "\n",
       "        DISCOUNT_TYPE DISCOUNT_GROUP_NAME  DISCOUNT_RULE  \\\n",
       "1508196          IFDC   ส่วนลดบาทในรายการ  Line Discount   \n",
       "\n",
       "        DISCOUNT_MECHANIC_CODE DISCOUNT_MECHANIC_NAME DISCOUNT_MECHANIC  \\\n",
       "1508196                    NaN                 Manual                 0   \n",
       "\n",
       "         PTD_EPOS_DISC_AMT_INC_VAT  PTD_EPOS_DISC_AMT_EXC_VAT  \\\n",
       "1508196                    63840.0                 59663.5514   \n",
       "\n",
       "                           FileName week_start_date week_end_date  \n",
       "1508196  discount_20200701_20200930      2020-07-31    2020-07-31  "
      ]
     },
     "execution_count": 79,
     "metadata": {},
     "output_type": "execute_result"
    }
   ],
   "source": [
    "# Checking the max value of discount\n",
    "df_discount_max_value_check = df_discount[df_discount['PTD_EPOS_DISC_AMT_INC_VAT']==df_discount['PTD_EPOS_DISC_AMT_INC_VAT'].max()]\n",
    "df_discount_max_value_check.head()"
   ]
  },
  {
   "cell_type": "code",
   "execution_count": 80,
   "id": "86ea6424",
   "metadata": {},
   "outputs": [
    {
     "data": {
      "text/html": [
       "<div>\n",
       "<style scoped>\n",
       "    .dataframe tbody tr th:only-of-type {\n",
       "        vertical-align: middle;\n",
       "    }\n",
       "\n",
       "    .dataframe tbody tr th {\n",
       "        vertical-align: top;\n",
       "    }\n",
       "\n",
       "    .dataframe thead th {\n",
       "        text-align: right;\n",
       "    }\n",
       "</style>\n",
       "<table border=\"1\" class=\"dataframe\">\n",
       "  <thead>\n",
       "    <tr style=\"text-align: right;\">\n",
       "      <th></th>\n",
       "      <th>DATES</th>\n",
       "      <th>STORE_NUMBER</th>\n",
       "      <th>SKU_NUMBER</th>\n",
       "      <th>Date</th>\n",
       "      <th>week_start_date</th>\n",
       "      <th>week_end_date</th>\n",
       "      <th>POS_NUMBER</th>\n",
       "      <th>TICKET_NUMBER</th>\n",
       "      <th>CHANNEL</th>\n",
       "      <th>SUPPLIER_GROUP</th>\n",
       "      <th>SUPPLIER_NAME</th>\n",
       "      <th>PRODUCT_NAME</th>\n",
       "      <th>PRODUCT_IBC</th>\n",
       "      <th>PRODUCT_SBC</th>\n",
       "      <th>PRODUCT_ORIGINAL_PRICE</th>\n",
       "      <th>PRODUCT_REGULAR_PRICE</th>\n",
       "      <th>PRODUCT_STATUS</th>\n",
       "      <th>PRODUCT_CATALOG_NUMBER</th>\n",
       "      <th>PRODUCT_SEASONAL_CODE</th>\n",
       "      <th>PRODUCT_SIZE_AND_COLOR</th>\n",
       "      <th>PRODUCT_COLOR</th>\n",
       "      <th>PRODUCT_MANUFACTURER_NUMBER</th>\n",
       "      <th>PRODUCT_SIZES</th>\n",
       "      <th>PRODUCT_SEASON</th>\n",
       "      <th>PRODUCT_SEASON_DESC</th>\n",
       "      <th>CREDIT_CONSIGN</th>\n",
       "      <th>BRAND_GROUP</th>\n",
       "      <th>BRAND_NAME</th>\n",
       "      <th>MEMBER_ID</th>\n",
       "      <th>SALES_QUANTITY</th>\n",
       "      <th>PERMANENT_MARKDOWN_EXC_VAT</th>\n",
       "      <th>PERMANENT_MARKDOWN_INC_VAT</th>\n",
       "      <th>GROSS_SALES_EXC_VAT</th>\n",
       "      <th>GROSS_SALES_INC_VAT</th>\n",
       "      <th>PROMOTION_MARKDOWN_EXC_VAT</th>\n",
       "      <th>PROMOTION_MARKDOWN_INC_VAT</th>\n",
       "      <th>TOTAL_DISCOUNT_AMT_INC_VAT</th>\n",
       "      <th>TOTAL_DISCOUNT_AMT_EXC_VAT</th>\n",
       "      <th>EPOS_MARKDOWN_EXC_VAT</th>\n",
       "      <th>EPOS_MARKDOWN_INC_VAT</th>\n",
       "      <th>NET_SALES_AMT_EXC_VAT</th>\n",
       "      <th>NET_SALES_AMT_INC_VAT</th>\n",
       "      <th>DISCOUNT_SHARING_AMT</th>\n",
       "      <th>SPECIAL_GP_AMT</th>\n",
       "      <th>PROMOTION_REBATE_AMT</th>\n",
       "      <th>COST_OF_GOODS_SOLD</th>\n",
       "      <th>NET_MARGIN_AMT_EXC_VAT</th>\n",
       "      <th>STORE_NAME</th>\n",
       "      <th>DEPARTMANT</th>\n",
       "      <th>SUBDEPARTMENT</th>\n",
       "      <th>CLASS</th>\n",
       "      <th>SUBCLASS</th>\n",
       "      <th>Disc</th>\n",
       "      <th>Product_name_wo_size</th>\n",
       "      <th>sku_id_upd</th>\n",
       "      <th>banner</th>\n",
       "      <th>year</th>\n",
       "      <th>month</th>\n",
       "      <th>disc_x100</th>\n",
       "      <th>duplicates</th>\n",
       "      <th>dup_SKU_21_22_flag</th>\n",
       "      <th>store_banner_flag</th>\n",
       "      <th>zero_reg_price_flag</th>\n",
       "    </tr>\n",
       "  </thead>\n",
       "  <tbody>\n",
       "    <tr>\n",
       "      <th>0</th>\n",
       "      <td>2020-08-01</td>\n",
       "      <td>22502</td>\n",
       "      <td>10054178</td>\n",
       "      <td>2020-08-01</td>\n",
       "      <td>2020-07-31</td>\n",
       "      <td>2020-07-31</td>\n",
       "      <td>NaN</td>\n",
       "      <td>NaN</td>\n",
       "      <td>Offline</td>\n",
       "      <td>Others</td>\n",
       "      <td>ESMIDO FASHIONS LIMITED</td>\n",
       "      <td>เสื้อผ้าสตรี ESPRIT ES (1-29%)</td>\n",
       "      <td>20541262</td>\n",
       "      <td>0</td>\n",
       "      <td>0.0</td>\n",
       "      <td>0.0</td>\n",
       "      <td>Active</td>\n",
       "      <td>999</td>\n",
       "      <td>NON</td>\n",
       "      <td>0</td>\n",
       "      <td>0</td>\n",
       "      <td>NaN</td>\n",
       "      <td>NaN</td>\n",
       "      <td>NON</td>\n",
       "      <td>NaN</td>\n",
       "      <td>Consignment</td>\n",
       "      <td>ESPRIT</td>\n",
       "      <td>ESPRIT</td>\n",
       "      <td>NaN</td>\n",
       "      <td>8</td>\n",
       "      <td>0.0</td>\n",
       "      <td>0.0</td>\n",
       "      <td>18271.02</td>\n",
       "      <td>19550.0</td>\n",
       "      <td>0.0</td>\n",
       "      <td>0.0</td>\n",
       "      <td>9775.0</td>\n",
       "      <td>9135.51</td>\n",
       "      <td>0.0</td>\n",
       "      <td>0.0</td>\n",
       "      <td>9135.51</td>\n",
       "      <td>9775.0</td>\n",
       "      <td>5962.75</td>\n",
       "      <td>0.0</td>\n",
       "      <td>0.0</td>\n",
       "      <td>7375.1008</td>\n",
       "      <td>1760.4092</td>\n",
       "      <td>Chiangmai</td>\n",
       "      <td>003 - WOMEN</td>\n",
       "      <td>301 - YOUNG MISS APPARELS</td>\n",
       "      <td>101 - TOP</td>\n",
       "      <td>001 - BLOUSE</td>\n",
       "      <td>9775.0</td>\n",
       "      <td>เสื้อผ้าสตรี ESPRIT ES (1-29%)</td>\n",
       "      <td>4873</td>\n",
       "      <td>RBS</td>\n",
       "      <td>2020</td>\n",
       "      <td>8</td>\n",
       "      <td>977500</td>\n",
       "      <td>False</td>\n",
       "      <td>0</td>\n",
       "      <td>0</td>\n",
       "      <td>1</td>\n",
       "    </tr>\n",
       "    <tr>\n",
       "      <th>1</th>\n",
       "      <td>2020-08-01</td>\n",
       "      <td>22502</td>\n",
       "      <td>10054178</td>\n",
       "      <td>2020-08-01</td>\n",
       "      <td>2020-07-31</td>\n",
       "      <td>2020-07-31</td>\n",
       "      <td>NaN</td>\n",
       "      <td>NaN</td>\n",
       "      <td>New channels</td>\n",
       "      <td>Others</td>\n",
       "      <td>ESMIDO FASHIONS LIMITED</td>\n",
       "      <td>เสื้อผ้าสตรี ESPRIT ES (1-29%)</td>\n",
       "      <td>20541262</td>\n",
       "      <td>0</td>\n",
       "      <td>0.0</td>\n",
       "      <td>0.0</td>\n",
       "      <td>Active</td>\n",
       "      <td>999</td>\n",
       "      <td>NON</td>\n",
       "      <td>0</td>\n",
       "      <td>0</td>\n",
       "      <td>NaN</td>\n",
       "      <td>NaN</td>\n",
       "      <td>NON</td>\n",
       "      <td>NaN</td>\n",
       "      <td>Consignment</td>\n",
       "      <td>ESPRIT</td>\n",
       "      <td>ESPRIT</td>\n",
       "      <td>NaN</td>\n",
       "      <td>118</td>\n",
       "      <td>0.0</td>\n",
       "      <td>0.0</td>\n",
       "      <td>211102.80</td>\n",
       "      <td>225880.0</td>\n",
       "      <td>0.0</td>\n",
       "      <td>0.0</td>\n",
       "      <td>112940.0</td>\n",
       "      <td>105551.40</td>\n",
       "      <td>0.0</td>\n",
       "      <td>0.0</td>\n",
       "      <td>105551.40</td>\n",
       "      <td>112940.0</td>\n",
       "      <td>68893.40</td>\n",
       "      <td>0.0</td>\n",
       "      <td>0.0</td>\n",
       "      <td>85211.6466</td>\n",
       "      <td>20339.7534</td>\n",
       "      <td>Chiangmai</td>\n",
       "      <td>003 - WOMEN</td>\n",
       "      <td>301 - YOUNG MISS APPARELS</td>\n",
       "      <td>101 - TOP</td>\n",
       "      <td>001 - BLOUSE</td>\n",
       "      <td>112940.0</td>\n",
       "      <td>เสื้อผ้าสตรี ESPRIT ES (1-29%)</td>\n",
       "      <td>4873</td>\n",
       "      <td>RBS</td>\n",
       "      <td>2020</td>\n",
       "      <td>8</td>\n",
       "      <td>11294000</td>\n",
       "      <td>False</td>\n",
       "      <td>0</td>\n",
       "      <td>0</td>\n",
       "      <td>1</td>\n",
       "    </tr>\n",
       "    <tr>\n",
       "      <th>2</th>\n",
       "      <td>2020-08-01</td>\n",
       "      <td>22502</td>\n",
       "      <td>10054178</td>\n",
       "      <td>2020-08-01</td>\n",
       "      <td>2020-07-31</td>\n",
       "      <td>2020-07-31</td>\n",
       "      <td>NaN</td>\n",
       "      <td>NaN</td>\n",
       "      <td>Offline</td>\n",
       "      <td>Others</td>\n",
       "      <td>ESMIDO FASHIONS LIMITED</td>\n",
       "      <td>เสื้อผ้าสตรี ESPRIT ES (1-29%)</td>\n",
       "      <td>20541262</td>\n",
       "      <td>0</td>\n",
       "      <td>0.0</td>\n",
       "      <td>0.0</td>\n",
       "      <td>Active</td>\n",
       "      <td>999</td>\n",
       "      <td>NON</td>\n",
       "      <td>0</td>\n",
       "      <td>0</td>\n",
       "      <td>NaN</td>\n",
       "      <td>NaN</td>\n",
       "      <td>NON</td>\n",
       "      <td>NaN</td>\n",
       "      <td>Consignment</td>\n",
       "      <td>ESPRIT</td>\n",
       "      <td>ESPRIT</td>\n",
       "      <td>NaN</td>\n",
       "      <td>6</td>\n",
       "      <td>0.0</td>\n",
       "      <td>0.0</td>\n",
       "      <td>12378.52</td>\n",
       "      <td>13245.0</td>\n",
       "      <td>0.0</td>\n",
       "      <td>0.0</td>\n",
       "      <td>6370.0</td>\n",
       "      <td>5953.28</td>\n",
       "      <td>0.0</td>\n",
       "      <td>0.0</td>\n",
       "      <td>6425.24</td>\n",
       "      <td>6875.0</td>\n",
       "      <td>3885.70</td>\n",
       "      <td>0.0</td>\n",
       "      <td>0.0</td>\n",
       "      <td>5150.6083</td>\n",
       "      <td>1274.6317</td>\n",
       "      <td>Chiangmai</td>\n",
       "      <td>003 - WOMEN</td>\n",
       "      <td>301 - YOUNG MISS APPARELS</td>\n",
       "      <td>101 - TOP</td>\n",
       "      <td>001 - BLOUSE</td>\n",
       "      <td>6370.0</td>\n",
       "      <td>เสื้อผ้าสตรี ESPRIT ES (1-29%)</td>\n",
       "      <td>4873</td>\n",
       "      <td>RBS</td>\n",
       "      <td>2020</td>\n",
       "      <td>8</td>\n",
       "      <td>637000</td>\n",
       "      <td>False</td>\n",
       "      <td>0</td>\n",
       "      <td>0</td>\n",
       "      <td>1</td>\n",
       "    </tr>\n",
       "  </tbody>\n",
       "</table>\n",
       "</div>"
      ],
      "text/plain": [
       "       DATES STORE_NUMBER SKU_NUMBER       Date week_start_date week_end_date  \\\n",
       "0 2020-08-01        22502   10054178 2020-08-01      2020-07-31    2020-07-31   \n",
       "1 2020-08-01        22502   10054178 2020-08-01      2020-07-31    2020-07-31   \n",
       "2 2020-08-01        22502   10054178 2020-08-01      2020-07-31    2020-07-31   \n",
       "\n",
       "  POS_NUMBER TICKET_NUMBER       CHANNEL SUPPLIER_GROUP  \\\n",
       "0        NaN           NaN       Offline         Others   \n",
       "1        NaN           NaN  New channels         Others   \n",
       "2        NaN           NaN       Offline         Others   \n",
       "\n",
       "             SUPPLIER_NAME                    PRODUCT_NAME PRODUCT_IBC  \\\n",
       "0  ESMIDO FASHIONS LIMITED  เสื้อผ้าสตรี ESPRIT ES (1-29%)    20541262   \n",
       "1  ESMIDO FASHIONS LIMITED  เสื้อผ้าสตรี ESPRIT ES (1-29%)    20541262   \n",
       "2  ESMIDO FASHIONS LIMITED  เสื้อผ้าสตรี ESPRIT ES (1-29%)    20541262   \n",
       "\n",
       "  PRODUCT_SBC  PRODUCT_ORIGINAL_PRICE  PRODUCT_REGULAR_PRICE PRODUCT_STATUS  \\\n",
       "0           0                     0.0                    0.0         Active   \n",
       "1           0                     0.0                    0.0         Active   \n",
       "2           0                     0.0                    0.0         Active   \n",
       "\n",
       "  PRODUCT_CATALOG_NUMBER PRODUCT_SEASONAL_CODE PRODUCT_SIZE_AND_COLOR  \\\n",
       "0                    999                   NON                      0   \n",
       "1                    999                   NON                      0   \n",
       "2                    999                   NON                      0   \n",
       "\n",
       "  PRODUCT_COLOR PRODUCT_MANUFACTURER_NUMBER PRODUCT_SIZES PRODUCT_SEASON  \\\n",
       "0             0                         NaN           NaN            NON   \n",
       "1             0                         NaN           NaN            NON   \n",
       "2             0                         NaN           NaN            NON   \n",
       "\n",
       "   PRODUCT_SEASON_DESC CREDIT_CONSIGN BRAND_GROUP BRAND_NAME MEMBER_ID  \\\n",
       "0                  NaN    Consignment      ESPRIT     ESPRIT       NaN   \n",
       "1                  NaN    Consignment      ESPRIT     ESPRIT       NaN   \n",
       "2                  NaN    Consignment      ESPRIT     ESPRIT       NaN   \n",
       "\n",
       "   SALES_QUANTITY  PERMANENT_MARKDOWN_EXC_VAT  PERMANENT_MARKDOWN_INC_VAT  \\\n",
       "0               8                         0.0                         0.0   \n",
       "1             118                         0.0                         0.0   \n",
       "2               6                         0.0                         0.0   \n",
       "\n",
       "   GROSS_SALES_EXC_VAT  GROSS_SALES_INC_VAT  PROMOTION_MARKDOWN_EXC_VAT  \\\n",
       "0             18271.02              19550.0                         0.0   \n",
       "1            211102.80             225880.0                         0.0   \n",
       "2             12378.52              13245.0                         0.0   \n",
       "\n",
       "   PROMOTION_MARKDOWN_INC_VAT  TOTAL_DISCOUNT_AMT_INC_VAT  \\\n",
       "0                         0.0                      9775.0   \n",
       "1                         0.0                    112940.0   \n",
       "2                         0.0                      6370.0   \n",
       "\n",
       "   TOTAL_DISCOUNT_AMT_EXC_VAT  EPOS_MARKDOWN_EXC_VAT  EPOS_MARKDOWN_INC_VAT  \\\n",
       "0                     9135.51                    0.0                    0.0   \n",
       "1                   105551.40                    0.0                    0.0   \n",
       "2                     5953.28                    0.0                    0.0   \n",
       "\n",
       "   NET_SALES_AMT_EXC_VAT  NET_SALES_AMT_INC_VAT  DISCOUNT_SHARING_AMT  \\\n",
       "0                9135.51                 9775.0               5962.75   \n",
       "1              105551.40               112940.0              68893.40   \n",
       "2                6425.24                 6875.0               3885.70   \n",
       "\n",
       "   SPECIAL_GP_AMT  PROMOTION_REBATE_AMT  COST_OF_GOODS_SOLD  \\\n",
       "0             0.0                   0.0           7375.1008   \n",
       "1             0.0                   0.0          85211.6466   \n",
       "2             0.0                   0.0           5150.6083   \n",
       "\n",
       "   NET_MARGIN_AMT_EXC_VAT STORE_NAME   DEPARTMANT              SUBDEPARTMENT  \\\n",
       "0               1760.4092  Chiangmai  003 - WOMEN  301 - YOUNG MISS APPARELS   \n",
       "1              20339.7534  Chiangmai  003 - WOMEN  301 - YOUNG MISS APPARELS   \n",
       "2               1274.6317  Chiangmai  003 - WOMEN  301 - YOUNG MISS APPARELS   \n",
       "\n",
       "       CLASS      SUBCLASS      Disc            Product_name_wo_size  \\\n",
       "0  101 - TOP  001 - BLOUSE    9775.0  เสื้อผ้าสตรี ESPRIT ES (1-29%)   \n",
       "1  101 - TOP  001 - BLOUSE  112940.0  เสื้อผ้าสตรี ESPRIT ES (1-29%)   \n",
       "2  101 - TOP  001 - BLOUSE    6370.0  เสื้อผ้าสตรี ESPRIT ES (1-29%)   \n",
       "\n",
       "  sku_id_upd banner  year  month  disc_x100  duplicates  dup_SKU_21_22_flag  \\\n",
       "0       4873    RBS  2020      8     977500       False                   0   \n",
       "1       4873    RBS  2020      8   11294000       False                   0   \n",
       "2       4873    RBS  2020      8     637000       False                   0   \n",
       "\n",
       "   store_banner_flag  zero_reg_price_flag  \n",
       "0                  0                    1  \n",
       "1                  0                    1  \n",
       "2                  0                    1  "
      ]
     },
     "execution_count": 80,
     "metadata": {},
     "output_type": "execute_result"
    }
   ],
   "source": [
    "# Checking what specific transactions in sales data lead to high discount\n",
    "# Merging only on Date/Store/SKU since 2020 sales data does not have POS information\n",
    "# Conclusion: Seems that large quantities of this SKU was bought on that day in the store hence seems ok\n",
    "df_discount_max_value_check = df_discount_max_value_check[['DATES','STORE_NUMBER','SKU_NUMBER']]\n",
    "df_discount_max_value_check = df_discount_max_value_check.merge(sales_filter, left_on=['DATES','STORE_NUMBER','SKU_NUMBER'],\n",
    "                                                               right_on=['Date','STORE_NUMBER','SKU_NUMBER'],\n",
    "                                                               how='inner')\n",
    "\n",
    "df_discount_max_value_check.head()"
   ]
  },
  {
   "cell_type": "markdown",
   "id": "4f9f5ea1",
   "metadata": {},
   "source": [
    "### 5.3 Mapping new SKU to discount data"
   ]
  },
  {
   "cell_type": "code",
   "execution_count": 81,
   "id": "3fd81d91",
   "metadata": {},
   "outputs": [],
   "source": [
    "# Preparing old to new SKU mapping using sales data, pick random (first) new SKU for old SKU with multiple new SKU options\n",
    "old_new_sku_mapping = df_sales.groupby(['SKU_NUMBER', 'sku_id_upd'])['TOTAL_DISCOUNT_AMT_INC_VAT'].sum().reset_index()\n",
    "old_new_sku_mapping = old_new_sku_mapping.sort_values(['SKU_NUMBER','TOTAL_DISCOUNT_AMT_INC_VAT'], ascending=[True,False])\n",
    "old_new_sku_mapping = old_new_sku_mapping.groupby('SKU_NUMBER').agg({'sku_id_upd':['first','nunique'],\n",
    "                                                                'TOTAL_DISCOUNT_AMT_INC_VAT':'sum'}).reset_index()\n",
    "old_new_sku_mapping.columns = [(i+\"_\"+j) if j!='' else i for i,j in old_new_sku_mapping.columns]\n",
    "old_new_sku_mapping['multi_sku_flag'] = np.where(old_new_sku_mapping['sku_id_upd_nunique']>1,'Y','N')"
   ]
  },
  {
   "cell_type": "code",
   "execution_count": 82,
   "id": "76ee3781",
   "metadata": {},
   "outputs": [],
   "source": [
    "# Check that discount contribution of SKUs with multiple new SKU ID is not large - raise error if large\n",
    "multi_flag_sku_disc_perc = old_new_sku_mapping[old_new_sku_mapping['multi_sku_flag']=='Y']['TOTAL_DISCOUNT_AMT_INC_VAT_sum'].sum()/ \\\n",
    "                                        old_new_sku_mapping['TOTAL_DISCOUNT_AMT_INC_VAT_sum'].sum()\n",
    "\n",
    "assert multi_flag_sku_disc_perc < config.multi_flag_sku_disc_perc_threshold, \"Significant discount contribution of SKUs with multiple new SKU IDs\""
   ]
  },
  {
   "cell_type": "code",
   "execution_count": 83,
   "id": "75c158d2",
   "metadata": {},
   "outputs": [],
   "source": [
    "old_new_sku_mapping = old_new_sku_mapping[['SKU_NUMBER','sku_id_upd_first']]\n",
    "old_new_sku_mapping = old_new_sku_mapping.rename(columns={'sku_id_upd_first':'sku_id_upd'})"
   ]
  },
  {
   "cell_type": "code",
   "execution_count": 84,
   "id": "bec819bf",
   "metadata": {},
   "outputs": [],
   "source": [
    "# Merging new SKU to discount data\n",
    "df_discount = df_discount.merge(old_new_sku_mapping, on='SKU_NUMBER', how='left', indicator=True)"
   ]
  },
  {
   "cell_type": "code",
   "execution_count": 85,
   "id": "21ae49a8",
   "metadata": {},
   "outputs": [],
   "source": [
    "# Check that most of the rows have been mapped to a new SKU number- raise error if not\n",
    "old_new_sku_merge_check = df_discount[df_discount['_merge']=='both']['PTD_EPOS_DISC_AMT_INC_VAT'].sum()/df_discount['PTD_EPOS_DISC_AMT_INC_VAT'].sum()\n",
    "\n",
    "assert old_new_sku_merge_check > config.old_new_sku_merge_check_threshold, \"Significant proportion of SKU_NUMBER in discount table not matched to new SKU ID\""
   ]
  },
  {
   "cell_type": "code",
   "execution_count": 86,
   "id": "876398f6",
   "metadata": {},
   "outputs": [],
   "source": [
    "df_discount = df_discount[df_discount['_merge']=='both'].drop(columns='_merge')"
   ]
  },
  {
   "cell_type": "markdown",
   "id": "c34df6a5",
   "metadata": {},
   "source": [
    "### 5.4 Mapping store banner to discount data"
   ]
  },
  {
   "cell_type": "code",
   "execution_count": 87,
   "id": "cf414bd1",
   "metadata": {},
   "outputs": [],
   "source": [
    "# Merging banner\n",
    "df_discount = pd.merge(df_discount, store, on=['STORE_NUMBER'], how='left')"
   ]
  },
  {
   "cell_type": "code",
   "execution_count": 88,
   "id": "daa80ced",
   "metadata": {},
   "outputs": [
    {
     "data": {
      "text/plain": [
       "CDS       2336781\n",
       "RBS       1578923\n",
       "Others     695287\n",
       "Name: banner, dtype: int64"
      ]
     },
     "execution_count": 88,
     "metadata": {},
     "output_type": "execute_result"
    }
   ],
   "source": [
    "# Check if all matched\n",
    "df_discount['banner'].value_counts(dropna=False)"
   ]
  },
  {
   "cell_type": "markdown",
   "id": "387ed0f0",
   "metadata": {},
   "source": [
    "### 5.5 Filtering discount data"
   ]
  },
  {
   "cell_type": "code",
   "execution_count": 89,
   "id": "b4a17025",
   "metadata": {},
   "outputs": [],
   "source": [
    "# Removing duplicated SKUs, zero price SKUs and retaining only CDS/RBS transactions\n",
    "df_discount = df_discount[~(df_discount['SKU_NUMBER'].isin(SKU_duplicated_2021_2022))]\n",
    "df_discount = df_discount[~(df_discount['sku_id_upd'].isin(\n",
    "                    sales_filter[sales_filter['zero_reg_price_flag']==1]['sku_id_upd'].unique()))]\n",
    "df_discount = df_discount[df_discount['banner'].isin(['CDS','RBS'])]"
   ]
  },
  {
   "cell_type": "code",
   "execution_count": 90,
   "id": "9f91f0b0",
   "metadata": {},
   "outputs": [],
   "source": [
    "# Including only dates present in the sales data file\n",
    "df_discount = df_discount[df_discount['DATES'].isin(sales_filter['Date'].unique())]"
   ]
  },
  {
   "cell_type": "code",
   "execution_count": 91,
   "id": "43702154",
   "metadata": {},
   "outputs": [
    {
     "data": {
      "text/plain": [
       "(2064885, 27)"
      ]
     },
     "execution_count": 91,
     "metadata": {},
     "output_type": "execute_result"
    }
   ],
   "source": [
    "df_discount.shape"
   ]
  },
  {
   "cell_type": "code",
   "execution_count": 92,
   "id": "42932505",
   "metadata": {},
   "outputs": [],
   "source": [
    "# Checking if discount total is same as in sales data\n",
    "filtered_sales_disc_total = model_df['Disc'].sum()\n",
    "discount_disc_total = df_discount['PTD_EPOS_DISC_AMT_INC_VAT'].sum()\n",
    "disc_total_check = 1-(discount_disc_total/filtered_sales_disc_total)\n",
    "\n",
    "assert disc_total_check < config.disc_total_check_threshold, \"Total discount mismatch between discount and sales data\""
   ]
  },
  {
   "cell_type": "markdown",
   "id": "5e756202",
   "metadata": {},
   "source": [
    "### 5.6 Rolling up discount data at weekly level and finding most common discount rule every week for each SKU"
   ]
  },
  {
   "cell_type": "code",
   "execution_count": 93,
   "id": "4296e885",
   "metadata": {},
   "outputs": [],
   "source": [
    "# Getting unique discount type values with highest sum_discount for each group\n",
    "disc_df_wk = df_discount.groupby(group+['DISCOUNT_RULE'])['PTD_EPOS_DISC_AMT_INC_VAT'].sum().reset_index()\n",
    "disc_df_wk['max_PTD_EPOS_DISC_AMT_INC_VAT'] = disc_df_wk.groupby(group)['PTD_EPOS_DISC_AMT_INC_VAT'].transform(max)\n",
    "disc_df_wk['max_discount_rule'] = np.where(disc_df_wk['PTD_EPOS_DISC_AMT_INC_VAT']==disc_df_wk['max_PTD_EPOS_DISC_AMT_INC_VAT'],\n",
    "                                          disc_df_wk['DISCOUNT_RULE'],np.nan)\n",
    "\n",
    "disc_df_wk = disc_df_wk.groupby(group).agg({'max_discount_rule':['first','count']}).reset_index()\n",
    "disc_df_wk.columns = [(i+\"_\"+j) if j!='' else i for i,j in disc_df_wk.columns]\n"
   ]
  },
  {
   "cell_type": "code",
   "execution_count": 94,
   "id": "e1e51971",
   "metadata": {},
   "outputs": [],
   "source": [
    "# Check that most data has a clear discount rule with max discount (i.e. no ties for max discount)\n",
    "disc_rule_assign_check = disc_df_wk[disc_df_wk['max_discount_rule_count']==1].shape[0]/disc_df_wk.shape[0]\n",
    "\n",
    "assert disc_rule_assign_check > config.disc_rule_assign_check_threshold, \"Discount rule assignment basis the max discount is fuzzy\""
   ]
  },
  {
   "cell_type": "code",
   "execution_count": 95,
   "id": "eb81bbaf",
   "metadata": {},
   "outputs": [],
   "source": [
    "disc_df_wk = disc_df_wk.rename(columns={'max_discount_rule_first':'DISCOUNT_RULE'})\n",
    "disc_df_wk = disc_df_wk.drop(columns='max_discount_rule_count')"
   ]
  },
  {
   "cell_type": "code",
   "execution_count": 96,
   "id": "0253f089",
   "metadata": {},
   "outputs": [
    {
     "data": {
      "text/plain": [
       "(691605, 4)"
      ]
     },
     "execution_count": 96,
     "metadata": {},
     "output_type": "execute_result"
    }
   ],
   "source": [
    "disc_df_wk.shape"
   ]
  },
  {
   "cell_type": "markdown",
   "id": "13afdc3c",
   "metadata": {},
   "source": [
    "# <span style=\"color:#c6aa3d\">6. Combining sales/discount data</span><a class=\"anchor\" id=\"6-bullet\"></a>"
   ]
  },
  {
   "cell_type": "markdown",
   "id": "1e0adb9d",
   "metadata": {},
   "source": [
    "### 6.1 Merge aggregated weekly sales/discount tables"
   ]
  },
  {
   "cell_type": "code",
   "execution_count": 97,
   "id": "0b7a8d26",
   "metadata": {},
   "outputs": [
    {
     "data": {
      "text/plain": [
       "((691959, 16), (691605, 4))"
      ]
     },
     "execution_count": 97,
     "metadata": {},
     "output_type": "execute_result"
    }
   ],
   "source": [
    "sales2_wk.shape, disc_df_wk.shape"
   ]
  },
  {
   "cell_type": "code",
   "execution_count": 98,
   "id": "b85927b5",
   "metadata": {},
   "outputs": [
    {
     "name": "stdout",
     "output_type": "stream",
     "text": [
      "(691959, 17)\n"
     ]
    }
   ],
   "source": [
    "df_weekly_combined = sales2_wk.merge(disc_df_wk, on=group, how='left')\n",
    "\n",
    "print(df_weekly_combined.shape)"
   ]
  },
  {
   "cell_type": "code",
   "execution_count": 99,
   "id": "6854fe5c",
   "metadata": {},
   "outputs": [],
   "source": [
    "df_weekly_combined = df_weekly_combined.rename(columns = {'week_start_date':'ds', 'SALES_QUANTITY':'units'})"
   ]
  },
  {
   "cell_type": "code",
   "execution_count": 100,
   "id": "784e7cb1",
   "metadata": {},
   "outputs": [
    {
     "data": {
      "text/html": [
       "<div>\n",
       "<style scoped>\n",
       "    .dataframe tbody tr th:only-of-type {\n",
       "        vertical-align: middle;\n",
       "    }\n",
       "\n",
       "    .dataframe tbody tr th {\n",
       "        vertical-align: top;\n",
       "    }\n",
       "\n",
       "    .dataframe thead th {\n",
       "        text-align: right;\n",
       "    }\n",
       "</style>\n",
       "<table border=\"1\" class=\"dataframe\">\n",
       "  <thead>\n",
       "    <tr style=\"text-align: right;\">\n",
       "      <th></th>\n",
       "      <th>banner</th>\n",
       "      <th>sku_id_upd</th>\n",
       "      <th>ds</th>\n",
       "      <th>GROSS_SALES_INC_VAT</th>\n",
       "      <th>NET_SALES_AMT_INC_VAT</th>\n",
       "      <th>units</th>\n",
       "      <th>COST_OF_GOODS_SOLD</th>\n",
       "      <th>PERMANENT_MARKDOWN_INC_VAT</th>\n",
       "      <th>Disc</th>\n",
       "      <th>total_disc</th>\n",
       "      <th>NET_MARGIN_AMT_EXC_VAT</th>\n",
       "      <th>base_price</th>\n",
       "      <th>price</th>\n",
       "      <th>mode_base_price</th>\n",
       "      <th>promo_yn</th>\n",
       "      <th>discount</th>\n",
       "      <th>DISCOUNT_RULE</th>\n",
       "    </tr>\n",
       "  </thead>\n",
       "  <tbody>\n",
       "    <tr>\n",
       "      <th>0</th>\n",
       "      <td>CDS</td>\n",
       "      <td>100</td>\n",
       "      <td>2021-07-09</td>\n",
       "      <td>1590.0</td>\n",
       "      <td>1272.00</td>\n",
       "      <td>1</td>\n",
       "      <td>347.0</td>\n",
       "      <td>0.0</td>\n",
       "      <td>318.00</td>\n",
       "      <td>318.00</td>\n",
       "      <td>841.79</td>\n",
       "      <td>1590.0</td>\n",
       "      <td>1272.000</td>\n",
       "      <td>1590.0</td>\n",
       "      <td>1</td>\n",
       "      <td>0.200000</td>\n",
       "      <td>Line Discount</td>\n",
       "    </tr>\n",
       "    <tr>\n",
       "      <th>1</th>\n",
       "      <td>CDS</td>\n",
       "      <td>100</td>\n",
       "      <td>2021-07-23</td>\n",
       "      <td>1590.0</td>\n",
       "      <td>1272.00</td>\n",
       "      <td>1</td>\n",
       "      <td>347.0</td>\n",
       "      <td>0.0</td>\n",
       "      <td>318.00</td>\n",
       "      <td>318.00</td>\n",
       "      <td>841.79</td>\n",
       "      <td>1590.0</td>\n",
       "      <td>1272.000</td>\n",
       "      <td>1590.0</td>\n",
       "      <td>1</td>\n",
       "      <td>0.200000</td>\n",
       "      <td>Line Discount</td>\n",
       "    </tr>\n",
       "    <tr>\n",
       "      <th>2</th>\n",
       "      <td>CDS</td>\n",
       "      <td>100</td>\n",
       "      <td>2021-08-27</td>\n",
       "      <td>3180.0</td>\n",
       "      <td>2481.49</td>\n",
       "      <td>2</td>\n",
       "      <td>694.0</td>\n",
       "      <td>0.0</td>\n",
       "      <td>698.51</td>\n",
       "      <td>698.51</td>\n",
       "      <td>1625.15</td>\n",
       "      <td>1590.0</td>\n",
       "      <td>1240.745</td>\n",
       "      <td>1590.0</td>\n",
       "      <td>1</td>\n",
       "      <td>0.219657</td>\n",
       "      <td>Line Discount</td>\n",
       "    </tr>\n",
       "    <tr>\n",
       "      <th>3</th>\n",
       "      <td>CDS</td>\n",
       "      <td>100</td>\n",
       "      <td>2021-09-03</td>\n",
       "      <td>7950.0</td>\n",
       "      <td>6360.00</td>\n",
       "      <td>6</td>\n",
       "      <td>1735.0</td>\n",
       "      <td>0.0</td>\n",
       "      <td>1590.00</td>\n",
       "      <td>1590.00</td>\n",
       "      <td>4208.95</td>\n",
       "      <td>1590.0</td>\n",
       "      <td>1060.000</td>\n",
       "      <td>1590.0</td>\n",
       "      <td>1</td>\n",
       "      <td>0.333333</td>\n",
       "      <td>Line Discount</td>\n",
       "    </tr>\n",
       "    <tr>\n",
       "      <th>4</th>\n",
       "      <td>CDS</td>\n",
       "      <td>100</td>\n",
       "      <td>2021-09-10</td>\n",
       "      <td>7950.0</td>\n",
       "      <td>5801.00</td>\n",
       "      <td>5</td>\n",
       "      <td>1735.0</td>\n",
       "      <td>0.0</td>\n",
       "      <td>2149.00</td>\n",
       "      <td>2149.00</td>\n",
       "      <td>3686.51</td>\n",
       "      <td>1590.0</td>\n",
       "      <td>1160.200</td>\n",
       "      <td>1590.0</td>\n",
       "      <td>1</td>\n",
       "      <td>0.270314</td>\n",
       "      <td>Line Discount</td>\n",
       "    </tr>\n",
       "  </tbody>\n",
       "</table>\n",
       "</div>"
      ],
      "text/plain": [
       "  banner sku_id_upd         ds  GROSS_SALES_INC_VAT  NET_SALES_AMT_INC_VAT  \\\n",
       "0    CDS        100 2021-07-09               1590.0                1272.00   \n",
       "1    CDS        100 2021-07-23               1590.0                1272.00   \n",
       "2    CDS        100 2021-08-27               3180.0                2481.49   \n",
       "3    CDS        100 2021-09-03               7950.0                6360.00   \n",
       "4    CDS        100 2021-09-10               7950.0                5801.00   \n",
       "\n",
       "   units  COST_OF_GOODS_SOLD  PERMANENT_MARKDOWN_INC_VAT     Disc  total_disc  \\\n",
       "0      1               347.0                         0.0   318.00      318.00   \n",
       "1      1               347.0                         0.0   318.00      318.00   \n",
       "2      2               694.0                         0.0   698.51      698.51   \n",
       "3      6              1735.0                         0.0  1590.00     1590.00   \n",
       "4      5              1735.0                         0.0  2149.00     2149.00   \n",
       "\n",
       "   NET_MARGIN_AMT_EXC_VAT  base_price     price  mode_base_price  promo_yn  \\\n",
       "0                  841.79      1590.0  1272.000           1590.0         1   \n",
       "1                  841.79      1590.0  1272.000           1590.0         1   \n",
       "2                 1625.15      1590.0  1240.745           1590.0         1   \n",
       "3                 4208.95      1590.0  1060.000           1590.0         1   \n",
       "4                 3686.51      1590.0  1160.200           1590.0         1   \n",
       "\n",
       "   discount  DISCOUNT_RULE  \n",
       "0  0.200000  Line Discount  \n",
       "1  0.200000  Line Discount  \n",
       "2  0.219657  Line Discount  \n",
       "3  0.333333  Line Discount  \n",
       "4  0.270314  Line Discount  "
      ]
     },
     "execution_count": 100,
     "metadata": {},
     "output_type": "execute_result"
    }
   ],
   "source": [
    "df_weekly_combined.head()"
   ]
  },
  {
   "cell_type": "markdown",
   "id": "b49d254b",
   "metadata": {},
   "source": [
    "# <span style=\"color:#c6aa3d\">7. Filtering SKUs to analyze</span><a class=\"anchor\" id=\"7-bullet\"></a>"
   ]
  },
  {
   "cell_type": "code",
   "execution_count": 101,
   "id": "e4294032",
   "metadata": {},
   "outputs": [
    {
     "name": "stdout",
     "output_type": "stream",
     "text": [
      "Original Sales: 1,755,098,689 | Original quantity: 1,836,070\n"
     ]
    }
   ],
   "source": [
    "# Mapping the sum of units and sales at the start of the filtering exercise\n",
    "# Would be used to check residual coverage at each filtering step\n",
    "original_units = df_weekly_combined['units'].sum()\n",
    "original_sales = df_weekly_combined['NET_SALES_AMT_INC_VAT'].sum()\n",
    "print(f\"Original Sales: {int(original_sales):,} | Original quantity: {original_units:,}\")"
   ]
  },
  {
   "cell_type": "markdown",
   "id": "a375975d",
   "metadata": {},
   "source": [
    "### 7.1 Filter for top brands within each banner"
   ]
  },
  {
   "cell_type": "code",
   "execution_count": 102,
   "id": "0e5a556a",
   "metadata": {},
   "outputs": [
    {
     "name": "stdout",
     "output_type": "stream",
     "text": [
      "(72, 5)\n"
     ]
    }
   ],
   "source": [
    "top_brands_within_banner_overall = sales_filter.groupby(['banner','BRAND_GROUP']).agg({'SALES_QUANTITY':'sum',\n",
    "                                    'NET_SALES_AMT_INC_VAT':'sum'}).reset_index()\n",
    "\n",
    "top_brands_within_banner_overall['rank'] = top_brands_within_banner_overall.groupby('banner')['NET_SALES_AMT_INC_VAT']. \\\n",
    "                                                    rank(ascending=False, method='dense')\n",
    "\n",
    "# Filtering for top 20 brands but also adding 2 other priority non-top 20 brands into the list\n",
    "top_brands_within_banner_overall = top_brands_within_banner_overall[(top_brands_within_banner_overall['rank']<=20) |\n",
    "                                   (top_brands_within_banner_overall['BRAND_GROUP'].isin(config.custom_brand_list))].reset_index(drop=True)\n",
    "\n",
    "print(top_brands_within_banner_overall.shape)"
   ]
  },
  {
   "cell_type": "code",
   "execution_count": 103,
   "id": "14b04eb7",
   "metadata": {},
   "outputs": [],
   "source": [
    "# Mapping Brand Group to weekly sales data and then filtering for top brand list\n",
    "df_weekly_combined = df_weekly_combined.merge(df_sku_new[['sku_id_upd','BRAND_GROUP']], on='sku_id_upd', how='inner')\n",
    "\n",
    "df_weekly_combined = df_weekly_combined.merge(top_brands_within_banner_overall[['banner','BRAND_GROUP']],\n",
    "                                              on=['banner','BRAND_GROUP'], how='inner')\n",
    "\n",
    "df_weekly_combined = df_weekly_combined.drop(columns='BRAND_GROUP')"
   ]
  },
  {
   "cell_type": "code",
   "execution_count": 104,
   "id": "3fb7da20",
   "metadata": {},
   "outputs": [
    {
     "data": {
      "text/plain": [
       "0.7544224476930432"
      ]
     },
     "execution_count": 104,
     "metadata": {},
     "output_type": "execute_result"
    }
   ],
   "source": [
    "# Checking residual coverage of net sales\n",
    "df_weekly_combined['NET_SALES_AMT_INC_VAT'].sum()/original_sales"
   ]
  },
  {
   "cell_type": "markdown",
   "id": "8118cce7",
   "metadata": {},
   "source": [
    "### 7.2 Filter out COVID lockdown weeks and first/last weeks as they could have partial data"
   ]
  },
  {
   "cell_type": "code",
   "execution_count": 105,
   "id": "81ea261b",
   "metadata": {},
   "outputs": [],
   "source": [
    "# Removing weeks affected by COVID lockdown\n",
    "for start_covid_wk, end_covid_wk in config.covid_exclusion_week_ranges:\n",
    "    df_weekly_combined = df_weekly_combined.loc[~((df_weekly_combined['ds']>=start_covid_wk) & \n",
    "                                                  (df_weekly_combined['ds']<=end_covid_wk))]"
   ]
  },
  {
   "cell_type": "code",
   "execution_count": 106,
   "id": "1c04d566",
   "metadata": {},
   "outputs": [],
   "source": [
    "# Removing first and last weeks\n",
    "df_weekly_combined = df_weekly_combined.loc[~((df_weekly_combined['ds']==config.start_week_exclusion) | \n",
    "                                              (df_weekly_combined['ds']==config.end_week_exclusion))]"
   ]
  },
  {
   "cell_type": "code",
   "execution_count": 107,
   "id": "e7334b91",
   "metadata": {},
   "outputs": [
    {
     "data": {
      "text/plain": [
       "0.6826621733046804"
      ]
     },
     "execution_count": 107,
     "metadata": {},
     "output_type": "execute_result"
    }
   ],
   "source": [
    "# Checking residual coverage of net sales\n",
    "df_weekly_combined['NET_SALES_AMT_INC_VAT'].sum()/original_sales"
   ]
  },
  {
   "cell_type": "code",
   "execution_count": 108,
   "id": "982c2610",
   "metadata": {},
   "outputs": [
    {
     "data": {
      "text/plain": [
       "((424433, 17), 1332757)"
      ]
     },
     "execution_count": 108,
     "metadata": {},
     "output_type": "execute_result"
    }
   ],
   "source": [
    "df_weekly_combined.shape, df_weekly_combined['units'].sum()"
   ]
  },
  {
   "cell_type": "markdown",
   "id": "8e8b6ee4",
   "metadata": {},
   "source": [
    "### 7.3 Removing weeks with very less quantity sold"
   ]
  },
  {
   "cell_type": "code",
   "execution_count": 109,
   "id": "7c88cb91",
   "metadata": {},
   "outputs": [],
   "source": [
    "df_weekly_combined = df_weekly_combined[df_weekly_combined['units'] >= config.min_units_per_week_threshold]\n",
    "df_weekly_combined = df_weekly_combined.reset_index(drop=True)"
   ]
  },
  {
   "cell_type": "code",
   "execution_count": 110,
   "id": "607eb904",
   "metadata": {},
   "outputs": [
    {
     "data": {
      "text/plain": [
       "0.41697610325273826"
      ]
     },
     "execution_count": 110,
     "metadata": {},
     "output_type": "execute_result"
    }
   ],
   "source": [
    "# Checking residual coverage of net sales\n",
    "df_weekly_combined['NET_SALES_AMT_INC_VAT'].sum()/original_sales"
   ]
  },
  {
   "cell_type": "markdown",
   "id": "32f0bf36",
   "metadata": {},
   "source": [
    "### 7.4 Removing SKUs with no promotion weeks and lesser weeks overall"
   ]
  },
  {
   "cell_type": "code",
   "execution_count": 111,
   "id": "71712f04",
   "metadata": {},
   "outputs": [
    {
     "name": "stdout",
     "output_type": "stream",
     "text": [
      "Original no. of #SKU/Banner combinations:  15243\n",
      "#SKU/Banner combinations after removing no promo week combinations:  14422\n",
      "#SKU/Banner combinations after removing less history combinations:  3464\n"
     ]
    }
   ],
   "source": [
    "p1 = df_weekly_combined.groupby(['banner', 'sku_id_upd', 'promo_yn']).agg({'ds':'count'}).reset_index()\n",
    "p1= pd.pivot_table(p1, index = ['banner', 'sku_id_upd'], columns = 'promo_yn', values = 'ds', fill_value = 0).reset_index()\n",
    "p1['tot_weeks'] = p1[0] + p1[1]\n",
    "\n",
    "sku_groups_with_no_promo_week = p1.loc[p1[1]==0, ['banner', 'sku_id_upd']]\n",
    "sku_groups_with_less_history = p1.loc[p1['tot_weeks'] < config.sku_min_number_of_weeks, ['banner', 'sku_id_upd']]\n",
    "\n",
    "p2 = df_weekly_combined.groupby(['banner', 'sku_id_upd'])['ds'].max().reset_index()\n",
    "\n",
    "print(\"Original no. of #SKU/Banner combinations: \", df_weekly_combined.drop_duplicates(['banner', 'sku_id_upd']).shape[0])\n",
    "\n",
    "# Removing SKUs with no promo week\n",
    "df_weekly_combined = df_weekly_combined.merge(sku_groups_with_no_promo_week, on=['banner', 'sku_id_upd'], how='left', indicator=True)\n",
    "df_weekly_combined = df_weekly_combined[df_weekly_combined['_merge']=='left_only'].drop(columns='_merge')\n",
    "print(\"#SKU/Banner combinations after removing no promo week combinations: \", df_weekly_combined.drop_duplicates(['banner', 'sku_id_upd']).shape[0])\n",
    "\n",
    "# Removing SKUs with less history\n",
    "df_weekly_combined = df_weekly_combined.merge(sku_groups_with_less_history, on=['banner', 'sku_id_upd'], how='left', indicator=True)\n",
    "df_weekly_combined = df_weekly_combined[df_weekly_combined['_merge']=='left_only'].drop(columns='_merge')\n",
    "print(\"#SKU/Banner combinations after removing less history combinations: \", df_weekly_combined.drop_duplicates(['banner', 'sku_id_upd']).shape[0])\n"
   ]
  },
  {
   "cell_type": "code",
   "execution_count": 112,
   "id": "33449f0b",
   "metadata": {},
   "outputs": [
    {
     "name": "stdout",
     "output_type": "stream",
     "text": [
      "% sales after filtering 0.23930594281486448\n"
     ]
    }
   ],
   "source": [
    "sales_after_filtering = df_weekly_combined['NET_SALES_AMT_INC_VAT'].sum()\n",
    "print(\"% sales after filtering\", sales_after_filtering/original_sales)"
   ]
  },
  {
   "cell_type": "code",
   "execution_count": 113,
   "id": "ea4a0b1d",
   "metadata": {},
   "outputs": [
    {
     "data": {
      "text/plain": [
       "(63709, 17)"
      ]
     },
     "execution_count": 113,
     "metadata": {},
     "output_type": "execute_result"
    }
   ],
   "source": [
    "df_weekly_combined.shape"
   ]
  },
  {
   "cell_type": "markdown",
   "id": "1ae167d8",
   "metadata": {},
   "source": [
    "### 7.5 Filtering SKU weeks with low 2020 avg. volumes but much higher 2021 avg. volumes"
   ]
  },
  {
   "cell_type": "code",
   "execution_count": 114,
   "id": "47c1adb7",
   "metadata": {},
   "outputs": [
    {
     "name": "stdout",
     "output_type": "stream",
     "text": [
      "Groups impacted: 23\n",
      "(63585, 17)\n"
     ]
    }
   ],
   "source": [
    "df_weekly_combined = df_weekly_combined.reset_index(drop=True)\n",
    "df_weekly_combined = custom_funcs.remove_low_2020_weeks(df_weekly_combined,\n",
    "                                                        group_vars=['banner','sku_id_upd'],\n",
    "                                                        multiplier_thresh=2)\n",
    "\n",
    "print(df_weekly_combined.shape)"
   ]
  },
  {
   "cell_type": "markdown",
   "id": "5ac6dbe7",
   "metadata": {},
   "source": [
    "# <span style=\"color:#c6aa3d\">8. Create features for modelling</span><a class=\"anchor\" id=\"8-bullet\"></a>"
   ]
  },
  {
   "cell_type": "markdown",
   "id": "63ba8ea1",
   "metadata": {},
   "source": [
    "### 8.1 Creating timestamps and holiday features"
   ]
  },
  {
   "cell_type": "code",
   "execution_count": 115,
   "id": "62e6568f",
   "metadata": {},
   "outputs": [],
   "source": [
    "df_feat = df_weekly_combined.reset_index(drop=True).copy()"
   ]
  },
  {
   "cell_type": "code",
   "execution_count": 116,
   "id": "1ebb79d4",
   "metadata": {},
   "outputs": [
    {
     "data": {
      "text/plain": [
       "((63585, 17), 502388)"
      ]
     },
     "execution_count": 116,
     "metadata": {},
     "output_type": "execute_result"
    }
   ],
   "source": [
    "df_feat.shape, df_feat['units'].sum()"
   ]
  },
  {
   "cell_type": "code",
   "execution_count": 117,
   "id": "1df490ae",
   "metadata": {},
   "outputs": [
    {
     "name": "stderr",
     "output_type": "stream",
     "text": [
      "<ipython-input-117-8a3fbc0539b4>:12: FutureWarning: Series.dt.weekofyear and Series.dt.week have been deprecated. Please use Series.dt.isocalendar().week instead.\n",
      "  df_feat.loc[:, 'weeknum'] = df_feat.middle_date.dt.week\n"
     ]
    }
   ],
   "source": [
    "# Calculate week-end date\n",
    "df_feat['ds_end']= df_feat['ds'] + pd.DateOffset(6)\n",
    "\n",
    "# Date to be selected will be the middle date of the week\n",
    "df_feat[\"middle_date\"] = df_feat[\"ds\"] + (df_feat[\"ds_end\"] - df_feat[\"ds\"])/2\n",
    "\n",
    "# Calculating month and year\n",
    "df_feat.loc[:, 'month'] =  df_feat.middle_date.dt.month\n",
    "df_feat.loc[:, 'year'] =  df_feat.middle_date.dt.year\n",
    "\n",
    "# Calculating Weeknum\n",
    "df_feat.loc[:, 'weeknum'] = df_feat.middle_date.dt.week\n",
    "df_feat['week'] = df_feat['year']*100 + df_feat['weeknum']"
   ]
  },
  {
   "cell_type": "code",
   "execution_count": 118,
   "id": "7fbfd67f",
   "metadata": {},
   "outputs": [
    {
     "name": "stderr",
     "output_type": "stream",
     "text": [
      "C:\\Users\\Asus\\anaconda3\\lib\\site-packages\\fbprophet\\hdays.py:727: Warning: We only support Asalha Puja holiday from 2006 to 2025\n",
      "  warnings.warn(warning_msg, Warning)\n",
      "C:\\Users\\Asus\\anaconda3\\lib\\site-packages\\fbprophet\\hdays.py:774: Warning: We only support Vassa holiday from 2006 to 2020\n",
      "  warnings.warn(warning_msg, Warning)\n"
     ]
    }
   ],
   "source": [
    "# Create Calendar List\n",
    "year_list = glob.HOLIDAYS_CALENDAR_YEAR\n",
    "country_name = glob.HOLIDAYS_COUNTRY\n",
    "thai_holidays = fc.make_holidays_df(year_list, country_name)\n",
    "\n",
    "new_year_holidays = thai_holidays[thai_holidays[\"holiday\"].str.contains(\"New Year's Day\")]\n",
    "songkran_holidays = thai_holidays[thai_holidays[\"holiday\"].str.contains(\"Songkran\")]\n",
    "queen_mother_bday_holidays = thai_holidays[thai_holidays[\"holiday\"].str.contains(\"The Queen Sirikit's Birthday\")]\n",
    "other_holidays = thai_holidays[~thai_holidays[\"holiday\"].str.contains(\"New Year's Day|Songkran|The Queen Sirikit's Birthday\")]\n",
    "\n",
    "christmas_holidays = pd.DataFrame({'ds':[str(year)+\"-12-25\" for year in year_list], 'holiday':['Christmas']*len(year_list)})\n",
    "sep9_holidays = pd.DataFrame({'ds':[str(year)+\"-09-09\" for year in year_list], 'holiday':['9.9']*len(year_list)})\n",
    "oct10_holidays = pd.DataFrame({'ds':[str(year)+\"-10-10\" for year in year_list], 'holiday':['10.10']*len(year_list)})\n",
    "nov11_holidays = pd.DataFrame({'ds':[str(year)+\"-11-11\" for year in year_list], 'holiday':['11.11']*len(year_list)})\n",
    "\n",
    "chinese_new_year_holidays = pd.DataFrame({'ds':config.cny_holiday_weeks, 'holiday':['Chinese New Year', 'Chinese New Year']})\n",
    "\n",
    "for holiday_dfs in [christmas_holidays, sep9_holidays, oct10_holidays, nov11_holidays, chinese_new_year_holidays]:\n",
    "    holiday_dfs['ds'] = pd.to_datetime(holiday_dfs['ds'])\n",
    "\n"
   ]
  },
  {
   "cell_type": "code",
   "execution_count": 119,
   "id": "71467426",
   "metadata": {},
   "outputs": [],
   "source": [
    "df_feat[\"has_New_Year\"] = df_feat.apply(lambda val: fc.has_holiday(val[\"ds\"], val[\"ds_end\"], new_year_holidays) , axis=1)\n",
    "df_feat[\"has_songkran\"] = df_feat.apply(lambda val: fc.has_holiday(val[\"ds\"], val[\"ds_end\"], songkran_holidays) , axis=1)\n",
    "df_feat[\"has_queen_mother_bday\"] = df_feat.apply(lambda val: fc.has_holiday(val[\"ds\"], val[\"ds_end\"], queen_mother_bday_holidays) , axis=1)\n",
    "df_feat[\"has_other_holidays\"] = df_feat.apply(lambda val: fc.has_holiday(val[\"ds\"], val[\"ds_end\"], other_holidays) , axis=1)\n",
    "\n",
    "df_feat[\"has_christmas_holiday\"] = df_feat.apply(lambda val: fc.has_holiday(val[\"ds\"], val[\"ds_end\"], christmas_holidays) , axis=1)\n",
    "df_feat[\"has_sep9_holiday\"] = df_feat.apply(lambda val: fc.has_holiday(val[\"ds\"], val[\"ds_end\"], sep9_holidays) , axis=1)\n",
    "df_feat[\"has_oct10_holiday\"] = df_feat.apply(lambda val: fc.has_holiday(val[\"ds\"], val[\"ds_end\"], oct10_holidays) , axis=1)\n",
    "df_feat[\"has_nov11_holiday\"] = df_feat.apply(lambda val: fc.has_holiday(val[\"ds\"], val[\"ds_end\"], nov11_holidays) , axis=1)\n",
    "\n",
    "df_feat[\"has_Chinese_New_Year\"] = df_feat.apply(lambda val: fc.has_holiday(val[\"ds\"], val[\"ds_end\"], chinese_new_year_holidays) , axis=1)"
   ]
  },
  {
   "cell_type": "code",
   "execution_count": 120,
   "id": "bb3c373d",
   "metadata": {},
   "outputs": [],
   "source": [
    "# Flag for holidays 1 week and 2 weeks before songkran and christmas\n",
    "df_feat[\"has_songkran_prior1week\"] = np.where(df_feat[\"ds\"].isin(config.songkran_holidays_prior1week),1,0 )\n",
    "df_feat[\"has_songkran_prior2weeks\"] = np.where(df_feat[\"ds\"].isin(config.songkran_holidays_prior2week),1,0 )\n",
    "df_feat[\"has_songkran_prior3weeks\"] = np.where(df_feat[\"ds\"].isin(config.songkran_holidays_prior3week),1,0 )\n",
    "\n",
    "df_feat[\"has_christmas_prior1week\"] = np.where(df_feat[\"ds\"].isin(config.christmas_holidays_prior1week),1,0 )\n",
    "df_feat[\"has_christmas_prior2weeks\"] = np.where(df_feat[\"ds\"].isin(config.christmas_holidays_prior2week),1,0 )\n",
    "df_feat[\"has_christmas_prior3weeks\"] = np.where(df_feat[\"ds\"].isin(config.christmas_holidays_prior3week),1,0 )"
   ]
  },
  {
   "cell_type": "markdown",
   "id": "bf511346",
   "metadata": {},
   "source": [
    "### 8.2 Creating non-linear trend line"
   ]
  },
  {
   "cell_type": "code",
   "execution_count": 121,
   "id": "5889b83d",
   "metadata": {},
   "outputs": [
    {
     "name": "stderr",
     "output_type": "stream",
     "text": [
      "C:\\Users\\Asus\\anaconda3\\lib\\site-packages\\statsmodels\\nonparametric\\smoothers_lowess.py:214: RuntimeWarning: invalid value encountered in true_divide\n",
      "  res, _ = _lowess(y, x, x, np.ones_like(x),\n"
     ]
    }
   ],
   "source": [
    "df_feat  = df_feat.groupby(['banner', 'sku_id_upd']).apply(lambda x: custom_funcs.create_lowess_trend(x, config.lowess_trend_n))"
   ]
  },
  {
   "cell_type": "code",
   "execution_count": 122,
   "id": "f4a1bd2f",
   "metadata": {},
   "outputs": [
    {
     "data": {
      "text/html": [
       "<div>\n",
       "<style scoped>\n",
       "    .dataframe tbody tr th:only-of-type {\n",
       "        vertical-align: middle;\n",
       "    }\n",
       "\n",
       "    .dataframe tbody tr th {\n",
       "        vertical-align: top;\n",
       "    }\n",
       "\n",
       "    .dataframe thead th {\n",
       "        text-align: right;\n",
       "    }\n",
       "</style>\n",
       "<table border=\"1\" class=\"dataframe\">\n",
       "  <thead>\n",
       "    <tr style=\"text-align: right;\">\n",
       "      <th></th>\n",
       "      <th>banner</th>\n",
       "      <th>sku_id_upd</th>\n",
       "      <th>ds</th>\n",
       "      <th>GROSS_SALES_INC_VAT</th>\n",
       "      <th>NET_SALES_AMT_INC_VAT</th>\n",
       "      <th>units</th>\n",
       "      <th>COST_OF_GOODS_SOLD</th>\n",
       "      <th>PERMANENT_MARKDOWN_INC_VAT</th>\n",
       "      <th>Disc</th>\n",
       "      <th>total_disc</th>\n",
       "      <th>NET_MARGIN_AMT_EXC_VAT</th>\n",
       "      <th>base_price</th>\n",
       "      <th>price</th>\n",
       "      <th>mode_base_price</th>\n",
       "      <th>promo_yn</th>\n",
       "      <th>discount</th>\n",
       "      <th>DISCOUNT_RULE</th>\n",
       "      <th>ds_end</th>\n",
       "      <th>middle_date</th>\n",
       "      <th>month</th>\n",
       "      <th>year</th>\n",
       "      <th>weeknum</th>\n",
       "      <th>week</th>\n",
       "      <th>has_New_Year</th>\n",
       "      <th>has_songkran</th>\n",
       "      <th>has_queen_mother_bday</th>\n",
       "      <th>has_other_holidays</th>\n",
       "      <th>has_christmas_holiday</th>\n",
       "      <th>has_sep9_holiday</th>\n",
       "      <th>has_oct10_holiday</th>\n",
       "      <th>has_nov11_holiday</th>\n",
       "      <th>has_Chinese_New_Year</th>\n",
       "      <th>has_songkran_prior1week</th>\n",
       "      <th>has_songkran_prior2weeks</th>\n",
       "      <th>has_songkran_prior3weeks</th>\n",
       "      <th>has_christmas_prior1week</th>\n",
       "      <th>has_christmas_prior2weeks</th>\n",
       "      <th>has_christmas_prior3weeks</th>\n",
       "      <th>trend_2</th>\n",
       "    </tr>\n",
       "  </thead>\n",
       "  <tbody>\n",
       "    <tr>\n",
       "      <th>0</th>\n",
       "      <td>CDS</td>\n",
       "      <td>100</td>\n",
       "      <td>2021-09-03</td>\n",
       "      <td>7950.0</td>\n",
       "      <td>6360.00</td>\n",
       "      <td>6</td>\n",
       "      <td>1735.0</td>\n",
       "      <td>0.0</td>\n",
       "      <td>1590.00</td>\n",
       "      <td>1590.00</td>\n",
       "      <td>4208.95</td>\n",
       "      <td>1590.0</td>\n",
       "      <td>1060.000000</td>\n",
       "      <td>1590.0</td>\n",
       "      <td>1</td>\n",
       "      <td>0.333333</td>\n",
       "      <td>Line Discount</td>\n",
       "      <td>2021-09-03</td>\n",
       "      <td>2021-09-03</td>\n",
       "      <td>9</td>\n",
       "      <td>2021</td>\n",
       "      <td>35</td>\n",
       "      <td>202135</td>\n",
       "      <td>0</td>\n",
       "      <td>0</td>\n",
       "      <td>0</td>\n",
       "      <td>0</td>\n",
       "      <td>0</td>\n",
       "      <td>0</td>\n",
       "      <td>0</td>\n",
       "      <td>0</td>\n",
       "      <td>0</td>\n",
       "      <td>0</td>\n",
       "      <td>0</td>\n",
       "      <td>0</td>\n",
       "      <td>0</td>\n",
       "      <td>0</td>\n",
       "      <td>0</td>\n",
       "      <td>5.470811</td>\n",
       "    </tr>\n",
       "    <tr>\n",
       "      <th>1</th>\n",
       "      <td>CDS</td>\n",
       "      <td>100</td>\n",
       "      <td>2021-09-10</td>\n",
       "      <td>7950.0</td>\n",
       "      <td>5801.00</td>\n",
       "      <td>5</td>\n",
       "      <td>1735.0</td>\n",
       "      <td>0.0</td>\n",
       "      <td>2149.00</td>\n",
       "      <td>2149.00</td>\n",
       "      <td>3686.51</td>\n",
       "      <td>1590.0</td>\n",
       "      <td>1160.200000</td>\n",
       "      <td>1590.0</td>\n",
       "      <td>1</td>\n",
       "      <td>0.270314</td>\n",
       "      <td>Line Discount</td>\n",
       "      <td>2021-09-10</td>\n",
       "      <td>2021-09-10</td>\n",
       "      <td>9</td>\n",
       "      <td>2021</td>\n",
       "      <td>36</td>\n",
       "      <td>202136</td>\n",
       "      <td>0</td>\n",
       "      <td>0</td>\n",
       "      <td>0</td>\n",
       "      <td>0</td>\n",
       "      <td>0</td>\n",
       "      <td>0</td>\n",
       "      <td>0</td>\n",
       "      <td>0</td>\n",
       "      <td>0</td>\n",
       "      <td>0</td>\n",
       "      <td>0</td>\n",
       "      <td>0</td>\n",
       "      <td>0</td>\n",
       "      <td>0</td>\n",
       "      <td>0</td>\n",
       "      <td>5.396435</td>\n",
       "    </tr>\n",
       "    <tr>\n",
       "      <th>2</th>\n",
       "      <td>CDS</td>\n",
       "      <td>100</td>\n",
       "      <td>2021-10-01</td>\n",
       "      <td>7950.0</td>\n",
       "      <td>6060.00</td>\n",
       "      <td>5</td>\n",
       "      <td>1735.0</td>\n",
       "      <td>0.0</td>\n",
       "      <td>1890.00</td>\n",
       "      <td>1890.00</td>\n",
       "      <td>3928.57</td>\n",
       "      <td>1590.0</td>\n",
       "      <td>1212.000000</td>\n",
       "      <td>1590.0</td>\n",
       "      <td>1</td>\n",
       "      <td>0.237736</td>\n",
       "      <td>Line Discount</td>\n",
       "      <td>2021-10-01</td>\n",
       "      <td>2021-10-01</td>\n",
       "      <td>10</td>\n",
       "      <td>2021</td>\n",
       "      <td>39</td>\n",
       "      <td>202139</td>\n",
       "      <td>0</td>\n",
       "      <td>0</td>\n",
       "      <td>0</td>\n",
       "      <td>0</td>\n",
       "      <td>0</td>\n",
       "      <td>0</td>\n",
       "      <td>0</td>\n",
       "      <td>0</td>\n",
       "      <td>0</td>\n",
       "      <td>0</td>\n",
       "      <td>0</td>\n",
       "      <td>0</td>\n",
       "      <td>0</td>\n",
       "      <td>0</td>\n",
       "      <td>0</td>\n",
       "      <td>5.347788</td>\n",
       "    </tr>\n",
       "    <tr>\n",
       "      <th>3</th>\n",
       "      <td>CDS</td>\n",
       "      <td>100</td>\n",
       "      <td>2021-10-08</td>\n",
       "      <td>7950.0</td>\n",
       "      <td>5401.45</td>\n",
       "      <td>5</td>\n",
       "      <td>1735.0</td>\n",
       "      <td>0.0</td>\n",
       "      <td>2548.55</td>\n",
       "      <td>2548.55</td>\n",
       "      <td>3313.10</td>\n",
       "      <td>1590.0</td>\n",
       "      <td>1080.290000</td>\n",
       "      <td>1590.0</td>\n",
       "      <td>1</td>\n",
       "      <td>0.320572</td>\n",
       "      <td>Line Discount</td>\n",
       "      <td>2021-10-08</td>\n",
       "      <td>2021-10-08</td>\n",
       "      <td>10</td>\n",
       "      <td>2021</td>\n",
       "      <td>40</td>\n",
       "      <td>202140</td>\n",
       "      <td>0</td>\n",
       "      <td>0</td>\n",
       "      <td>0</td>\n",
       "      <td>0</td>\n",
       "      <td>0</td>\n",
       "      <td>0</td>\n",
       "      <td>0</td>\n",
       "      <td>0</td>\n",
       "      <td>0</td>\n",
       "      <td>0</td>\n",
       "      <td>0</td>\n",
       "      <td>0</td>\n",
       "      <td>0</td>\n",
       "      <td>0</td>\n",
       "      <td>0</td>\n",
       "      <td>5.333702</td>\n",
       "    </tr>\n",
       "    <tr>\n",
       "      <th>4</th>\n",
       "      <td>CDS</td>\n",
       "      <td>100</td>\n",
       "      <td>2021-10-15</td>\n",
       "      <td>9540.0</td>\n",
       "      <td>7529.47</td>\n",
       "      <td>6</td>\n",
       "      <td>2082.0</td>\n",
       "      <td>0.0</td>\n",
       "      <td>2010.53</td>\n",
       "      <td>2010.53</td>\n",
       "      <td>4954.91</td>\n",
       "      <td>1590.0</td>\n",
       "      <td>1254.911667</td>\n",
       "      <td>1590.0</td>\n",
       "      <td>1</td>\n",
       "      <td>0.210747</td>\n",
       "      <td>Line Discount</td>\n",
       "      <td>2021-10-15</td>\n",
       "      <td>2021-10-15</td>\n",
       "      <td>10</td>\n",
       "      <td>2021</td>\n",
       "      <td>41</td>\n",
       "      <td>202141</td>\n",
       "      <td>0</td>\n",
       "      <td>0</td>\n",
       "      <td>0</td>\n",
       "      <td>0</td>\n",
       "      <td>0</td>\n",
       "      <td>0</td>\n",
       "      <td>0</td>\n",
       "      <td>0</td>\n",
       "      <td>0</td>\n",
       "      <td>0</td>\n",
       "      <td>0</td>\n",
       "      <td>0</td>\n",
       "      <td>0</td>\n",
       "      <td>0</td>\n",
       "      <td>0</td>\n",
       "      <td>5.452185</td>\n",
       "    </tr>\n",
       "  </tbody>\n",
       "</table>\n",
       "</div>"
      ],
      "text/plain": [
       "  banner sku_id_upd         ds  GROSS_SALES_INC_VAT  NET_SALES_AMT_INC_VAT  \\\n",
       "0    CDS        100 2021-09-03               7950.0                6360.00   \n",
       "1    CDS        100 2021-09-10               7950.0                5801.00   \n",
       "2    CDS        100 2021-10-01               7950.0                6060.00   \n",
       "3    CDS        100 2021-10-08               7950.0                5401.45   \n",
       "4    CDS        100 2021-10-15               9540.0                7529.47   \n",
       "\n",
       "   units  COST_OF_GOODS_SOLD  PERMANENT_MARKDOWN_INC_VAT     Disc  total_disc  \\\n",
       "0      6              1735.0                         0.0  1590.00     1590.00   \n",
       "1      5              1735.0                         0.0  2149.00     2149.00   \n",
       "2      5              1735.0                         0.0  1890.00     1890.00   \n",
       "3      5              1735.0                         0.0  2548.55     2548.55   \n",
       "4      6              2082.0                         0.0  2010.53     2010.53   \n",
       "\n",
       "   NET_MARGIN_AMT_EXC_VAT  base_price        price  mode_base_price  promo_yn  \\\n",
       "0                 4208.95      1590.0  1060.000000           1590.0         1   \n",
       "1                 3686.51      1590.0  1160.200000           1590.0         1   \n",
       "2                 3928.57      1590.0  1212.000000           1590.0         1   \n",
       "3                 3313.10      1590.0  1080.290000           1590.0         1   \n",
       "4                 4954.91      1590.0  1254.911667           1590.0         1   \n",
       "\n",
       "   discount  DISCOUNT_RULE     ds_end middle_date  month  year  weeknum  \\\n",
       "0  0.333333  Line Discount 2021-09-03  2021-09-03      9  2021       35   \n",
       "1  0.270314  Line Discount 2021-09-10  2021-09-10      9  2021       36   \n",
       "2  0.237736  Line Discount 2021-10-01  2021-10-01     10  2021       39   \n",
       "3  0.320572  Line Discount 2021-10-08  2021-10-08     10  2021       40   \n",
       "4  0.210747  Line Discount 2021-10-15  2021-10-15     10  2021       41   \n",
       "\n",
       "     week  has_New_Year  has_songkran  has_queen_mother_bday  \\\n",
       "0  202135             0             0                      0   \n",
       "1  202136             0             0                      0   \n",
       "2  202139             0             0                      0   \n",
       "3  202140             0             0                      0   \n",
       "4  202141             0             0                      0   \n",
       "\n",
       "   has_other_holidays  has_christmas_holiday  has_sep9_holiday  \\\n",
       "0                   0                      0                 0   \n",
       "1                   0                      0                 0   \n",
       "2                   0                      0                 0   \n",
       "3                   0                      0                 0   \n",
       "4                   0                      0                 0   \n",
       "\n",
       "   has_oct10_holiday  has_nov11_holiday  has_Chinese_New_Year  \\\n",
       "0                  0                  0                     0   \n",
       "1                  0                  0                     0   \n",
       "2                  0                  0                     0   \n",
       "3                  0                  0                     0   \n",
       "4                  0                  0                     0   \n",
       "\n",
       "   has_songkran_prior1week  has_songkran_prior2weeks  \\\n",
       "0                        0                         0   \n",
       "1                        0                         0   \n",
       "2                        0                         0   \n",
       "3                        0                         0   \n",
       "4                        0                         0   \n",
       "\n",
       "   has_songkran_prior3weeks  has_christmas_prior1week  \\\n",
       "0                         0                         0   \n",
       "1                         0                         0   \n",
       "2                         0                         0   \n",
       "3                         0                         0   \n",
       "4                         0                         0   \n",
       "\n",
       "   has_christmas_prior2weeks  has_christmas_prior3weeks   trend_2  \n",
       "0                          0                          0  5.470811  \n",
       "1                          0                          0  5.396435  \n",
       "2                          0                          0  5.347788  \n",
       "3                          0                          0  5.333702  \n",
       "4                          0                          0  5.452185  "
      ]
     },
     "execution_count": 122,
     "metadata": {},
     "output_type": "execute_result"
    }
   ],
   "source": [
    "df_feat.head()"
   ]
  },
  {
   "cell_type": "code",
   "execution_count": 123,
   "id": "10e35a1b",
   "metadata": {
    "scrolled": true
   },
   "outputs": [
    {
     "data": {
      "image/png": "[encoded data removed]",
      "text/plain": [
       "<Figure size 800x400 with 1 Axes>"
      ]
     },
     "metadata": {
      "needs_background": "light"
     },
     "output_type": "display_data"
    },
    {
     "data": {
      "image/png": "[encoded data removed]",
      "text/plain": [
       "<Figure size 800x400 with 1 Axes>"
      ]
     },
     "metadata": {
      "needs_background": "light"
     },
     "output_type": "display_data"
    },
    {
     "data": {
      "image/png": "[encoded data removed]",
      "text/plain": [
       "<Figure size 800x400 with 1 Axes>"
      ]
     },
     "metadata": {
      "needs_background": "light"
     },
     "output_type": "display_data"
    },
    {
     "data": {
      "image/png": "[encoded data removed]",
      "text/plain": [
       "<Figure size 800x400 with 1 Axes>"
      ]
     },
     "metadata": {
      "needs_background": "light"
     },
     "output_type": "display_data"
    },
    {
     "data": {
      "image/png": "[encoded data removed]",
      "text/plain": [
       "<Figure size 800x400 with 1 Axes>"
      ]
     },
     "metadata": {
      "needs_background": "light"
     },
     "output_type": "display_data"
    }
   ],
   "source": [
    "# Checking few SKUs\n",
    "sku_list=['19585', '19586', '19566','19557',  '3476']\n",
    "\n",
    "for sku in sku_list:\n",
    "    plt.figure(figsize=(10, 5), dpi=80)\n",
    "\n",
    "    sku_data = df_feat.loc[(df_feat['banner']=='CDS') & (df_feat['sku_id_upd']==sku)]\n",
    "\n",
    "    plt.title(\"SKU number : \"+sku)\n",
    "    plt.scatter(sku_data.ds,sku_data.units)\n",
    "    plt.plot(sku_data.ds, sku_data['trend_' + str(config.lowess_trend_n)])\n",
    "    plt.gca().legend(('trend_' + str(config.lowess_trend_n)))\n",
    "    plt.show()\n"
   ]
  },
  {
   "cell_type": "markdown",
   "id": "7daca937",
   "metadata": {},
   "source": [
    "### 8.3 One-Hot Encoding of categorical data"
   ]
  },
  {
   "cell_type": "code",
   "execution_count": 124,
   "id": "4a309a09",
   "metadata": {},
   "outputs": [
    {
     "name": "stdout",
     "output_type": "stream",
     "text": [
      "Before filtering: (63585, 39)\n",
      "After filtering: (63585, 39)\n"
     ]
    }
   ],
   "source": [
    "df_feat_ohe = df_feat.copy()\n",
    "print(f\"Before filtering: {df_feat_ohe.shape}\")\n",
    "df_feat_ohe = df_feat_ohe[df_feat_ohe['units']>0]\n",
    "print(f\"After filtering: {df_feat_ohe.shape}\")"
   ]
  },
  {
   "cell_type": "code",
   "execution_count": 125,
   "id": "83f64463",
   "metadata": {},
   "outputs": [],
   "source": [
    "df_feat_ohe = pd.get_dummies(df_feat_ohe, columns=[\"DISCOUNT_RULE\"])"
   ]
  },
  {
   "cell_type": "code",
   "execution_count": 126,
   "id": "a7384a37",
   "metadata": {},
   "outputs": [
    {
     "data": {
      "text/plain": [
       "(63585, 42)"
      ]
     },
     "execution_count": 126,
     "metadata": {},
     "output_type": "execute_result"
    }
   ],
   "source": [
    "df_feat_ohe.shape"
   ]
  },
  {
   "cell_type": "code",
   "execution_count": 127,
   "id": "5de4b23f",
   "metadata": {},
   "outputs": [
    {
     "data": {
      "text/html": [
       "<div>\n",
       "<style scoped>\n",
       "    .dataframe tbody tr th:only-of-type {\n",
       "        vertical-align: middle;\n",
       "    }\n",
       "\n",
       "    .dataframe tbody tr th {\n",
       "        vertical-align: top;\n",
       "    }\n",
       "\n",
       "    .dataframe thead th {\n",
       "        text-align: right;\n",
       "    }\n",
       "</style>\n",
       "<table border=\"1\" class=\"dataframe\">\n",
       "  <thead>\n",
       "    <tr style=\"text-align: right;\">\n",
       "      <th></th>\n",
       "      <th>banner</th>\n",
       "      <th>sku_id_upd</th>\n",
       "      <th>ds</th>\n",
       "      <th>GROSS_SALES_INC_VAT</th>\n",
       "      <th>NET_SALES_AMT_INC_VAT</th>\n",
       "      <th>units</th>\n",
       "      <th>COST_OF_GOODS_SOLD</th>\n",
       "      <th>PERMANENT_MARKDOWN_INC_VAT</th>\n",
       "      <th>Disc</th>\n",
       "      <th>total_disc</th>\n",
       "      <th>NET_MARGIN_AMT_EXC_VAT</th>\n",
       "      <th>base_price</th>\n",
       "      <th>price</th>\n",
       "      <th>mode_base_price</th>\n",
       "      <th>promo_yn</th>\n",
       "      <th>discount</th>\n",
       "      <th>ds_end</th>\n",
       "      <th>middle_date</th>\n",
       "      <th>month</th>\n",
       "      <th>year</th>\n",
       "      <th>weeknum</th>\n",
       "      <th>week</th>\n",
       "      <th>has_New_Year</th>\n",
       "      <th>has_songkran</th>\n",
       "      <th>has_queen_mother_bday</th>\n",
       "      <th>has_other_holidays</th>\n",
       "      <th>has_christmas_holiday</th>\n",
       "      <th>has_sep9_holiday</th>\n",
       "      <th>has_oct10_holiday</th>\n",
       "      <th>has_nov11_holiday</th>\n",
       "      <th>has_Chinese_New_Year</th>\n",
       "      <th>has_songkran_prior1week</th>\n",
       "      <th>has_songkran_prior2weeks</th>\n",
       "      <th>has_songkran_prior3weeks</th>\n",
       "      <th>has_christmas_prior1week</th>\n",
       "      <th>has_christmas_prior2weeks</th>\n",
       "      <th>has_christmas_prior3weeks</th>\n",
       "      <th>trend_2</th>\n",
       "      <th>DISCOUNT_RULE_Line Discount</th>\n",
       "      <th>DISCOUNT_RULE_Mix&amp;Match Amount</th>\n",
       "      <th>DISCOUNT_RULE_Mix&amp;Match Quantity</th>\n",
       "      <th>DISCOUNT_RULE_Total Or Ontop Discount</th>\n",
       "    </tr>\n",
       "  </thead>\n",
       "  <tbody>\n",
       "    <tr>\n",
       "      <th>0</th>\n",
       "      <td>CDS</td>\n",
       "      <td>100</td>\n",
       "      <td>2021-09-03</td>\n",
       "      <td>7950.0</td>\n",
       "      <td>6360.00</td>\n",
       "      <td>6</td>\n",
       "      <td>1735.0</td>\n",
       "      <td>0.0</td>\n",
       "      <td>1590.00</td>\n",
       "      <td>1590.00</td>\n",
       "      <td>4208.95</td>\n",
       "      <td>1590.0</td>\n",
       "      <td>1060.000000</td>\n",
       "      <td>1590.0</td>\n",
       "      <td>1</td>\n",
       "      <td>0.333333</td>\n",
       "      <td>2021-09-03</td>\n",
       "      <td>2021-09-03</td>\n",
       "      <td>9</td>\n",
       "      <td>2021</td>\n",
       "      <td>35</td>\n",
       "      <td>202135</td>\n",
       "      <td>0</td>\n",
       "      <td>0</td>\n",
       "      <td>0</td>\n",
       "      <td>0</td>\n",
       "      <td>0</td>\n",
       "      <td>0</td>\n",
       "      <td>0</td>\n",
       "      <td>0</td>\n",
       "      <td>0</td>\n",
       "      <td>0</td>\n",
       "      <td>0</td>\n",
       "      <td>0</td>\n",
       "      <td>0</td>\n",
       "      <td>0</td>\n",
       "      <td>0</td>\n",
       "      <td>5.470811</td>\n",
       "      <td>1</td>\n",
       "      <td>0</td>\n",
       "      <td>0</td>\n",
       "      <td>0</td>\n",
       "    </tr>\n",
       "    <tr>\n",
       "      <th>1</th>\n",
       "      <td>CDS</td>\n",
       "      <td>100</td>\n",
       "      <td>2021-09-10</td>\n",
       "      <td>7950.0</td>\n",
       "      <td>5801.00</td>\n",
       "      <td>5</td>\n",
       "      <td>1735.0</td>\n",
       "      <td>0.0</td>\n",
       "      <td>2149.00</td>\n",
       "      <td>2149.00</td>\n",
       "      <td>3686.51</td>\n",
       "      <td>1590.0</td>\n",
       "      <td>1160.200000</td>\n",
       "      <td>1590.0</td>\n",
       "      <td>1</td>\n",
       "      <td>0.270314</td>\n",
       "      <td>2021-09-10</td>\n",
       "      <td>2021-09-10</td>\n",
       "      <td>9</td>\n",
       "      <td>2021</td>\n",
       "      <td>36</td>\n",
       "      <td>202136</td>\n",
       "      <td>0</td>\n",
       "      <td>0</td>\n",
       "      <td>0</td>\n",
       "      <td>0</td>\n",
       "      <td>0</td>\n",
       "      <td>0</td>\n",
       "      <td>0</td>\n",
       "      <td>0</td>\n",
       "      <td>0</td>\n",
       "      <td>0</td>\n",
       "      <td>0</td>\n",
       "      <td>0</td>\n",
       "      <td>0</td>\n",
       "      <td>0</td>\n",
       "      <td>0</td>\n",
       "      <td>5.396435</td>\n",
       "      <td>1</td>\n",
       "      <td>0</td>\n",
       "      <td>0</td>\n",
       "      <td>0</td>\n",
       "    </tr>\n",
       "    <tr>\n",
       "      <th>2</th>\n",
       "      <td>CDS</td>\n",
       "      <td>100</td>\n",
       "      <td>2021-10-01</td>\n",
       "      <td>7950.0</td>\n",
       "      <td>6060.00</td>\n",
       "      <td>5</td>\n",
       "      <td>1735.0</td>\n",
       "      <td>0.0</td>\n",
       "      <td>1890.00</td>\n",
       "      <td>1890.00</td>\n",
       "      <td>3928.57</td>\n",
       "      <td>1590.0</td>\n",
       "      <td>1212.000000</td>\n",
       "      <td>1590.0</td>\n",
       "      <td>1</td>\n",
       "      <td>0.237736</td>\n",
       "      <td>2021-10-01</td>\n",
       "      <td>2021-10-01</td>\n",
       "      <td>10</td>\n",
       "      <td>2021</td>\n",
       "      <td>39</td>\n",
       "      <td>202139</td>\n",
       "      <td>0</td>\n",
       "      <td>0</td>\n",
       "      <td>0</td>\n",
       "      <td>0</td>\n",
       "      <td>0</td>\n",
       "      <td>0</td>\n",
       "      <td>0</td>\n",
       "      <td>0</td>\n",
       "      <td>0</td>\n",
       "      <td>0</td>\n",
       "      <td>0</td>\n",
       "      <td>0</td>\n",
       "      <td>0</td>\n",
       "      <td>0</td>\n",
       "      <td>0</td>\n",
       "      <td>5.347788</td>\n",
       "      <td>1</td>\n",
       "      <td>0</td>\n",
       "      <td>0</td>\n",
       "      <td>0</td>\n",
       "    </tr>\n",
       "    <tr>\n",
       "      <th>3</th>\n",
       "      <td>CDS</td>\n",
       "      <td>100</td>\n",
       "      <td>2021-10-08</td>\n",
       "      <td>7950.0</td>\n",
       "      <td>5401.45</td>\n",
       "      <td>5</td>\n",
       "      <td>1735.0</td>\n",
       "      <td>0.0</td>\n",
       "      <td>2548.55</td>\n",
       "      <td>2548.55</td>\n",
       "      <td>3313.10</td>\n",
       "      <td>1590.0</td>\n",
       "      <td>1080.290000</td>\n",
       "      <td>1590.0</td>\n",
       "      <td>1</td>\n",
       "      <td>0.320572</td>\n",
       "      <td>2021-10-08</td>\n",
       "      <td>2021-10-08</td>\n",
       "      <td>10</td>\n",
       "      <td>2021</td>\n",
       "      <td>40</td>\n",
       "      <td>202140</td>\n",
       "      <td>0</td>\n",
       "      <td>0</td>\n",
       "      <td>0</td>\n",
       "      <td>0</td>\n",
       "      <td>0</td>\n",
       "      <td>0</td>\n",
       "      <td>0</td>\n",
       "      <td>0</td>\n",
       "      <td>0</td>\n",
       "      <td>0</td>\n",
       "      <td>0</td>\n",
       "      <td>0</td>\n",
       "      <td>0</td>\n",
       "      <td>0</td>\n",
       "      <td>0</td>\n",
       "      <td>5.333702</td>\n",
       "      <td>1</td>\n",
       "      <td>0</td>\n",
       "      <td>0</td>\n",
       "      <td>0</td>\n",
       "    </tr>\n",
       "    <tr>\n",
       "      <th>4</th>\n",
       "      <td>CDS</td>\n",
       "      <td>100</td>\n",
       "      <td>2021-10-15</td>\n",
       "      <td>9540.0</td>\n",
       "      <td>7529.47</td>\n",
       "      <td>6</td>\n",
       "      <td>2082.0</td>\n",
       "      <td>0.0</td>\n",
       "      <td>2010.53</td>\n",
       "      <td>2010.53</td>\n",
       "      <td>4954.91</td>\n",
       "      <td>1590.0</td>\n",
       "      <td>1254.911667</td>\n",
       "      <td>1590.0</td>\n",
       "      <td>1</td>\n",
       "      <td>0.210747</td>\n",
       "      <td>2021-10-15</td>\n",
       "      <td>2021-10-15</td>\n",
       "      <td>10</td>\n",
       "      <td>2021</td>\n",
       "      <td>41</td>\n",
       "      <td>202141</td>\n",
       "      <td>0</td>\n",
       "      <td>0</td>\n",
       "      <td>0</td>\n",
       "      <td>0</td>\n",
       "      <td>0</td>\n",
       "      <td>0</td>\n",
       "      <td>0</td>\n",
       "      <td>0</td>\n",
       "      <td>0</td>\n",
       "      <td>0</td>\n",
       "      <td>0</td>\n",
       "      <td>0</td>\n",
       "      <td>0</td>\n",
       "      <td>0</td>\n",
       "      <td>0</td>\n",
       "      <td>5.452185</td>\n",
       "      <td>1</td>\n",
       "      <td>0</td>\n",
       "      <td>0</td>\n",
       "      <td>0</td>\n",
       "    </tr>\n",
       "  </tbody>\n",
       "</table>\n",
       "</div>"
      ],
      "text/plain": [
       "  banner sku_id_upd         ds  GROSS_SALES_INC_VAT  NET_SALES_AMT_INC_VAT  \\\n",
       "0    CDS        100 2021-09-03               7950.0                6360.00   \n",
       "1    CDS        100 2021-09-10               7950.0                5801.00   \n",
       "2    CDS        100 2021-10-01               7950.0                6060.00   \n",
       "3    CDS        100 2021-10-08               7950.0                5401.45   \n",
       "4    CDS        100 2021-10-15               9540.0                7529.47   \n",
       "\n",
       "   units  COST_OF_GOODS_SOLD  PERMANENT_MARKDOWN_INC_VAT     Disc  total_disc  \\\n",
       "0      6              1735.0                         0.0  1590.00     1590.00   \n",
       "1      5              1735.0                         0.0  2149.00     2149.00   \n",
       "2      5              1735.0                         0.0  1890.00     1890.00   \n",
       "3      5              1735.0                         0.0  2548.55     2548.55   \n",
       "4      6              2082.0                         0.0  2010.53     2010.53   \n",
       "\n",
       "   NET_MARGIN_AMT_EXC_VAT  base_price        price  mode_base_price  promo_yn  \\\n",
       "0                 4208.95      1590.0  1060.000000           1590.0         1   \n",
       "1                 3686.51      1590.0  1160.200000           1590.0         1   \n",
       "2                 3928.57      1590.0  1212.000000           1590.0         1   \n",
       "3                 3313.10      1590.0  1080.290000           1590.0         1   \n",
       "4                 4954.91      1590.0  1254.911667           1590.0         1   \n",
       "\n",
       "   discount     ds_end middle_date  month  year  weeknum    week  \\\n",
       "0  0.333333 2021-09-03  2021-09-03      9  2021       35  202135   \n",
       "1  0.270314 2021-09-10  2021-09-10      9  2021       36  202136   \n",
       "2  0.237736 2021-10-01  2021-10-01     10  2021       39  202139   \n",
       "3  0.320572 2021-10-08  2021-10-08     10  2021       40  202140   \n",
       "4  0.210747 2021-10-15  2021-10-15     10  2021       41  202141   \n",
       "\n",
       "   has_New_Year  has_songkran  has_queen_mother_bday  has_other_holidays  \\\n",
       "0             0             0                      0                   0   \n",
       "1             0             0                      0                   0   \n",
       "2             0             0                      0                   0   \n",
       "3             0             0                      0                   0   \n",
       "4             0             0                      0                   0   \n",
       "\n",
       "   has_christmas_holiday  has_sep9_holiday  has_oct10_holiday  \\\n",
       "0                      0                 0                  0   \n",
       "1                      0                 0                  0   \n",
       "2                      0                 0                  0   \n",
       "3                      0                 0                  0   \n",
       "4                      0                 0                  0   \n",
       "\n",
       "   has_nov11_holiday  has_Chinese_New_Year  has_songkran_prior1week  \\\n",
       "0                  0                     0                        0   \n",
       "1                  0                     0                        0   \n",
       "2                  0                     0                        0   \n",
       "3                  0                     0                        0   \n",
       "4                  0                     0                        0   \n",
       "\n",
       "   has_songkran_prior2weeks  has_songkran_prior3weeks  \\\n",
       "0                         0                         0   \n",
       "1                         0                         0   \n",
       "2                         0                         0   \n",
       "3                         0                         0   \n",
       "4                         0                         0   \n",
       "\n",
       "   has_christmas_prior1week  has_christmas_prior2weeks  \\\n",
       "0                         0                          0   \n",
       "1                         0                          0   \n",
       "2                         0                          0   \n",
       "3                         0                          0   \n",
       "4                         0                          0   \n",
       "\n",
       "   has_christmas_prior3weeks   trend_2  DISCOUNT_RULE_Line Discount  \\\n",
       "0                          0  5.470811                            1   \n",
       "1                          0  5.396435                            1   \n",
       "2                          0  5.347788                            1   \n",
       "3                          0  5.333702                            1   \n",
       "4                          0  5.452185                            1   \n",
       "\n",
       "   DISCOUNT_RULE_Mix&Match Amount  DISCOUNT_RULE_Mix&Match Quantity  \\\n",
       "0                               0                                 0   \n",
       "1                               0                                 0   \n",
       "2                               0                                 0   \n",
       "3                               0                                 0   \n",
       "4                               0                                 0   \n",
       "\n",
       "   DISCOUNT_RULE_Total Or Ontop Discount  \n",
       "0                                      0  \n",
       "1                                      0  \n",
       "2                                      0  \n",
       "3                                      0  \n",
       "4                                      0  "
      ]
     },
     "execution_count": 127,
     "metadata": {},
     "output_type": "execute_result"
    }
   ],
   "source": [
    "df_feat_ohe.head()"
   ]
  },
  {
   "cell_type": "markdown",
   "id": "9f2e070d",
   "metadata": {},
   "source": [
    "### 8.4 Correlations between discount% and units"
   ]
  },
  {
   "cell_type": "code",
   "execution_count": 128,
   "id": "1aacefcc",
   "metadata": {},
   "outputs": [],
   "source": [
    "corr_df_check = df_feat_ohe.groupby(['banner','sku_id_upd'])[['units','discount']].corr().iloc[0::2][['discount']].reset_index()"
   ]
  },
  {
   "cell_type": "code",
   "execution_count": 129,
   "id": "412a62c0",
   "metadata": {},
   "outputs": [
    {
     "data": {
      "image/png": "[encoded data removed]",
      "text/plain": [
       "<Figure size 432x288 with 1 Axes>"
      ]
     },
     "metadata": {
      "needs_background": "light"
     },
     "output_type": "display_data"
    }
   ],
   "source": [
    "plt.hist(corr_df_check['discount'], bins=[i*0.05 for i in range(-20,21)]);"
   ]
  },
  {
   "cell_type": "code",
   "execution_count": 130,
   "id": "5dd394a9",
   "metadata": {},
   "outputs": [
    {
     "data": {
      "text/plain": [
       "((3464, 4), (1211, 4))"
      ]
     },
     "execution_count": 130,
     "metadata": {},
     "output_type": "execute_result"
    }
   ],
   "source": [
    "# Check number of SKUs that have negative correlation\n",
    "corr_df_check.shape, corr_df_check[corr_df_check['discount']<0].shape"
   ]
  },
  {
   "cell_type": "markdown",
   "id": "992a6feb",
   "metadata": {},
   "source": [
    "# <span style=\"color:#c6aa3d\">9. Preparing data for modeling</span><a class=\"anchor\" id=\"9-bullet\"></a>"
   ]
  },
  {
   "cell_type": "markdown",
   "id": "79fa90a0",
   "metadata": {},
   "source": [
    "### 9.1 Splitting data into Train & Test"
   ]
  },
  {
   "cell_type": "code",
   "execution_count": 131,
   "id": "8678b330",
   "metadata": {},
   "outputs": [],
   "source": [
    "df_feat_ohe['week_level'] = df_feat_ohe['banner'].astype(str)+'_'+df_feat_ohe['sku_id_upd'].astype(str)+'_'+df_feat_ohe['week'].astype(str)\n",
    "df_feat_ohe['rfg'] = df_feat_ohe['banner'].astype(str)+'_'+df_feat_ohe['sku_id_upd'].astype(str)"
   ]
  },
  {
   "cell_type": "code",
   "execution_count": 132,
   "id": "aea4894a",
   "metadata": {},
   "outputs": [],
   "source": [
    "df_feat_ohe = df_feat_ohe.sort_values(['rfg', 'ds'])\n",
    "\n",
    "df_test = df_feat_ohe.groupby('rfg',as_index=False).tail(config.test_data_length)\n",
    "df_train = df_feat_ohe[~df_feat_ohe.week_level.isin(list(df_test.week_level.unique()))]"
   ]
  },
  {
   "cell_type": "code",
   "execution_count": 133,
   "id": "600759c0",
   "metadata": {},
   "outputs": [
    {
     "data": {
      "text/plain": [
       "(13853, 44)"
      ]
     },
     "execution_count": 133,
     "metadata": {},
     "output_type": "execute_result"
    }
   ],
   "source": [
    "df_test.shape"
   ]
  },
  {
   "cell_type": "code",
   "execution_count": 134,
   "id": "3b4c1c4d",
   "metadata": {},
   "outputs": [],
   "source": [
    "# Refining test data to include only those rfgs that are also in train set\n",
    "df_test = df_test[df_test.rfg.isin(df_train.rfg.unique())]"
   ]
  },
  {
   "cell_type": "code",
   "execution_count": 135,
   "id": "0262e5d4",
   "metadata": {},
   "outputs": [
    {
     "data": {
      "text/plain": [
       "(13852, 44)"
      ]
     },
     "execution_count": 135,
     "metadata": {},
     "output_type": "execute_result"
    }
   ],
   "source": [
    "df_test.shape"
   ]
  },
  {
   "cell_type": "markdown",
   "id": "efde620e",
   "metadata": {},
   "source": [
    "### 9.2 Selecting relevant fields"
   ]
  },
  {
   "cell_type": "code",
   "execution_count": 136,
   "id": "b640e8e8",
   "metadata": {},
   "outputs": [],
   "source": [
    "feature_selection = ['banner', 'sku_id_upd', 'rfg', 'ds','units',\n",
    "                     \n",
    "                     'base_price','price','discount','NET_SALES_AMT_INC_VAT', 'GROSS_SALES_INC_VAT',\n",
    "                     \n",
    "                     'promo_yn',\n",
    "                     \n",
    "                     'trend_' + str(config.lowess_trend_n),\n",
    "                     \n",
    "                     'has_New_Year', 'has_songkran', 'has_songkran_prior1week', 'has_songkran_prior2weeks', 'has_songkran_prior3weeks',\n",
    "                     'has_queen_mother_bday', 'has_other_holidays',\n",
    "                     'has_christmas_holiday', 'has_christmas_prior1week', 'has_christmas_prior2weeks','has_christmas_prior3weeks', \n",
    "                     'has_sep9_holiday', 'has_oct10_holiday', 'has_nov11_holiday', 'has_Chinese_New_Year',\n",
    "\n",
    "                     'DISCOUNT_RULE_Line Discount', 'DISCOUNT_RULE_Mix&Match Amount', 'DISCOUNT_RULE_Mix&Match Quantity', 'DISCOUNT_RULE_Total Or Ontop Discount',\n",
    "                    ]        "
   ]
  },
  {
   "cell_type": "code",
   "execution_count": 137,
   "id": "1c3dd864",
   "metadata": {},
   "outputs": [],
   "source": [
    "df_train = df_train[feature_selection]\n",
    "df_test = df_test[feature_selection]"
   ]
  },
  {
   "cell_type": "code",
   "execution_count": 138,
   "id": "978accf7",
   "metadata": {},
   "outputs": [
    {
     "name": "stdout",
     "output_type": "stream",
     "text": [
      "size of train data (49732, 31)\n",
      "size of test data (13852, 31)\n"
     ]
    }
   ],
   "source": [
    "print(f'size of train data {df_train.shape}')\n",
    "print(f'size of test data {df_test.shape}')"
   ]
  },
  {
   "cell_type": "code",
   "execution_count": 139,
   "id": "e2634a78",
   "metadata": {},
   "outputs": [],
   "source": [
    "df_train_and_test = pd.concat([df_train, df_test], axis=0)"
   ]
  },
  {
   "cell_type": "markdown",
   "id": "b02b3414",
   "metadata": {},
   "source": [
    "### 9.3 Preparing list of SKUs with significant difference between train and test"
   ]
  },
  {
   "cell_type": "markdown",
   "id": "ee8eb99e",
   "metadata": {},
   "source": [
    "**Objective**: SKUs with significant difference in avg. units between test and train period are expected to show high model errors and possibly also unrealistic baselines. Hence, we flag such SKUs and remove them later from the analysis"
   ]
  },
  {
   "cell_type": "code",
   "execution_count": 140,
   "id": "41a6ab2f",
   "metadata": {},
   "outputs": [],
   "source": [
    "train_avg_units_df = df_train.groupby(['rfg']).agg({'units':'mean'}).reset_index()\n",
    "test_avg_units_df = df_test.groupby(['rfg']).agg({'units':'mean'}).reset_index()\n",
    "train_test_avg_units_df = pd.merge(train_avg_units_df, test_avg_units_df, how=\"inner\", on=\"rfg\")\n",
    "train_test_avg_units_df['drop_in_sales_test'] = 1-(train_test_avg_units_df['units_y']/train_test_avg_units_df['units_x'])"
   ]
  },
  {
   "cell_type": "code",
   "execution_count": 141,
   "id": "50f35706",
   "metadata": {},
   "outputs": [],
   "source": [
    "sku_type_df2 = train_test_avg_units_df.copy()\n",
    "sku_type_df2['sku_type'] = np.where(sku_type_df2['drop_in_sales_test'].abs() > config.sudden_test_units_change_threshold,\n",
    "                                    \"Sudden vol change in test period\",\"Regular SKU\")\n",
    "\n",
    "sku_type_df2.drop(['units_x','units_y','drop_in_sales_test'], axis=1, inplace = True)"
   ]
  },
  {
   "cell_type": "code",
   "execution_count": 142,
   "id": "6402a1b7",
   "metadata": {},
   "outputs": [
    {
     "data": {
      "text/plain": [
       "Regular SKU                         3357\n",
       "Sudden vol change in test period     106\n",
       "Name: sku_type, dtype: int64"
      ]
     },
     "execution_count": 142,
     "metadata": {},
     "output_type": "execute_result"
    }
   ],
   "source": [
    "sku_type_df2['sku_type'].value_counts(dropna=False)"
   ]
  },
  {
   "cell_type": "markdown",
   "id": "54cf8979",
   "metadata": {},
   "source": [
    "# <span style=\"color:#c6aa3d\">10. Modeling</span><a class=\"anchor\" id=\"10-bullet\"></a>"
   ]
  },
  {
   "cell_type": "markdown",
   "id": "7196b10f",
   "metadata": {},
   "source": [
    "### 10.1 Final features for modeling"
   ]
  },
  {
   "cell_type": "code",
   "execution_count": 143,
   "id": "3bb07626",
   "metadata": {},
   "outputs": [],
   "source": [
    "target = \"units\""
   ]
  },
  {
   "cell_type": "code",
   "execution_count": 144,
   "id": "a5c2c67c",
   "metadata": {},
   "outputs": [],
   "source": [
    "first_step_variables = [\n",
    "                        'trend_' + str(config.lowess_trend_n),\n",
    "                        \n",
    "                        'discount',\n",
    "                        \n",
    "                        'has_New_Year', 'has_Chinese_New_Year', 'has_songkran', \n",
    "                        'has_songkran_prior1week', 'has_songkran_prior2weeks', 'has_songkran_prior3weeks',                    \n",
    "                        'has_sep9_holiday', 'has_oct10_holiday', 'has_nov11_holiday',\n",
    "                        'has_christmas_holiday', \n",
    "                        'has_christmas_prior1week', 'has_christmas_prior2weeks', 'has_christmas_prior3weeks'\n",
    "                       ]\n",
    "\n",
    "\n",
    "second_step_variables = [\n",
    "                    'DISCOUNT_RULE_Line Discount', 'DISCOUNT_RULE_Mix&Match Amount', \n",
    "                    'DISCOUNT_RULE_Mix&Match Quantity'\n",
    "                        ]\n",
    "                        "
   ]
  },
  {
   "cell_type": "code",
   "execution_count": 145,
   "id": "fab0cc31",
   "metadata": {},
   "outputs": [
    {
     "name": "stdout",
     "output_type": "stream",
     "text": [
      "first step vars: ['trend_2', 'discount', 'has_New_Year', 'has_Chinese_New_Year', 'has_songkran', 'has_songkran_prior1week', 'has_songkran_prior2weeks', 'has_songkran_prior3weeks', 'has_sep9_holiday', 'has_oct10_holiday', 'has_nov11_holiday', 'has_christmas_holiday', 'has_christmas_prior1week', 'has_christmas_prior2weeks', 'has_christmas_prior3weeks']\n",
      "\n",
      "second step vars: ['DISCOUNT_RULE_Line Discount', 'DISCOUNT_RULE_Mix&Match Amount', 'DISCOUNT_RULE_Mix&Match Quantity']\n"
     ]
    }
   ],
   "source": [
    "print(f\"first step vars: {first_step_variables}\\n\")\n",
    "print(f\"second step vars: {second_step_variables}\")"
   ]
  },
  {
   "cell_type": "markdown",
   "id": "66d3fe02",
   "metadata": {},
   "source": [
    "### 10.2 Running the 2-step model"
   ]
  },
  {
   "cell_type": "markdown",
   "id": "537eaa7d",
   "metadata": {},
   "source": [
    "**Objective**: Here we run the model in 2-steps:\n",
    "- The first step takes the first step features and fits a regression model using log of units as target (if `log` transformation is chosen in `run_pool.py` function). The residuals are calculated as the ratio of actual and predicted units (for `multiplicative` option)\n",
    "- The second step then uses the second step features and fits a regression model but this time using log of residual as the target. The final model is the chained prediction of these individual models\n",
    "\n",
    "**Note**: This model is run separately for each SKU. To speed up, we parallelize the process using multiple cores of the CPU"
   ]
  },
  {
   "cell_type": "code",
   "execution_count": 146,
   "id": "ec7aec9d",
   "metadata": {},
   "outputs": [
    {
     "name": "stderr",
     "output_type": "stream",
     "text": [
      "100%|██████████████████████████████████████████████████████████████████████████████| 3463/3463 [00:57<00:00, 59.82it/s]\n"
     ]
    }
   ],
   "source": [
    "# Running model for each SKU and creation of baseline and predicted units\n",
    "with Pool(cpu_count() - 2) as p:\n",
    "    models_list_all = list(tqdm.tqdm(p.imap(generate_2_steps_models,\n",
    "                                            [(sku_df, df_train, df_test, first_step_variables, second_step_variables, \n",
    "                                              target, model_output_path, True)\n",
    "                                             for name, sku_df in df_train.groupby('rfg')], \n",
    "                                            int(df_train['rfg'].nunique()/(cpu_count() - 2))),\n",
    "                                     total=df_train['rfg'].nunique()))"
   ]
  },
  {
   "cell_type": "code",
   "execution_count": 147,
   "id": "745d1a5a",
   "metadata": {},
   "outputs": [],
   "source": [
    "# Saving model results into separate objects\n",
    "models_dict = {item[0]:item[1] for item in models_list_all }\n",
    "base_df_fin = pd.concat([item[2] for item in models_list_all])\n",
    "param_df =    pd.concat([item[3] for item in models_list_all])\n",
    "pred_df =     pd.concat([item[4] for item in models_list_all])\n",
    "wmape_df =    pd.concat([item[5] for item in models_list_all])"
   ]
  },
  {
   "cell_type": "markdown",
   "id": "0326ae7a",
   "metadata": {},
   "source": [
    "# <span style=\"color:#c6aa3d\">11. Analyzing model results</span><a class=\"anchor\" id=\"11-bullet\"></a>"
   ]
  },
  {
   "cell_type": "markdown",
   "id": "d6aced03",
   "metadata": {},
   "source": [
    "### 11.1 Plotting SKUs"
   ]
  },
  {
   "cell_type": "code",
   "execution_count": 148,
   "id": "9cd42ee5",
   "metadata": {},
   "outputs": [],
   "source": [
    "# Joining prediction, baseline & original DF together\n",
    "pred_and_baseline_plot_df = pred_df.copy()\n",
    "pred_and_baseline_plot_df = pd.merge(pred_and_baseline_plot_df, \n",
    "                             base_df_fin[[\"rfg\", \"ds\", \"yhat\"]], \n",
    "                             how=\"inner\", \n",
    "                             on=[\"rfg\", \"ds\"])\n",
    "pred_and_baseline_plot_df = pred_and_baseline_plot_df.rename(columns={\"yhat_x\": \"yhat\",\n",
    "                                                      \"yhat_y\": \"yhat_baseline\"\n",
    "                                                     })\n",
    "\n",
    "pred_and_baseline_plot_df = pd.merge(pred_and_baseline_plot_df, \n",
    "                             df_train_and_test[[\"rfg\", \"ds\", \"price\", \"base_price\"]],\n",
    "                             how=\"inner\",\n",
    "                             on=[\"rfg\", \"ds\"])\n",
    "\n",
    "assert pred_df.shape[0]==pred_and_baseline_plot_df.shape[0], \"[ERROR] Rows are being dropped\""
   ]
  },
  {
   "cell_type": "code",
   "execution_count": 149,
   "id": "31b9ced6",
   "metadata": {},
   "outputs": [],
   "source": [
    "wmape_param_plot_df = wmape_df.copy()\n",
    "\n",
    "wmape_param_plot_df = pd.merge(wmape_param_plot_df,\n",
    "                              param_df.add_prefix('coeff_'),\n",
    "                              how='inner',\n",
    "                              left_on='rfg', right_on='coeff_rfg')\n"
   ]
  },
  {
   "cell_type": "markdown",
   "id": "2bd18cb3",
   "metadata": {},
   "source": [
    "#### 11.1.1 Plotting good elasticity SKUs"
   ]
  },
  {
   "cell_type": "code",
   "execution_count": 150,
   "id": "ed1f85de",
   "metadata": {
    "scrolled": true
   },
   "outputs": [
    {
     "data": {
      "image/png": "[encoded data removed]",
      "text/plain": [
       "<Figure size 1440x360 with 2 Axes>"
      ]
     },
     "metadata": {
      "needs_background": "light"
     },
     "output_type": "display_data"
    },
    {
     "data": {
      "image/png": "[encoded data removed]",
      "text/plain": [
       "<Figure size 1440x360 with 2 Axes>"
      ]
     },
     "metadata": {
      "needs_background": "light"
     },
     "output_type": "display_data"
    },
    {
     "data": {
      "image/png": "[encoded data removed]",
      "text/plain": [
       "<Figure size 1440x360 with 2 Axes>"
      ]
     },
     "metadata": {
      "needs_background": "light"
     },
     "output_type": "display_data"
    },
    {
     "data": {
      "image/png": "[encoded data removed]",
      "text/plain": [
       "<Figure size 1440x360 with 2 Axes>"
      ]
     },
     "metadata": {
      "needs_background": "light"
     },
     "output_type": "display_data"
    },
    {
     "data": {
      "image/png": "[encoded data removed]",
      "text/plain": [
       "<Figure size 1440x360 with 2 Axes>"
      ]
     },
     "metadata": {
      "needs_background": "light"
     },
     "output_type": "display_data"
    }
   ],
   "source": [
    "for item in wmape_param_plot_df.query('test_wmape<0.3 and coeff_discount>2.5').head(5).rfg.unique():\n",
    "    split_date = pred_and_baseline_plot_df[pred_and_baseline_plot_df.rfg==item]['ds'].tail(config.test_data_length).min().strftime(\"%Y%m%d\")\n",
    "    plot_ts(pred_and_baseline_plot_df[pred_and_baseline_plot_df.rfg==item], left_axis=['units', 'yhat', 'yhat_baseline'], \n",
    "            right_axis=['price', 'base_price'], plot_dateline=split_date)"
   ]
  },
  {
   "cell_type": "markdown",
   "id": "84d91d04",
   "metadata": {},
   "source": [
    "#### 11.1.2 Plotting negative elasticity SKUs"
   ]
  },
  {
   "cell_type": "code",
   "execution_count": 151,
   "id": "8903ff6e",
   "metadata": {
    "scrolled": true
   },
   "outputs": [
    {
     "data": {
      "image/png": "[encoded data removed]",
      "text/plain": [
       "<Figure size 1440x360 with 2 Axes>"
      ]
     },
     "metadata": {
      "needs_background": "light"
     },
     "output_type": "display_data"
    },
    {
     "data": {
      "image/png": "[encoded data removed]",
      "text/plain": [
       "<Figure size 1440x360 with 2 Axes>"
      ]
     },
     "metadata": {
      "needs_background": "light"
     },
     "output_type": "display_data"
    },
    {
     "data": {
      "image/png": "[encoded data removed]",
      "text/plain": [
       "<Figure size 1440x360 with 2 Axes>"
      ]
     },
     "metadata": {
      "needs_background": "light"
     },
     "output_type": "display_data"
    },
    {
     "data": {
      "image/png": "[encoded data removed]",
      "text/plain": [
       "<Figure size 1440x360 with 2 Axes>"
      ]
     },
     "metadata": {
      "needs_background": "light"
     },
     "output_type": "display_data"
    },
    {
     "data": {
      "image/png": "[encoded data removed]",
      "text/plain": [
       "<Figure size 1440x360 with 2 Axes>"
      ]
     },
     "metadata": {
      "needs_background": "light"
     },
     "output_type": "display_data"
    }
   ],
   "source": [
    "for item in wmape_param_plot_df.query('test_wmape<0.3 and coeff_discount<0').head(5).rfg.unique():\n",
    "    split_date = pred_and_baseline_plot_df[pred_and_baseline_plot_df.rfg==item]['ds'].tail(config.test_data_length).min().strftime(\"%Y%m%d\")\n",
    "    plot_ts(pred_and_baseline_plot_df[pred_and_baseline_plot_df.rfg==item], left_axis=['units', 'yhat', 'yhat_baseline'], \n",
    "            right_axis=['price', 'base_price'], plot_dateline=split_date)"
   ]
  },
  {
   "cell_type": "markdown",
   "id": "bd81d63f",
   "metadata": {},
   "source": [
    "### 11.2  Analyzing test wmape"
   ]
  },
  {
   "cell_type": "code",
   "execution_count": 152,
   "id": "9d6a2b13",
   "metadata": {},
   "outputs": [
    {
     "data": {
      "text/plain": [
       "count               3463.00\n",
       "mean         82849823227.15\n",
       "std        4875483303554.23\n",
       "min                    0.01\n",
       "25%                    0.19\n",
       "50%                    0.28\n",
       "75%                    0.40\n",
       "max      286908833226285.31\n",
       "Name: test_wmape, dtype: object"
      ]
     },
     "execution_count": 152,
     "metadata": {},
     "output_type": "execute_result"
    }
   ],
   "source": [
    "wmape_df['test_wmape'].describe().apply('{0:.2f}'.format)"
   ]
  },
  {
   "cell_type": "code",
   "execution_count": 153,
   "id": "560a8b95",
   "metadata": {},
   "outputs": [
    {
     "data": {
      "text/plain": [
       "count    3448.00\n",
       "mean        0.37\n",
       "std         0.47\n",
       "min         0.01\n",
       "25%         0.19\n",
       "50%         0.28\n",
       "75%         0.40\n",
       "max         8.27\n",
       "Name: test_wmape, dtype: object"
      ]
     },
     "execution_count": 153,
     "metadata": {},
     "output_type": "execute_result"
    }
   ],
   "source": [
    "# Analysing the same plot after removing very high wmape values\n",
    "wmape_df[wmape_df['test_wmape'] <= config.test_wmape_filter_threshold]['test_wmape'].describe().apply('{0:.2f}'.format)"
   ]
  },
  {
   "cell_type": "code",
   "execution_count": 154,
   "id": "8322789b",
   "metadata": {},
   "outputs": [],
   "source": [
    "wmap_df_wo_high_val = wmape_df[wmape_df['test_wmape'] <= config.test_wmape_filter_threshold]"
   ]
  },
  {
   "cell_type": "markdown",
   "id": "99cca19e",
   "metadata": {},
   "source": [
    "### 11.3 Analyzing sudden test units change SKUs"
   ]
  },
  {
   "cell_type": "code",
   "execution_count": 155,
   "id": "eb332b54",
   "metadata": {},
   "outputs": [
    {
     "data": {
      "text/html": [
       "<div>\n",
       "<style scoped>\n",
       "    .dataframe tbody tr th:only-of-type {\n",
       "        vertical-align: middle;\n",
       "    }\n",
       "\n",
       "    .dataframe tbody tr th {\n",
       "        vertical-align: top;\n",
       "    }\n",
       "\n",
       "    .dataframe thead tr th {\n",
       "        text-align: left;\n",
       "    }\n",
       "</style>\n",
       "<table border=\"1\" class=\"dataframe\">\n",
       "  <thead>\n",
       "    <tr>\n",
       "      <th></th>\n",
       "      <th>sku_type</th>\n",
       "      <th colspan=\"2\" halign=\"left\">test_wmape</th>\n",
       "    </tr>\n",
       "    <tr>\n",
       "      <th></th>\n",
       "      <th></th>\n",
       "      <th>mean</th>\n",
       "      <th>count</th>\n",
       "    </tr>\n",
       "  </thead>\n",
       "  <tbody>\n",
       "    <tr>\n",
       "      <th>0</th>\n",
       "      <td>Regular SKU</td>\n",
       "      <td>0.359022</td>\n",
       "      <td>3343</td>\n",
       "    </tr>\n",
       "    <tr>\n",
       "      <th>1</th>\n",
       "      <td>Sudden vol change in test period</td>\n",
       "      <td>0.815295</td>\n",
       "      <td>105</td>\n",
       "    </tr>\n",
       "  </tbody>\n",
       "</table>\n",
       "</div>"
      ],
      "text/plain": [
       "                           sku_type test_wmape      \n",
       "                                          mean count\n",
       "0                       Regular SKU   0.359022  3343\n",
       "1  Sudden vol change in test period   0.815295   105"
      ]
     },
     "execution_count": 155,
     "metadata": {},
     "output_type": "execute_result"
    }
   ],
   "source": [
    "sudden_vol_drop_df = sku_type_df2.copy()\n",
    "sudden_vol_drop_df = wmap_df_wo_high_val.merge(sudden_vol_drop_df,\n",
    "                                               on='rfg',\n",
    "                                               how='left')\n",
    "\n",
    "sudden_vol_drop_df.groupby('sku_type').agg({'test_wmape':['mean', 'count']}).reset_index()"
   ]
  },
  {
   "cell_type": "markdown",
   "id": "2719d050",
   "metadata": {},
   "source": [
    "### 11.4 Analyzing elasticity"
   ]
  },
  {
   "cell_type": "code",
   "execution_count": 156,
   "id": "f27cd64a",
   "metadata": {},
   "outputs": [
    {
     "data": {
      "image/png": "[encoded data removed]",
      "text/plain": [
       "<Figure size 432x288 with 1 Axes>"
      ]
     },
     "metadata": {
      "needs_background": "light"
     },
     "output_type": "display_data"
    }
   ],
   "source": [
    "plt.hist(param_df['discount'], bins=[i for i in range(-15,16)]);"
   ]
  },
  {
   "cell_type": "code",
   "execution_count": 157,
   "id": "6ae5aa63",
   "metadata": {},
   "outputs": [
    {
     "data": {
      "text/plain": [
       "0.3306381749927808"
      ]
     },
     "execution_count": 157,
     "metadata": {},
     "output_type": "execute_result"
    }
   ],
   "source": [
    "# Checking proportion of negative elasticity SKUs\n",
    "param_df[param_df['discount']<0].shape[0]/param_df.shape[0]"
   ]
  },
  {
   "cell_type": "markdown",
   "id": "ccaf3994",
   "metadata": {},
   "source": [
    "# <span style=\"color:#c6aa3d\">12. Filtering results</span><a class=\"anchor\" id=\"12-bullet\"></a>"
   ]
  },
  {
   "cell_type": "markdown",
   "id": "f1ed0690",
   "metadata": {},
   "source": [
    "**Objective**: Following SKUs are removed:\n",
    "- ***SKUs with very high test wmape***: Caused due to some specific SKUs- can be looked into further but ignoring due to very few such SKUs\n",
    "- ***SKUs with negative or very high elasticity***: Negative elasticity is counter-intuitive and could be due to stock-outs and would require inventory data going back 2-3 years to investigate (however currently we don't have such historical inventory data). Also removing few very high wmape SKUs\n",
    "- ***SKUs with avg. test period units very different from avg. train period units***: Few SKUs have test period avg. units very different than train period avg. units, leading to high wmape\n",
    "- ***SKUs that have very high baseline vs. actual units***: Remove such few SKUs as they skew the total baseline"
   ]
  },
  {
   "cell_type": "markdown",
   "id": "c7c5ae32",
   "metadata": {},
   "source": [
    "### 12.1 Preparing exclusion SKU list"
   ]
  },
  {
   "cell_type": "code",
   "execution_count": 158,
   "id": "83461b13",
   "metadata": {},
   "outputs": [
    {
     "name": "stdout",
     "output_type": "stream",
     "text": [
      "SKU/banner combinations to be excluded:1245\n"
     ]
    }
   ],
   "source": [
    "high_test_wmape_SKU = wmape_df[wmape_df['test_wmape']>config.test_wmape_filter_threshold]['rfg']\n",
    "high_elasticity_SKU = param_df[param_df['discount']>config.elasticity_filter_threshold]['rfg']\n",
    "negative_elasticity_SKU = param_df[param_df['discount']<0]['rfg']\n",
    "sudden_vol_change_SKUs = sku_type_df2[sku_type_df2['sku_type']==\"Sudden vol change in test period\"]['rfg']\n",
    "\n",
    "# Excluding SKU with very high baseline values\n",
    "base_fin_exclusion = base_df_fin.copy()\n",
    "base_fin_exclusion['baseline_actual_diff'] = (base_fin_exclusion['yhat']/base_fin_exclusion['units']) - 1\n",
    "base_fin_exclusion = base_fin_exclusion[base_fin_exclusion['baseline_actual_diff'] > config.base_units_diff_multiplier_threshold]\n",
    "base_fin_exclusion = base_fin_exclusion['rfg']\n",
    "\n",
    "SKU_exclusion_list = pd.concat([high_test_wmape_SKU, high_elasticity_SKU,\n",
    "                                negative_elasticity_SKU, \n",
    "                                sudden_vol_change_SKUs,\n",
    "                               base_fin_exclusion\n",
    "                               ])\n",
    "\n",
    "SKU_exclusion_list = SKU_exclusion_list.drop_duplicates()\n",
    "\n",
    "print(f\"SKU/banner combinations to be excluded:{SKU_exclusion_list.shape[0]}\")"
   ]
  },
  {
   "cell_type": "markdown",
   "id": "96049a46",
   "metadata": {},
   "source": [
    "### 12.2 Filtering results"
   ]
  },
  {
   "cell_type": "code",
   "execution_count": 159,
   "id": "10ad7dad",
   "metadata": {},
   "outputs": [],
   "source": [
    "base_df_final =  base_df_fin[~(base_df_fin['rfg'].isin(SKU_exclusion_list))]\n",
    "param_df_final = param_df[~(param_df['rfg'].isin(SKU_exclusion_list))]\n",
    "pred_df_final =  pred_df[~(pred_df['rfg'].isin(SKU_exclusion_list))]\n",
    "wmape_df_final = wmape_df[~(wmape_df['rfg'].isin(SKU_exclusion_list))]"
   ]
  },
  {
   "cell_type": "markdown",
   "id": "9f956465",
   "metadata": {},
   "source": [
    "# <span style=\"color:#c6aa3d\">13. Calculating elasticities and exporting results</span><a class=\"anchor\" id=\"13-bullet\"></a>"
   ]
  },
  {
   "cell_type": "markdown",
   "id": "372886a2",
   "metadata": {},
   "source": [
    "### 13.1 Mapping brand, subclass, Credit/Consignment flag and net sales"
   ]
  },
  {
   "cell_type": "code",
   "execution_count": 160,
   "id": "bbba4915",
   "metadata": {
    "scrolled": false
   },
   "outputs": [],
   "source": [
    "df_elasticity = param_df_final.copy().add_prefix('coeff_').rename(columns={'coeff_rfg':'rfg'})\n",
    "df_elasticity = df_elasticity.merge(wmape_df_final, on='rfg', how='inner')\n",
    "\n",
    "df_elasticity['banner'] = df_elasticity['rfg'].str.split('_').str[0]\n",
    "df_elasticity['sku_id_upd'] = df_elasticity['rfg'].str.split('_').str[1]\n",
    "\n",
    "# Mapping brand and subclass\n",
    "df_elasticity = df_elasticity.merge(df_sku_new, on='sku_id_upd', how='left')\n",
    "\n",
    "# Mapping credit/consignment flag\n",
    "df_elasticity = df_elasticity.merge(model_df[['sku_id_upd','CREDIT_CONSIGN']].drop_duplicates(), on='sku_id_upd', how='left')\n",
    "\n",
    "# Mapping net sales\n",
    "sku_net_sales_df = df_train_and_test.groupby('rfg')['NET_SALES_AMT_INC_VAT'].sum().reset_index()\n",
    "df_elasticity = df_elasticity.merge(sku_net_sales_df, on='rfg', how='inner')"
   ]
  },
  {
   "cell_type": "markdown",
   "id": "b5dd0bbc",
   "metadata": {},
   "source": [
    "### 13.2 Calculating avg. weighted elasticity for brand and subclass"
   ]
  },
  {
   "cell_type": "code",
   "execution_count": 161,
   "id": "a4109830",
   "metadata": {},
   "outputs": [],
   "source": [
    "# Elasticity at banner-brand level\n",
    "df_elasticity_brand = custom_funcs.roll_up_elasticities(df_elasticity,\n",
    "                                                        group_vars = ['banner','BRAND_GROUP','CREDIT_CONSIGN'],\n",
    "                                                       wmape = 'test_wmape',\n",
    "                                                        values = 'coeff_discount',\n",
    "                                                       weights = 'NET_SALES_AMT_INC_VAT')"
   ]
  },
  {
   "cell_type": "code",
   "execution_count": 162,
   "id": "495203b7",
   "metadata": {},
   "outputs": [],
   "source": [
    "# Elasticity at banner-brand-subclass level\n",
    "df_elasticity_subclass = custom_funcs.roll_up_elasticities(df_elasticity,\n",
    "                                                        group_vars = ['banner','BRAND_GROUP','CREDIT_CONSIGN','SUBCLASS'],\n",
    "                                                       wmape = 'test_wmape',\n",
    "                                                        values = 'coeff_discount',\n",
    "                                                       weights = 'NET_SALES_AMT_INC_VAT')"
   ]
  },
  {
   "cell_type": "markdown",
   "id": "72e44848",
   "metadata": {},
   "source": [
    "### 13.3 Exporting results"
   ]
  },
  {
   "cell_type": "code",
   "execution_count": 163,
   "id": "ec51a1c4",
   "metadata": {},
   "outputs": [],
   "source": [
    "# Exporting elasticities\n",
    "df_elasticity_brand.to_csv(notebook_output_path + 'elasticity_by_brand_banner.csv', index=False)\n",
    "df_elasticity_subclass.to_csv(notebook_output_path + 'elasticity_by_brand_subclass_banner.csv', index=False)\n",
    "\n",
    "# Exporting baseline\n",
    "base_df_final.to_csv(notebook_output_path + 'sku_baseline.csv', index=False)"
   ]
  },
  {
   "cell_type": "markdown",
   "id": "578fdbd5",
   "metadata": {},
   "source": [
    "# <span style=\"color:#c6aa3d\">14. Exporting interim files for later analysis</span><a class=\"anchor\" id=\"14-bullet\"></a>"
   ]
  },
  {
   "cell_type": "markdown",
   "id": "be778536",
   "metadata": {},
   "source": [
    "### 14.1 Exporting model results"
   ]
  },
  {
   "cell_type": "code",
   "execution_count": 164,
   "id": "7c37d657",
   "metadata": {},
   "outputs": [],
   "source": [
    "param_df_final.to_pickle(baseline_interim_out_path + \"param_df_final.pkl\")\n",
    "pred_df_final.to_pickle(baseline_interim_out_path + \"pred_df_final.pkl\")\n",
    "base_df_final.to_pickle(baseline_interim_out_path + \"base_df_final.pkl\")"
   ]
  },
  {
   "cell_type": "markdown",
   "id": "0820aa65",
   "metadata": {},
   "source": [
    "### 14.2 Exporting features data"
   ]
  },
  {
   "cell_type": "code",
   "execution_count": 165,
   "id": "afed9df1",
   "metadata": {},
   "outputs": [],
   "source": [
    "df_feat_ohe.to_pickle(baseline_interim_out_path + \"features_df.pkl\")"
   ]
  },
  {
   "cell_type": "markdown",
   "id": "c15c494f",
   "metadata": {},
   "source": [
    "### 14.3 Exporting SKU attributes mapping"
   ]
  },
  {
   "cell_type": "code",
   "execution_count": 166,
   "id": "70c477c3",
   "metadata": {},
   "outputs": [],
   "source": [
    "df_sku_new_mapping = df_sku_new.copy()\n",
    "df_sku_new_mapping = df_sku_new_mapping.merge(sales_filter[['sku_id_upd','CREDIT_CONSIGN']].drop_duplicates(),\n",
    "                                             on='sku_id_upd', how='left')\n",
    "\n",
    "# Check that no many to many mapping\n",
    "assert df_sku_new_mapping.shape[0]==df_sku_new.shape[0]\n",
    "\n",
    "df_sku_new_mapping.to_pickle(baseline_interim_out_path + \"sku_new_mapping.pkl\")"
   ]
  },
  {
   "cell_type": "markdown",
   "id": "80bc517d",
   "metadata": {},
   "source": [
    "### 14.4 Exporting aggregated raw modeling data (selected metrics)"
   ]
  },
  {
   "cell_type": "code",
   "execution_count": 167,
   "id": "7494814f",
   "metadata": {},
   "outputs": [],
   "source": [
    "model_df_grouped = model_df.groupby(group).agg({'PROMOTION_REBATE_AMT': 'sum',\n",
    "                                                'SPECIAL_GP_AMT': 'sum',\n",
    "                                                'DISCOUNT_SHARING_AMT': 'sum',\n",
    "                                                'GROSS_SALES_EXC_VAT':'sum',\n",
    "                                                'NET_SALES_AMT_EXC_VAT':'sum'}).reset_index()\n",
    "\n",
    "model_df_grouped.to_pickle(baseline_interim_out_path + \"model_df_grouped.pkl\")"
   ]
  },
  {
   "cell_type": "markdown",
   "id": "ac354d9d",
   "metadata": {},
   "source": [
    "### 14.5 Exporting aggregated full raw data (selected metrics)"
   ]
  },
  {
   "cell_type": "code",
   "execution_count": 168,
   "id": "6ba3f10f",
   "metadata": {},
   "outputs": [],
   "source": [
    "full_df_grouped = sales_filter.groupby(group).agg({'NET_SALES_AMT_INC_VAT':'sum',\n",
    "                                                   'NET_SALES_AMT_EXC_VAT':'sum',\n",
    "                                                   'COST_OF_GOODS_SOLD':'sum'}).reset_index()\n",
    "\n",
    "full_df_grouped.to_pickle(baseline_interim_out_path + \"full_df_grouped.pkl\")"
   ]
  },
  {
   "cell_type": "code",
   "execution_count": null,
   "id": "231d4a9f",
   "metadata": {},
   "outputs": [],
   "source": []
  }
 ],
 "metadata": {
  "interpreter": {
   "hash": "a5d2b326fdc3f4118f37633ddd42160fa8b53277d5703fd7f711e9abf10d95be"
  },
  "kernelspec": {
   "display_name": "Python 3",
   "language": "python",
   "name": "python3"
  },
  "language_info": {
   "codemirror_mode": {
    "name": "ipython",
    "version": 3
   },
   "file_extension": ".py",
   "mimetype": "text/x-python",
   "name": "python",
   "nbconvert_exporter": "python",
   "pygments_lexer": "ipython3",
   "version": "3.8.8"
  }
 },
 "nbformat": 4,
 "nbformat_minor": 5
}
